{
 "cells": [
  {
   "cell_type": "markdown",
   "metadata": {},
   "source": [
    "# Fitting Batch Norm into a Deep Network\n",
    "\n",
    "###  Applying batch normalization\n",
    "\n",
    "The application of batch norm to a small 2 layer network follows below\n",
    "\n",
    "|Step | equation | Governed by | Comments |\n",
    "|---|-----------|----|----|\n",
    "| 1|$X$ -> $Z^{[1]}$  | $w^{[1]}$ $b^{[1]}$ | |\n",
    "| |$Z^{[1]}$->$\\tilde{Z}^{[1]}$  | $\\gamma^{[1]}$, $\\beta^{[1]}$ | Batch normalization|\n",
    "| |$\\tilde{Z}$->$a^{[1]}=g^{[1]}(\\tilde{Z})$  |  | |\n",
    "| 2|-> $Z^{[2]}$  | $w^{[2]}$ $b^{[2]}$ | |\n",
    "| |$Z^{[2]}$->$\\tilde{Z}^{[2]}$  | $\\gamma^{[2]}$, $\\beta^{[2]}$ | Batch normalization|\n",
    "| |$\\tilde{Z}$->$a^{[2]}=g^{[2]}(\\tilde{Z})$  |  | | |\n",
    "\n",
    "Etc.\n",
    "\n",
    "The parameters of your small network are as follows:\n",
    "\n",
    "$$ W^{[1]},b^{[1]},W^{[2]},b^{[1]} $$\n",
    "$$ \\beta^{[1]},\\gamma^{[1]},\\beta^{[2]},\\gamma^{[1]} $$\n",
    "\n"
   ]
  },
  {
   "cell_type": "markdown",
   "metadata": {},
   "source": [
    "### Minibatch considerations\n",
    "Talked aobut it like we are applying batch norm on the entire dataset. But realistically, we will be applying it using the minibatch method\n",
    "\n",
    "|Step | equation | Governed by | Comments |\n",
    "|---|-----------|----|----|\n",
    "| 1|$X^{\\{1\\}}$ -> $Z^{[1]}$ ...  | | |\n",
    "| 2|$X^{\\{2\\}}$ -> $Z^{[1]}$ ... |  | |\n",
    "| 3|$X^{\\{2\\}}$ -> $Z^{[1]}$ ... |  | |\n",
    "\n",
    "because the batch norm sets the norm equal to zero. We can drop b values since there will be no intercept as we find the norm of each batch.\n"
   ]
  },
  {
   "cell_type": "markdown",
   "metadata": {},
   "source": [
    "### Psuedo Code"
   ]
  },
  {
   "cell_type": "markdown",
   "metadata": {},
   "source": [
    "```python\n",
    "for t =1 ... minibatchNum:\n",
    "    computer forward prop on X minibatch\n",
    "        in each hidden layer, use Batch Norm (BN) to replace Z[] with Z tilde\n",
    "    use backprop to computer dw, dbeta, dgamma\n",
    "    update W = W - alpha*dW\n",
    "    update beta = beta - alpha*dbeta\n",
    "    update gamma = gamma - alpha*dgamma\n",
    "\n",
    "```\n",
    "\n",
    "Then use gradient descent to update all the above values, with RMSprop, adam, or Gradient Descent with Momentum"
   ]
  },
  {
   "cell_type": "code",
   "execution_count": null,
   "metadata": {
    "collapsed": true
   },
   "outputs": [],
   "source": []
  }
 ],
 "metadata": {
  "anaconda-cloud": {},
  "kernelspec": {
   "display_name": "Python [py36]",
   "language": "python",
   "name": "Python [py36]"
  },
  "language_info": {
   "codemirror_mode": {
    "name": "ipython",
    "version": 3
   },
   "file_extension": ".py",
   "mimetype": "text/x-python",
   "name": "python",
   "nbconvert_exporter": "python",
   "pygments_lexer": "ipython3",
   "version": "3.6.2"
  }
 },
 "nbformat": 4,
 "nbformat_minor": 0
}
