{
 "cells": [
  {
   "cell_type": "code",
   "execution_count": 1,
   "metadata": {},
   "outputs": [],
   "source": [
    "import numpy as np\n",
    "import pandas as pd\n",
    "import patsy\n",
    "from sklearn.model_selection import train_test_split\n",
    "from sklearn.ensemble import RandomForestClassifier\n",
    "from sklearn.metrics import log_loss, roc_auc_score"
   ]
  },
  {
   "cell_type": "markdown",
   "metadata": {},
   "source": [
    "## Final Practice Problem\n",
    "\n",
    "Write code to build features for this problem. A simple representation such as bag of words should work but feel free to make it more interesting.\n",
    "\n",
    "1. Create a pandas dataframe for your data.\n",
    "2. Divide the data into 80% training and 20% validation.\n",
    "3. What is the loss function that you would use for this problem? Why?\n",
    "4. Create a linear model  and report training and validation accuracy.\n",
    "5. Create a Random Forest and report training and validation accuracy.\n",
    "6. What are the hyper-parameters of a these model and how would you go about finding the optimal values? Please produce some plots showing range of hyperparameter(s) vs loss.\n"
   ]
  },
  {
   "cell_type": "code",
   "execution_count": 2,
   "metadata": {},
   "outputs": [
    {
     "data": {
      "text/html": [
       "<div>\n",
       "<style scoped>\n",
       "    .dataframe tbody tr th:only-of-type {\n",
       "        vertical-align: middle;\n",
       "    }\n",
       "\n",
       "    .dataframe tbody tr th {\n",
       "        vertical-align: top;\n",
       "    }\n",
       "\n",
       "    .dataframe thead th {\n",
       "        text-align: right;\n",
       "    }\n",
       "</style>\n",
       "<table border=\"1\" class=\"dataframe\">\n",
       "  <thead>\n",
       "    <tr style=\"text-align: right;\">\n",
       "      <th></th>\n",
       "      <th>id</th>\n",
       "      <th>qid1</th>\n",
       "      <th>qid2</th>\n",
       "      <th>question1</th>\n",
       "      <th>question2</th>\n",
       "      <th>is_duplicate</th>\n",
       "    </tr>\n",
       "  </thead>\n",
       "  <tbody>\n",
       "    <tr>\n",
       "      <th>0</th>\n",
       "      <td>0</td>\n",
       "      <td>1</td>\n",
       "      <td>2</td>\n",
       "      <td>What is the step by step guide to invest in sh...</td>\n",
       "      <td>What is the step by step guide to invest in sh...</td>\n",
       "      <td>0</td>\n",
       "    </tr>\n",
       "    <tr>\n",
       "      <th>1</th>\n",
       "      <td>1</td>\n",
       "      <td>3</td>\n",
       "      <td>4</td>\n",
       "      <td>What is the story of Kohinoor (Koh-i-Noor) Dia...</td>\n",
       "      <td>What would happen if the Indian government sto...</td>\n",
       "      <td>0</td>\n",
       "    </tr>\n",
       "    <tr>\n",
       "      <th>2</th>\n",
       "      <td>2</td>\n",
       "      <td>5</td>\n",
       "      <td>6</td>\n",
       "      <td>How can I increase the speed of my internet co...</td>\n",
       "      <td>How can Internet speed be increased by hacking...</td>\n",
       "      <td>0</td>\n",
       "    </tr>\n",
       "    <tr>\n",
       "      <th>3</th>\n",
       "      <td>3</td>\n",
       "      <td>7</td>\n",
       "      <td>8</td>\n",
       "      <td>Why am I mentally very lonely? How can I solve...</td>\n",
       "      <td>Find the remainder when [math]23^{24}[/math] i...</td>\n",
       "      <td>0</td>\n",
       "    </tr>\n",
       "    <tr>\n",
       "      <th>4</th>\n",
       "      <td>4</td>\n",
       "      <td>9</td>\n",
       "      <td>10</td>\n",
       "      <td>Which one dissolve in water quikly sugar, salt...</td>\n",
       "      <td>Which fish would survive in salt water?</td>\n",
       "      <td>0</td>\n",
       "    </tr>\n",
       "  </tbody>\n",
       "</table>\n",
       "</div>"
      ],
      "text/plain": [
       "   id  qid1  qid2                                          question1  \\\n",
       "0   0     1     2  What is the step by step guide to invest in sh...   \n",
       "1   1     3     4  What is the story of Kohinoor (Koh-i-Noor) Dia...   \n",
       "2   2     5     6  How can I increase the speed of my internet co...   \n",
       "3   3     7     8  Why am I mentally very lonely? How can I solve...   \n",
       "4   4     9    10  Which one dissolve in water quikly sugar, salt...   \n",
       "\n",
       "                                           question2  is_duplicate  \n",
       "0  What is the step by step guide to invest in sh...             0  \n",
       "1  What would happen if the Indian government sto...             0  \n",
       "2  How can Internet speed be increased by hacking...             0  \n",
       "3  Find the remainder when [math]23^{24}[/math] i...             0  \n",
       "4            Which fish would survive in salt water?             0  "
      ]
     },
     "execution_count": 2,
     "metadata": {},
     "output_type": "execute_result"
    }
   ],
   "source": [
    "df = pd.read_csv('./train.csv')\n",
    "df.head()"
   ]
  },
  {
   "cell_type": "markdown",
   "metadata": {},
   "source": [
    "## Important! Check to see the initial proportion\n",
    "\n",
    "It's important to note that we need to be better than ~64% accuracy for improvement"
   ]
  },
  {
   "cell_type": "code",
   "execution_count": 3,
   "metadata": {},
   "outputs": [
    {
     "name": "stdout",
     "output_type": "stream",
     "text": [
      "0    255027\n",
      "1    149263\n",
      "Name: is_duplicate, dtype: int64\n",
      "0.369197853026\n"
     ]
    }
   ],
   "source": [
    "print(df['is_duplicate'].value_counts())\n",
    "print(df['is_duplicate'].mean())"
   ]
  },
  {
   "cell_type": "code",
   "execution_count": null,
   "metadata": {},
   "outputs": [],
   "source": []
  },
  {
   "cell_type": "markdown",
   "metadata": {},
   "source": [
    "### Feature Engineering"
   ]
  },
  {
   "cell_type": "markdown",
   "metadata": {},
   "source": [
    "#### Cleaning up the data, and splitting up questions by words"
   ]
  },
  {
   "cell_type": "code",
   "execution_count": 4,
   "metadata": {},
   "outputs": [
    {
     "name": "stdout",
     "output_type": "stream",
     "text": [
      "CPU times: user 6.4 s, sys: 407 ms, total: 6.8 s\n",
      "Wall time: 6.81 s\n"
     ]
    }
   ],
   "source": [
    "%%time\n",
    "import re\n",
    "\n",
    "# get rid of punctuation\n",
    "mask = re.compile('[^a-zA-Z0-9 ]')\n",
    "df = pd.read_csv('./train.csv')\n",
    "\n",
    "df['question1'].fillna('',inplace=True)\n",
    "df['question2'].fillna('',inplace=True)\n",
    "\n",
    "df['question1'] = df['question1'].map(lambda x : re.sub(mask,' ', x))\n",
    "df['question2'] = df['question2'].map(lambda x : re.sub(mask,' ', x))\n",
    "\n",
    "def split_punc(x):\n",
    "    orig = x\n",
    "    sents = [x]\n",
    "    if '.' in orig:\n",
    "        sents.extend([z for y in sents for z in y.split('.')])\n",
    "    elif '?' in orig:\n",
    "        sents.extend([z for y in sents for z in y.split('?')])\n",
    "    elif '!' in orig:\n",
    "        sents.extend([z for y in sents for z in y.split('!')])\n",
    "        \n",
    "    return sents\n",
    "\n",
    "df['q1_words'] = df['question1'].map(lambda x : set(x.lower().split(' ')))\n",
    "df['q2_words'] = df['question2'].map(lambda x : set(x.lower().split(' ')))\n",
    "df.head()\n",
    "#df['q1_words'] = df['question1'].map(lambda x : x.split(' '))"
   ]
  },
  {
   "cell_type": "markdown",
   "metadata": {},
   "source": [
    "#### Calculating some simple word stats with counting\n",
    "- length by char of questions\n",
    "- number of sentences\n",
    "- number of words\n",
    "- difference between the two questions in counts"
   ]
  },
  {
   "cell_type": "code",
   "execution_count": 5,
   "metadata": {},
   "outputs": [
    {
     "name": "stdout",
     "output_type": "stream",
     "text": [
      "CPU times: user 33.5 s, sys: 541 ms, total: 34 s\n",
      "Wall time: 34 s\n"
     ]
    }
   ],
   "source": [
    "%%time\n",
    "df['q1_len'] = df['question1'].map(lambda x : len(x))\n",
    "df['q2_len'] = df['question2'].map(lambda x : len(x))\n",
    "df['q_len_diff'] = df['q1_len'] - df['q2_len']\n",
    "\n",
    "df['q1_sent_len'] = df['question1'].map(lambda x : len(split_punc(x)))\n",
    "df['q2_sent_len'] = df['question2'].map(lambda x : len(split_punc(x)))\n",
    "df['q_sent_len_diff'] = df['q1_sent_len'] - df['q2_sent_len']\n",
    "\n",
    "\n",
    "df['q1_word_len'] = df['question1'].map(lambda x : len(x.split(' ')))\n",
    "df['q2_word_len'] = df['question2'].map(lambda x : len(x.split(' ')))\n",
    "df['q_word_len_diff'] = df['q1_word_len'] - df['q2_word_len']\n",
    "\n",
    "def total_unique(set_a, set_b):\n",
    "    return len(set_a.union(set_b))\n",
    "\n",
    "def common(set_a, set_b):\n",
    "    return len(set_a.intersection(set_b))\n",
    "\n",
    "def different(set_a, set_b):\n",
    "    return len(set_a.difference(set_b))+len(set_b.difference(set_a))\n",
    "    \n",
    "## using set notation\n",
    "df['unique_ct']  = df.apply(lambda x : total_unique(x['q1_words'],x['q2_words']), axis=1)\n",
    "df['common_ct'] = df.apply(lambda x : common(x['q1_words'],x['q2_words']), axis=1)\n",
    "df['difference_ct'] = df.apply(lambda x : different(x['q1_words'],x['q2_words']), axis=1)"
   ]
  },
  {
   "cell_type": "markdown",
   "metadata": {},
   "source": [
    "### Turning some of our calculated fields into percentages"
   ]
  },
  {
   "cell_type": "code",
   "execution_count": 6,
   "metadata": {
    "scrolled": false
   },
   "outputs": [
    {
     "data": {
      "text/html": [
       "<div>\n",
       "<style scoped>\n",
       "    .dataframe tbody tr th:only-of-type {\n",
       "        vertical-align: middle;\n",
       "    }\n",
       "\n",
       "    .dataframe tbody tr th {\n",
       "        vertical-align: top;\n",
       "    }\n",
       "\n",
       "    .dataframe thead th {\n",
       "        text-align: right;\n",
       "    }\n",
       "</style>\n",
       "<table border=\"1\" class=\"dataframe\">\n",
       "  <thead>\n",
       "    <tr style=\"text-align: right;\">\n",
       "      <th></th>\n",
       "      <th>0</th>\n",
       "      <th>1</th>\n",
       "      <th>2</th>\n",
       "      <th>3</th>\n",
       "      <th>4</th>\n",
       "    </tr>\n",
       "  </thead>\n",
       "  <tbody>\n",
       "    <tr>\n",
       "      <th>id</th>\n",
       "      <td>0</td>\n",
       "      <td>1</td>\n",
       "      <td>2</td>\n",
       "      <td>3</td>\n",
       "      <td>4</td>\n",
       "    </tr>\n",
       "    <tr>\n",
       "      <th>qid1</th>\n",
       "      <td>1</td>\n",
       "      <td>3</td>\n",
       "      <td>5</td>\n",
       "      <td>7</td>\n",
       "      <td>9</td>\n",
       "    </tr>\n",
       "    <tr>\n",
       "      <th>qid2</th>\n",
       "      <td>2</td>\n",
       "      <td>4</td>\n",
       "      <td>6</td>\n",
       "      <td>8</td>\n",
       "      <td>10</td>\n",
       "    </tr>\n",
       "    <tr>\n",
       "      <th>question1</th>\n",
       "      <td>What is the step by step guide to invest in sh...</td>\n",
       "      <td>What is the story of Kohinoor  Koh i Noor  Dia...</td>\n",
       "      <td>How can I increase the speed of my internet co...</td>\n",
       "      <td>Why am I mentally very lonely  How can I solve...</td>\n",
       "      <td>Which one dissolve in water quikly sugar  salt...</td>\n",
       "    </tr>\n",
       "    <tr>\n",
       "      <th>question2</th>\n",
       "      <td>What is the step by step guide to invest in sh...</td>\n",
       "      <td>What would happen if the Indian government sto...</td>\n",
       "      <td>How can Internet speed be increased by hacking...</td>\n",
       "      <td>Find the remainder when  math 23  24   math  i...</td>\n",
       "      <td>Which fish would survive in salt water</td>\n",
       "    </tr>\n",
       "    <tr>\n",
       "      <th>is_duplicate</th>\n",
       "      <td>0</td>\n",
       "      <td>0</td>\n",
       "      <td>0</td>\n",
       "      <td>0</td>\n",
       "      <td>0</td>\n",
       "    </tr>\n",
       "    <tr>\n",
       "      <th>q1_words</th>\n",
       "      <td>{, is, to, invest, the, in, india, share, by, ...</td>\n",
       "      <td>{, is, i, the, noor, koh, of, kohinoor, story,...</td>\n",
       "      <td>{internet, while, , i, speed, connection, the,...</td>\n",
       "      <td>{, very, mentally, i, solve, can, am, lonely, ...</td>\n",
       "      <td>{, quikly, and, water, carbon, dissolve, one, ...</td>\n",
       "    </tr>\n",
       "    <tr>\n",
       "      <th>q2_words</th>\n",
       "      <td>{, is, to, invest, the, in, share, by, market,...</td>\n",
       "      <td>{, government, i, would, diamond, the, back, n...</td>\n",
       "      <td>{be, internet, , speed, dns, through, can, inc...</td>\n",
       "      <td>{, remainder, is, the, when, 23, 24, math, div...</td>\n",
       "      <td>{, would, survive, water, which, salt, in, fish}</td>\n",
       "    </tr>\n",
       "    <tr>\n",
       "      <th>q1_len</th>\n",
       "      <td>66</td>\n",
       "      <td>51</td>\n",
       "      <td>73</td>\n",
       "      <td>50</td>\n",
       "      <td>76</td>\n",
       "    </tr>\n",
       "    <tr>\n",
       "      <th>q2_len</th>\n",
       "      <td>57</td>\n",
       "      <td>88</td>\n",
       "      <td>59</td>\n",
       "      <td>65</td>\n",
       "      <td>39</td>\n",
       "    </tr>\n",
       "    <tr>\n",
       "      <th>q_len_diff</th>\n",
       "      <td>9</td>\n",
       "      <td>-37</td>\n",
       "      <td>14</td>\n",
       "      <td>-15</td>\n",
       "      <td>37</td>\n",
       "    </tr>\n",
       "    <tr>\n",
       "      <th>q1_sent_len</th>\n",
       "      <td>1</td>\n",
       "      <td>1</td>\n",
       "      <td>1</td>\n",
       "      <td>1</td>\n",
       "      <td>1</td>\n",
       "    </tr>\n",
       "    <tr>\n",
       "      <th>q2_sent_len</th>\n",
       "      <td>1</td>\n",
       "      <td>1</td>\n",
       "      <td>1</td>\n",
       "      <td>1</td>\n",
       "      <td>1</td>\n",
       "    </tr>\n",
       "    <tr>\n",
       "      <th>q_sent_len_diff</th>\n",
       "      <td>0</td>\n",
       "      <td>0</td>\n",
       "      <td>0</td>\n",
       "      <td>0</td>\n",
       "      <td>0</td>\n",
       "    </tr>\n",
       "    <tr>\n",
       "      <th>q1_word_len</th>\n",
       "      <td>15</td>\n",
       "      <td>13</td>\n",
       "      <td>15</td>\n",
       "      <td>13</td>\n",
       "      <td>16</td>\n",
       "    </tr>\n",
       "    <tr>\n",
       "      <th>q2_word_len</th>\n",
       "      <td>13</td>\n",
       "      <td>18</td>\n",
       "      <td>11</td>\n",
       "      <td>19</td>\n",
       "      <td>8</td>\n",
       "    </tr>\n",
       "    <tr>\n",
       "      <th>q_word_len_diff</th>\n",
       "      <td>2</td>\n",
       "      <td>-5</td>\n",
       "      <td>4</td>\n",
       "      <td>-6</td>\n",
       "      <td>8</td>\n",
       "    </tr>\n",
       "    <tr>\n",
       "      <th>unique_ct</th>\n",
       "      <td>13</td>\n",
       "      <td>18</td>\n",
       "      <td>21</td>\n",
       "      <td>21</td>\n",
       "      <td>17</td>\n",
       "    </tr>\n",
       "    <tr>\n",
       "      <th>common_ct</th>\n",
       "      <td>12</td>\n",
       "      <td>8</td>\n",
       "      <td>5</td>\n",
       "      <td>1</td>\n",
       "      <td>5</td>\n",
       "    </tr>\n",
       "    <tr>\n",
       "      <th>difference_ct</th>\n",
       "      <td>1</td>\n",
       "      <td>10</td>\n",
       "      <td>16</td>\n",
       "      <td>20</td>\n",
       "      <td>12</td>\n",
       "    </tr>\n",
       "    <tr>\n",
       "      <th>diff_pct</th>\n",
       "      <td>0.0769231</td>\n",
       "      <td>0.555556</td>\n",
       "      <td>0.761905</td>\n",
       "      <td>0.952381</td>\n",
       "      <td>0.705882</td>\n",
       "    </tr>\n",
       "    <tr>\n",
       "      <th>common_pct</th>\n",
       "      <td>0.923077</td>\n",
       "      <td>0.444444</td>\n",
       "      <td>0.238095</td>\n",
       "      <td>0.047619</td>\n",
       "      <td>0.294118</td>\n",
       "    </tr>\n",
       "  </tbody>\n",
       "</table>\n",
       "</div>"
      ],
      "text/plain": [
       "                                                                 0  \\\n",
       "id                                                               0   \n",
       "qid1                                                             1   \n",
       "qid2                                                             2   \n",
       "question1        What is the step by step guide to invest in sh...   \n",
       "question2        What is the step by step guide to invest in sh...   \n",
       "is_duplicate                                                     0   \n",
       "q1_words         {, is, to, invest, the, in, india, share, by, ...   \n",
       "q2_words         {, is, to, invest, the, in, share, by, market,...   \n",
       "q1_len                                                          66   \n",
       "q2_len                                                          57   \n",
       "q_len_diff                                                       9   \n",
       "q1_sent_len                                                      1   \n",
       "q2_sent_len                                                      1   \n",
       "q_sent_len_diff                                                  0   \n",
       "q1_word_len                                                     15   \n",
       "q2_word_len                                                     13   \n",
       "q_word_len_diff                                                  2   \n",
       "unique_ct                                                       13   \n",
       "common_ct                                                       12   \n",
       "difference_ct                                                    1   \n",
       "diff_pct                                                 0.0769231   \n",
       "common_pct                                                0.923077   \n",
       "\n",
       "                                                                 1  \\\n",
       "id                                                               1   \n",
       "qid1                                                             3   \n",
       "qid2                                                             4   \n",
       "question1        What is the story of Kohinoor  Koh i Noor  Dia...   \n",
       "question2        What would happen if the Indian government sto...   \n",
       "is_duplicate                                                     0   \n",
       "q1_words         {, is, i, the, noor, koh, of, kohinoor, story,...   \n",
       "q2_words         {, government, i, would, diamond, the, back, n...   \n",
       "q1_len                                                          51   \n",
       "q2_len                                                          88   \n",
       "q_len_diff                                                     -37   \n",
       "q1_sent_len                                                      1   \n",
       "q2_sent_len                                                      1   \n",
       "q_sent_len_diff                                                  0   \n",
       "q1_word_len                                                     13   \n",
       "q2_word_len                                                     18   \n",
       "q_word_len_diff                                                 -5   \n",
       "unique_ct                                                       18   \n",
       "common_ct                                                        8   \n",
       "difference_ct                                                   10   \n",
       "diff_pct                                                  0.555556   \n",
       "common_pct                                                0.444444   \n",
       "\n",
       "                                                                 2  \\\n",
       "id                                                               2   \n",
       "qid1                                                             5   \n",
       "qid2                                                             6   \n",
       "question1        How can I increase the speed of my internet co...   \n",
       "question2        How can Internet speed be increased by hacking...   \n",
       "is_duplicate                                                     0   \n",
       "q1_words         {internet, while, , i, speed, connection, the,...   \n",
       "q2_words         {be, internet, , speed, dns, through, can, inc...   \n",
       "q1_len                                                          73   \n",
       "q2_len                                                          59   \n",
       "q_len_diff                                                      14   \n",
       "q1_sent_len                                                      1   \n",
       "q2_sent_len                                                      1   \n",
       "q_sent_len_diff                                                  0   \n",
       "q1_word_len                                                     15   \n",
       "q2_word_len                                                     11   \n",
       "q_word_len_diff                                                  4   \n",
       "unique_ct                                                       21   \n",
       "common_ct                                                        5   \n",
       "difference_ct                                                   16   \n",
       "diff_pct                                                  0.761905   \n",
       "common_pct                                                0.238095   \n",
       "\n",
       "                                                                 3  \\\n",
       "id                                                               3   \n",
       "qid1                                                             7   \n",
       "qid2                                                             8   \n",
       "question1        Why am I mentally very lonely  How can I solve...   \n",
       "question2        Find the remainder when  math 23  24   math  i...   \n",
       "is_duplicate                                                     0   \n",
       "q1_words         {, very, mentally, i, solve, can, am, lonely, ...   \n",
       "q2_words         {, remainder, is, the, when, 23, 24, math, div...   \n",
       "q1_len                                                          50   \n",
       "q2_len                                                          65   \n",
       "q_len_diff                                                     -15   \n",
       "q1_sent_len                                                      1   \n",
       "q2_sent_len                                                      1   \n",
       "q_sent_len_diff                                                  0   \n",
       "q1_word_len                                                     13   \n",
       "q2_word_len                                                     19   \n",
       "q_word_len_diff                                                 -6   \n",
       "unique_ct                                                       21   \n",
       "common_ct                                                        1   \n",
       "difference_ct                                                   20   \n",
       "diff_pct                                                  0.952381   \n",
       "common_pct                                                0.047619   \n",
       "\n",
       "                                                                 4  \n",
       "id                                                               4  \n",
       "qid1                                                             9  \n",
       "qid2                                                            10  \n",
       "question1        Which one dissolve in water quikly sugar  salt...  \n",
       "question2                  Which fish would survive in salt water   \n",
       "is_duplicate                                                     0  \n",
       "q1_words         {, quikly, and, water, carbon, dissolve, one, ...  \n",
       "q2_words          {, would, survive, water, which, salt, in, fish}  \n",
       "q1_len                                                          76  \n",
       "q2_len                                                          39  \n",
       "q_len_diff                                                      37  \n",
       "q1_sent_len                                                      1  \n",
       "q2_sent_len                                                      1  \n",
       "q_sent_len_diff                                                  0  \n",
       "q1_word_len                                                     16  \n",
       "q2_word_len                                                      8  \n",
       "q_word_len_diff                                                  8  \n",
       "unique_ct                                                       17  \n",
       "common_ct                                                        5  \n",
       "difference_ct                                                   12  \n",
       "diff_pct                                                  0.705882  \n",
       "common_pct                                                0.294118  "
      ]
     },
     "execution_count": 6,
     "metadata": {},
     "output_type": "execute_result"
    }
   ],
   "source": [
    "df['diff_pct'] = df['difference_ct'] / df['unique_ct']\n",
    "df['common_pct'] = df['common_ct'] / df['unique_ct']\n",
    "df.head(5).transpose()"
   ]
  },
  {
   "cell_type": "markdown",
   "metadata": {},
   "source": [
    "### Let's see if this enough"
   ]
  },
  {
   "cell_type": "code",
   "execution_count": 7,
   "metadata": {},
   "outputs": [],
   "source": [
    "y = df['is_duplicate'].values\n",
    "features =[ x for x in df.columns.values if x not in ['is_duplicate','question1','question2','q1_words','q2_words']]\n",
    "X = df[features]"
   ]
  },
  {
   "cell_type": "code",
   "execution_count": 8,
   "metadata": {},
   "outputs": [
    {
     "data": {
      "text/plain": [
       "RandomForestClassifier(bootstrap=True, class_weight=None, criterion='entropy',\n",
       "            max_depth=None, max_features='auto', max_leaf_nodes=None,\n",
       "            min_impurity_decrease=0.0, min_impurity_split=None,\n",
       "            min_samples_leaf=1, min_samples_split=2,\n",
       "            min_weight_fraction_leaf=0.0, n_estimators=10, n_jobs=1,\n",
       "            oob_score=False, random_state=None, verbose=0,\n",
       "            warm_start=False)"
      ]
     },
     "execution_count": 8,
     "metadata": {},
     "output_type": "execute_result"
    }
   ],
   "source": [
    "X_train, X_test, y_train, y_test = train_test_split(X,y, test_size=0.2)\n",
    "\n",
    "rfc = RandomForestClassifier(criterion='entropy')\n",
    "rfc.fit(X_train, y_train)"
   ]
  },
  {
   "cell_type": "code",
   "execution_count": 9,
   "metadata": {},
   "outputs": [
    {
     "data": {
      "text/plain": [
       "0.9858146380073709"
      ]
     },
     "execution_count": 9,
     "metadata": {},
     "output_type": "execute_result"
    }
   ],
   "source": [
    "rfc.score(X_train,y_train)"
   ]
  },
  {
   "cell_type": "code",
   "execution_count": 10,
   "metadata": {},
   "outputs": [
    {
     "data": {
      "text/plain": [
       "0.75960325508916871"
      ]
     },
     "execution_count": 10,
     "metadata": {},
     "output_type": "execute_result"
    }
   ],
   "source": [
    "rfc.score(X_test,y_test)"
   ]
  },
  {
   "cell_type": "markdown",
   "metadata": {},
   "source": [
    "### Let's compare the prediction functions\n",
    "- predictions give 0, 1 for classification\n",
    "- logprob gives log probabilities\n",
    "- prob gives the number of classes you have and the probability for each row for class, so a row could be 50/50 or 80/20"
   ]
  },
  {
   "cell_type": "code",
   "execution_count": 11,
   "metadata": {},
   "outputs": [
    {
     "data": {
      "text/plain": [
       "array([0, 0, 0, ..., 1, 0, 0], dtype=int64)"
      ]
     },
     "execution_count": 11,
     "metadata": {},
     "output_type": "execute_result"
    }
   ],
   "source": [
    "y_pred = rfc.predict(X_test)\n",
    "y_pred"
   ]
  },
  {
   "cell_type": "code",
   "execution_count": 12,
   "metadata": {},
   "outputs": [
    {
     "data": {
      "text/plain": [
       "array([0, 0, 0, ..., 1, 0, 0], dtype=int64)"
      ]
     },
     "execution_count": 12,
     "metadata": {},
     "output_type": "execute_result"
    }
   ],
   "source": [
    "y_logprob = rfc.predict(X_test)\n",
    "y_logprob"
   ]
  },
  {
   "cell_type": "code",
   "execution_count": 13,
   "metadata": {},
   "outputs": [
    {
     "data": {
      "text/plain": [
       "array([[ 0.7,  0.3],\n",
       "       [ 0.9,  0.1],\n",
       "       [ 0.9,  0.1],\n",
       "       ..., \n",
       "       [ 0.4,  0.6],\n",
       "       [ 0.8,  0.2],\n",
       "       [ 1. ,  0. ]])"
      ]
     },
     "execution_count": 13,
     "metadata": {},
     "output_type": "execute_result"
    }
   ],
   "source": [
    "y_prob = rfc.predict_proba(X_test)\n",
    "y_prob"
   ]
  },
  {
   "cell_type": "code",
   "execution_count": 14,
   "metadata": {},
   "outputs": [],
   "source": [
    "y_results = pd.DataFrame(y_prob)\n",
    "y_results['logprob'] = y_logprob\n",
    "y_results['pred'] = y_pred\n",
    "y_results['actuals'] = y_test"
   ]
  },
  {
   "cell_type": "code",
   "execution_count": 15,
   "metadata": {},
   "outputs": [
    {
     "data": {
      "text/html": [
       "<div>\n",
       "<style scoped>\n",
       "    .dataframe tbody tr th:only-of-type {\n",
       "        vertical-align: middle;\n",
       "    }\n",
       "\n",
       "    .dataframe tbody tr th {\n",
       "        vertical-align: top;\n",
       "    }\n",
       "\n",
       "    .dataframe thead th {\n",
       "        text-align: right;\n",
       "    }\n",
       "</style>\n",
       "<table border=\"1\" class=\"dataframe\">\n",
       "  <thead>\n",
       "    <tr style=\"text-align: right;\">\n",
       "      <th></th>\n",
       "      <th>0</th>\n",
       "      <th>1</th>\n",
       "      <th>logprob</th>\n",
       "      <th>pred</th>\n",
       "      <th>actuals</th>\n",
       "    </tr>\n",
       "  </thead>\n",
       "  <tbody>\n",
       "    <tr>\n",
       "      <th>0</th>\n",
       "      <td>0.7</td>\n",
       "      <td>0.3</td>\n",
       "      <td>0</td>\n",
       "      <td>0</td>\n",
       "      <td>0</td>\n",
       "    </tr>\n",
       "    <tr>\n",
       "      <th>1</th>\n",
       "      <td>0.9</td>\n",
       "      <td>0.1</td>\n",
       "      <td>0</td>\n",
       "      <td>0</td>\n",
       "      <td>1</td>\n",
       "    </tr>\n",
       "    <tr>\n",
       "      <th>2</th>\n",
       "      <td>0.9</td>\n",
       "      <td>0.1</td>\n",
       "      <td>0</td>\n",
       "      <td>0</td>\n",
       "      <td>0</td>\n",
       "    </tr>\n",
       "    <tr>\n",
       "      <th>3</th>\n",
       "      <td>0.8</td>\n",
       "      <td>0.2</td>\n",
       "      <td>0</td>\n",
       "      <td>0</td>\n",
       "      <td>0</td>\n",
       "    </tr>\n",
       "    <tr>\n",
       "      <th>4</th>\n",
       "      <td>0.4</td>\n",
       "      <td>0.6</td>\n",
       "      <td>1</td>\n",
       "      <td>1</td>\n",
       "      <td>1</td>\n",
       "    </tr>\n",
       "    <tr>\n",
       "      <th>5</th>\n",
       "      <td>0.9</td>\n",
       "      <td>0.1</td>\n",
       "      <td>0</td>\n",
       "      <td>0</td>\n",
       "      <td>0</td>\n",
       "    </tr>\n",
       "    <tr>\n",
       "      <th>6</th>\n",
       "      <td>0.3</td>\n",
       "      <td>0.7</td>\n",
       "      <td>1</td>\n",
       "      <td>1</td>\n",
       "      <td>0</td>\n",
       "    </tr>\n",
       "    <tr>\n",
       "      <th>7</th>\n",
       "      <td>0.6</td>\n",
       "      <td>0.4</td>\n",
       "      <td>0</td>\n",
       "      <td>0</td>\n",
       "      <td>0</td>\n",
       "    </tr>\n",
       "    <tr>\n",
       "      <th>8</th>\n",
       "      <td>1.0</td>\n",
       "      <td>0.0</td>\n",
       "      <td>0</td>\n",
       "      <td>0</td>\n",
       "      <td>0</td>\n",
       "    </tr>\n",
       "    <tr>\n",
       "      <th>9</th>\n",
       "      <td>0.9</td>\n",
       "      <td>0.1</td>\n",
       "      <td>0</td>\n",
       "      <td>0</td>\n",
       "      <td>1</td>\n",
       "    </tr>\n",
       "  </tbody>\n",
       "</table>\n",
       "</div>"
      ],
      "text/plain": [
       "     0    1  logprob  pred  actuals\n",
       "0  0.7  0.3        0     0        0\n",
       "1  0.9  0.1        0     0        1\n",
       "2  0.9  0.1        0     0        0\n",
       "3  0.8  0.2        0     0        0\n",
       "4  0.4  0.6        1     1        1\n",
       "5  0.9  0.1        0     0        0\n",
       "6  0.3  0.7        1     1        0\n",
       "7  0.6  0.4        0     0        0\n",
       "8  1.0  0.0        0     0        0\n",
       "9  0.9  0.1        0     0        1"
      ]
     },
     "execution_count": 15,
     "metadata": {},
     "output_type": "execute_result"
    }
   ],
   "source": [
    "y_results.head(10)"
   ]
  },
  {
   "cell_type": "markdown",
   "metadata": {},
   "source": [
    "### Optimal values vs. loss?"
   ]
  },
  {
   "cell_type": "code",
   "execution_count": 16,
   "metadata": {},
   "outputs": [],
   "source": [
    "scores = []\n",
    "for i in range(3,15):\n",
    "    rfc = RandomForestClassifier(criterion='entropy', n_jobs=-1, n_estimators=i)\n",
    "    rfc.fit(X_train, y_train)\n",
    "    y_pred = rfc.predict(X_test)\n",
    "    ll = log_loss(y_pred,y_test)\n",
    "    scores.append((i,ll))\n"
   ]
  },
  {
   "cell_type": "code",
   "execution_count": 17,
   "metadata": {},
   "outputs": [],
   "source": [
    "ll_plot = pd.DataFrame(scores)"
   ]
  },
  {
   "cell_type": "code",
   "execution_count": 18,
   "metadata": {},
   "outputs": [
    {
     "data": {
      "text/plain": [
       "<matplotlib.axes._subplots.AxesSubplot at 0x1a78ac64a8>"
      ]
     },
     "execution_count": 18,
     "metadata": {},
     "output_type": "execute_result"
    },
    {
     "data": {
      "image/png": "[encoded data removed]",
      "text/plain": [
       "<matplotlib.figure.Figure at 0x1a788fd0b8>"
      ]
     },
     "metadata": {},
     "output_type": "display_data"
    }
   ],
   "source": [
    "%matplotlib inline\n",
    "ll_plot.plot(x=0,y=1)"
   ]
  }
 ],
 "metadata": {
  "kernelspec": {
   "display_name": "Python 3",
   "language": "python",
   "name": "python3"
  },
  "language_info": {
   "codemirror_mode": {
    "name": "ipython",
    "version": 3
   },
   "file_extension": ".py",
   "mimetype": "text/x-python",
   "name": "python",
   "nbconvert_exporter": "python",
   "pygments_lexer": "ipython3",
   "version": "3.6.3"
  }
 },
 "nbformat": 4,
 "nbformat_minor": 2
}
