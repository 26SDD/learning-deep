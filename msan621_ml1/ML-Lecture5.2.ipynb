{
 "cells": [
  {
   "cell_type": "markdown",
   "metadata": {},
   "source": [
    "# ML-Lecture5.2"
   ]
  },
  {
   "cell_type": "code",
   "execution_count": 1,
   "metadata": {
    "collapsed": true
   },
   "outputs": [],
   "source": [
    "import sys\n",
    "sys.path.append('/Users/tlee010/Desktop/github_repos/fastai/')"
   ]
  },
  {
   "cell_type": "code",
   "execution_count": 2,
   "metadata": {
    "collapsed": true
   },
   "outputs": [],
   "source": [
    "%load_ext autoreload\n",
    "%autoreload 2"
   ]
  },
  {
   "cell_type": "code",
   "execution_count": 3,
   "metadata": {
    "collapsed": true
   },
   "outputs": [],
   "source": [
    "%matplotlib inline\n",
    "\n",
    "import sys\n",
    "\n",
    "# or wherever you have saved the repo\n",
    "sys.path.append('/Users/tlee010/Desktop/github_repos/fastai/')\n",
    "\n",
    "from fastai.imports import *\n",
    "from fastai.structured import *\n",
    "from sklearn.ensemble import RandomForestRegressor, RandomForestClassifier\n",
    "from IPython.display import display\n",
    "from sklearn import metrics"
   ]
  },
  {
   "cell_type": "markdown",
   "metadata": {},
   "source": [
    "### Previously: Random Forests in General\n",
    "\n",
    "Downside - can't extrapolate very well. \n",
    "\n",
    "They are a great starting point. There's a huge catalog of machine learning tools out there. Books don't curate it down. Why would you use a Support Vector Machine today? Theoretically elegant, and exciting previously, but practically dont see them having any place today.\n",
    "\n",
    "Hard to write about Random Forests, since its hard to look at it theoretically. GBM / XGBOOST etc. Now industry is more invested in the algorithms and are doing more work.\n",
    "\n",
    "Packages being used today , top 5 or 6 did not exist more than 3 years ago.\n",
    "\n",
    "**Examples**:\n",
    "- Feature interactions for RF?\n",
    "\n",
    "##### How big should your validation set be? \n",
    "\n",
    "First need to answer the question, how accurate does this algorithm need to be? \n",
    "\n",
    "|parameter | model 1| model 2|\n",
    "|-----------|--------|-------|\n",
    "|n|2000|2000|\n",
    "|acc|99.4%|99.2%|\n",
    "|wrong|12|16|\n",
    "|cats|50%|50%|\n",
    "|wrong cats|6|8|\n",
    "\n",
    "There's a practical consideration here. 0.2% could be a big deal depending on what the application. 22 is where the t distribution turns into a normal distribution.\n",
    "\n",
    "**Rule of Thumb 1** - Once we have a n > 22, it behaves more normally. So 22 out of 1000 etc. \n",
    "\n",
    "**Rule of Thumb 2** - If you have binomial data\n",
    "\n",
    "|Metric |Binomial |\n",
    "|----|----|\n",
    "|np | mean|\n",
    "|np(1-p)|std|\n",
    "|std/sqrt(n)|SE|\n",
    "\n",
    "**Rule of Thumb 3** - training set should have an equal number of the rare object, you should over sample until its the same size as the common class. There's also a way to weight the uncommon class, so its picked more often\n",
    "\n",
    "** one shot learning ** - recognize somethign that you have only seen once\n",
    "** zero shot learning ** - not covered in this class, but recognize something you never seen before"
   ]
  },
  {
   "cell_type": "markdown",
   "metadata": {},
   "source": [
    "## 1. Returning to our Random Forest Class\n",
    "\n",
    "HW - add all the other RF interpretations that we have already covered"
   ]
  },
  {
   "cell_type": "code",
   "execution_count": 5,
   "metadata": {
    "collapsed": false
   },
   "outputs": [
    {
     "name": "stdout",
     "output_type": "stream",
     "text": [
      "import complete\n"
     ]
    }
   ],
   "source": [
    "import feather\n",
    "df_raw = feather.read_dataframe('/Users/tlee010/kaggle/bulldozers/bulldozers-raw')\n",
    "print('import complete')"
   ]
  },
  {
   "cell_type": "code",
   "execution_count": 7,
   "metadata": {
    "collapsed": true
   },
   "outputs": [],
   "source": [
    "df_trn, y_trn, nas = proc_df(df_raw, 'SalePrice')"
   ]
  },
  {
   "cell_type": "code",
   "execution_count": 8,
   "metadata": {
    "collapsed": false
   },
   "outputs": [],
   "source": [
    "def split_vals(a,n): return a[:n], a[n:]\n",
    "n_valid = 12000\n",
    "n_trn = len(df_trn)-n_valid\n",
    "X_train, X_valid = split_vals(df_trn, n_trn)\n",
    "y_train, y_valid = split_vals(y_trn, n_trn)\n",
    "raw_train, raw_valid = split_vals(df_raw, n_trn)"
   ]
  },
  {
   "cell_type": "code",
   "execution_count": 9,
   "metadata": {
    "collapsed": true
   },
   "outputs": [],
   "source": [
    "x_sub = X_train[['YearMade', 'MachineHoursCurrentMeter']]"
   ]
  },
  {
   "cell_type": "markdown",
   "metadata": {},
   "source": [
    "### 1.1 Basic Data Structure"
   ]
  },
  {
   "cell_type": "code",
   "execution_count": 15,
   "metadata": {
    "collapsed": true
   },
   "outputs": [],
   "source": [
    "class TreeEnsemble():\n",
    "    def __init__(self, x, y, n_trees, sample_sz, min_leaf=5):\n",
    "        np.random.seed(42)\n",
    "        self.x,self.y,self.sample_sz,self.min_leaf = x,y,sample_sz,min_leaf\n",
    "        self.trees = [self.create_tree() for i in range(n_trees)]\n",
    "    \n",
    "    def create_tree(self):\n",
    "        # get random indexes\n",
    "        rnd_idxs = np.random.permutation(len(self.y))[:self.sample_sz]\n",
    "        \n",
    "        # then return a decision tree based on a random dataset\n",
    "        return DecisionTree(self.x.iloc[rnd_idxs], self.y[rnd_idxs], min_leaf=self.min_leaf)\n",
    "        \n",
    "    def predict(self, x):\n",
    "        \n",
    "        # currently returning the mean of the prediction of all the \n",
    "        # trees\n",
    "        return np.mean([t.predict(x) for t in self.trees], axis=0)"
   ]
  },
  {
   "cell_type": "markdown",
   "metadata": {},
   "source": [
    "### 1.2 Decision Tree Version 1"
   ]
  },
  {
   "cell_type": "code",
   "execution_count": 16,
   "metadata": {
    "collapsed": true
   },
   "outputs": [],
   "source": [
    "class DecisionTree():\n",
    "    def __init__(self, x, y, idxs=None, min_leaf=5):\n",
    "        self.x,self.y,self.idxs,self.min_leaf = x,y,idxs,min_leaf"
   ]
  },
  {
   "cell_type": "markdown",
   "metadata": {},
   "source": [
    "## 2. Now we need to flesh out the decision Tree.\n",
    "\n",
    "We are going to write it as if everything exists\n",
    "\n",
    "### 2.1 Decision Tree Version 2"
   ]
  },
  {
   "cell_type": "code",
   "execution_count": 17,
   "metadata": {
    "collapsed": false
   },
   "outputs": [],
   "source": [
    "class DecisionTree():\n",
    "    def __init__(self, x, y, idxs=None, min_leaf=5):\n",
    "        \"\"\"\n",
    "        x : input features\n",
    "        y : target variable\n",
    "        idxs: keep track of what rows went where\n",
    "        \"\"\"\n",
    "        \n",
    "        # if its the first run, set to all\n",
    "        if idxs is None: idxs=np.arange(len(y))\n",
    "            \n",
    "        # store the data, and count rows and cols\n",
    "        self.x,self.y,self.idxs,self.min_leaf = x,y,idxs,min_leaf\n",
    "        self.n,self.c = len(idxs), x.shape[1]\n",
    "        \n",
    "        # every node in the tree will have the mean\n",
    "        # target variable\n",
    "        self.val = np.mean(y[idxs])\n",
    "        \n",
    "        # how effective was the split at this tree\n",
    "        # only if not a leaf node\n",
    "        self.score = float('inf')\n",
    "        \n",
    "        # having building root, which vari\n",
    "        # should we split and how much should we split on?\n",
    "        self.find_varsplit()\n",
    "        \n",
    "        \n",
    "    # This just does one decision; we'll make it recursive later\n",
    "    def find_varsplit(self):\n",
    "        \n",
    "        # go through each variable, and find a better split\n",
    "        # assuming all features are sent\n",
    "        for i in range(self.c): self.find_better_split(i)\n",
    "            \n",
    "    # We'll write this later!\n",
    "    def find_better_split(self, var_idx): pass\n",
    "    \n",
    "    \n",
    "    \"\"\"\n",
    "    Property means, dont need to call ()\n",
    "    will be calculated on the fly\n",
    "    \"\"\"\n",
    "    \n",
    "    @property\n",
    "    def split_name(self): return self.x.columns[self.var_idx]\n",
    "    \n",
    "    @property\n",
    "    def split_col(self): return self.x.values[self.idxs,self.var_idx]\n",
    "        \n",
    "    @property\n",
    "    def is_leaf(self): return self.score == float('inf')\n",
    "\n",
    "        \n",
    "    def __repr__(self):\n",
    "        \"\"\"\n",
    "        This is overloading the print function\n",
    "        so that everytime we print the decision tree\n",
    "        it will print some sort of data\n",
    "        \"\"\"\n",
    "        s = f'n: {self.n}; val:{self.val}'\n",
    "        if not self.is_leaf:\n",
    "            s += f'; score:{self.score}; split:{self.split}; var:{self.split_name}'\n",
    "        return s"
   ]
  },
  {
   "cell_type": "code",
   "execution_count": 18,
   "metadata": {
    "collapsed": false
   },
   "outputs": [],
   "source": [
    "m = TreeEnsemble(X_train, y_train, n_trees=10, sample_sz=1000, min_leaf=3)"
   ]
  },
  {
   "cell_type": "markdown",
   "metadata": {},
   "source": [
    "#### Test our __repr___ implementation"
   ]
  },
  {
   "cell_type": "code",
   "execution_count": null,
   "metadata": {
    "collapsed": true
   },
   "outputs": [],
   "source": [
    "m.trees[0]"
   ]
  },
  {
   "cell_type": "markdown",
   "metadata": {},
   "source": [
    "#### Look at all the indexes in the tree (hint: all)"
   ]
  },
  {
   "cell_type": "code",
   "execution_count": 21,
   "metadata": {
    "collapsed": false
   },
   "outputs": [
    {
     "data": {
      "text/plain": [
       "array([0, 1, 2, 3, 4, 5, 6, 7, 8, 9])"
      ]
     },
     "execution_count": 21,
     "metadata": {},
     "output_type": "execute_result"
    }
   ],
   "source": [
    "m.trees[0].idxs[:10]"
   ]
  },
  {
   "cell_type": "markdown",
   "metadata": {},
   "source": [
    "###  2.2 Comparison to Sklearn"
   ]
  },
  {
   "cell_type": "code",
   "execution_count": 22,
   "metadata": {
    "collapsed": false
   },
   "outputs": [
    {
     "data": {
      "text/plain": [
       "Index(['YearMade', 'MachineHoursCurrentMeter'], dtype='object')"
      ]
     },
     "execution_count": 22,
     "metadata": {},
     "output_type": "execute_result"
    }
   ],
   "source": [
    "ens = TreeEnsemble(x_sub, y_train, 1, 1000)\n",
    "tree = ens.trees[0]\n",
    "x_samp,y_samp = tree.x, tree.y\n",
    "x_samp.columns"
   ]
  },
  {
   "cell_type": "markdown",
   "metadata": {},
   "source": [
    "#### Scikit Learn - 1 Tree, 1 Decision, No bootstrapping"
   ]
  },
  {
   "cell_type": "code",
   "execution_count": 23,
   "metadata": {
    "collapsed": false
   },
   "outputs": [
    {
     "data": {
      "image/svg+xml": [
       "<?xml version=\"1.0\" encoding=\"UTF-8\" standalone=\"no\"?>\n",
       "<!DOCTYPE svg PUBLIC \"-//W3C//DTD SVG 1.1//EN\"\n",
       " \"http://www.w3.org/Graphics/SVG/1.1/DTD/svg11.dtd\">\n",
       "<!-- Generated by graphviz version 2.38.0 (20140413.2041)\n",
       " -->\n",
       "<!-- Title: Tree Pages: 1 -->\n",
       "<svg width=\"268pt\" height=\"163pt\"\n",
       " viewBox=\"0.00 0.00 267.86 163.40\" xmlns=\"http://www.w3.org/2000/svg\" xmlns:xlink=\"http://www.w3.org/1999/xlink\">\n",
       "<g id=\"graph0\" class=\"graph\" transform=\"scale(1 1) rotate(0) translate(4 159.4)\">\n",
       "<title>Tree</title>\n",
       "<polygon fill=\"white\" stroke=\"none\" points=\"-4,4 -4,-159.4 263.864,-159.4 263.864,4 -4,4\"/>\n",
       "<!-- 0 -->\n",
       "<g id=\"node1\" class=\"node\"><title>0</title>\n",
       "<polygon fill=\"#e58139\" fill-opacity=\"0.839216\" stroke=\"black\" points=\"127.23,-109.924 0.498952,-109.924 0.498952,-45.9237 127.23,-45.9237 127.23,-109.924\"/>\n",
       "<text text-anchor=\"start\" x=\"8.43164\" y=\"-94.7237\" font-family=\"Times,serif\" font-size=\"14.00\">YearMade ≤ 1974.5</text>\n",
       "<text text-anchor=\"start\" x=\"32.8906\" y=\"-80.7237\" font-family=\"Times,serif\" font-size=\"14.00\">mse = 0.47</text>\n",
       "<text text-anchor=\"start\" x=\"19.8647\" y=\"-66.7237\" font-family=\"Times,serif\" font-size=\"14.00\">samples = 1000</text>\n",
       "<text text-anchor=\"start\" x=\"25.5078\" y=\"-52.7237\" font-family=\"Times,serif\" font-size=\"14.00\">value = 10.08</text>\n",
       "</g>\n",
       "<!-- 1 -->\n",
       "<g id=\"node2\" class=\"node\"><title>1</title>\n",
       "<polygon fill=\"none\" stroke=\"black\" points=\"260.363,-147.924 163.365,-147.924 163.365,-97.9237 260.363,-97.9237 260.363,-147.924\"/>\n",
       "<text text-anchor=\"start\" x=\"180.891\" y=\"-132.724\" font-family=\"Times,serif\" font-size=\"14.00\">mse = 0.26</text>\n",
       "<text text-anchor=\"start\" x=\"171.365\" y=\"-118.724\" font-family=\"Times,serif\" font-size=\"14.00\">samples = 159</text>\n",
       "<text text-anchor=\"start\" x=\"177.008\" y=\"-104.724\" font-family=\"Times,serif\" font-size=\"14.00\">value = 9.66</text>\n",
       "</g>\n",
       "<!-- 0&#45;&gt;1 -->\n",
       "<g id=\"edge1\" class=\"edge\"><title>0&#45;&gt;1</title>\n",
       "<path fill=\"none\" stroke=\"black\" d=\"M127.629,-97.2689C136.183,-99.9057 144.929,-102.601 153.384,-105.207\"/>\n",
       "<polygon fill=\"black\" stroke=\"black\" points=\"152.559,-108.616 163.147,-108.216 154.621,-101.926 152.559,-108.616\"/>\n",
       "<text text-anchor=\"middle\" x=\"141.046\" y=\"-115.703\" font-family=\"Times,serif\" font-size=\"14.00\">True</text>\n",
       "</g>\n",
       "<!-- 2 -->\n",
       "<g id=\"node3\" class=\"node\"><title>2</title>\n",
       "<polygon fill=\"#e58139\" stroke=\"black\" points=\"260.363,-57.9237 163.365,-57.9237 163.365,-7.92373 260.363,-7.92373 260.363,-57.9237\"/>\n",
       "<text text-anchor=\"start\" x=\"180.891\" y=\"-42.7237\" font-family=\"Times,serif\" font-size=\"14.00\">mse = 0.47</text>\n",
       "<text text-anchor=\"start\" x=\"171.365\" y=\"-28.7237\" font-family=\"Times,serif\" font-size=\"14.00\">samples = 841</text>\n",
       "<text text-anchor=\"start\" x=\"173.508\" y=\"-14.7237\" font-family=\"Times,serif\" font-size=\"14.00\">value = 10.16</text>\n",
       "</g>\n",
       "<!-- 0&#45;&gt;2 -->\n",
       "<g id=\"edge2\" class=\"edge\"><title>0&#45;&gt;2</title>\n",
       "<path fill=\"none\" stroke=\"black\" d=\"M127.629,-58.5785C136.183,-55.9418 144.929,-53.2461 153.384,-50.6402\"/>\n",
       "<polygon fill=\"black\" stroke=\"black\" points=\"154.621,-53.9214 163.147,-47.6312 152.559,-47.232 154.621,-53.9214\"/>\n",
       "<text text-anchor=\"middle\" x=\"141.046\" y=\"-31.7446\" font-family=\"Times,serif\" font-size=\"14.00\">False</text>\n",
       "</g>\n",
       "</g>\n",
       "</svg>\n"
      ],
      "text/plain": [
       "<graphviz.files.Source at 0x10fc40278>"
      ]
     },
     "metadata": {},
     "output_type": "display_data"
    }
   ],
   "source": [
    "m = RandomForestRegressor(n_estimators=1, max_depth=1, bootstrap=False)\n",
    "m.fit(x_samp, y_samp)\n",
    "draw_tree(m.estimators_[0], x_samp, precision=2)"
   ]
  },
  {
   "cell_type": "markdown",
   "metadata": {},
   "source": [
    "#### For our function - `find a better split`\n",
    "\n",
    "Given this subset of a data we are going to try to find a value to split on. We will find the split that minimizes the stddev of each group. Its the same as minimizing RMSE\n",
    "\n",
    "|YM|Price | group 1 | group 2|\n",
    "|--|--|------| -----|\n",
    "|3|1||\n",
    "|4|1||\n",
    "|1|0||\n",
    "|6|1||\n",
    "|4|0||\n",
    "|1|0||"
   ]
  },
  {
   "cell_type": "markdown",
   "metadata": {},
   "source": [
    "### Find Better Split v1\n",
    "\n",
    "Let's implement. Remember previously:\n",
    "```python\n",
    " # We'll write this later!\n",
    "    def find_better_split(self, var_idx): pass\n",
    "```"
   ]
  },
  {
   "cell_type": "code",
   "execution_count": 25,
   "metadata": {
    "collapsed": true
   },
   "outputs": [],
   "source": [
    "def find_better_split(self, var_idx):\n",
    "    \"\"\"\n",
    "    will get the indexes \n",
    "    \"\"\"\n",
    "    x,y = self.x.values[self.idxs,var_idx], self.y[self.idxs]\n",
    "    \n",
    "    # go through every single value\n",
    "    for i in range(1,self.n-1):\n",
    "        \n",
    "        # separate out the data, arrays of booleans\n",
    "        # since doing a comparative\n",
    "        lhs = x<=x[i]\n",
    "        rhs = x>x[i]\n",
    "        \n",
    "        # if there's no real split, then stop\n",
    "        if rhs.sum()==0: continue\n",
    "            \n",
    "        # otherwise calculate the two STDs\n",
    "        lhs_std = y[lhs].std()\n",
    "        rhs_std = y[rhs].std()\n",
    "        \n",
    "        #then average the score\n",
    "        curr_score = lhs_std*lhs.sum() + rhs_std*rhs.sum()\n",
    "        \n",
    "        # is this better than our score so far\n",
    "        # its intialized as inf.\n",
    "        # if its better, then we store\n",
    "        # variable, ID, SCORE, and what it is\n",
    "        if curr_score<self.score: \n",
    "            self.var_idx,self.score,self.split = var_idx,curr_score,x[i]"
   ]
  },
  {
   "cell_type": "markdown",
   "metadata": {},
   "source": [
    "#### From Above\n",
    "\n",
    "```python\n",
    "ens = TreeEnsemble(x_sub, y_train, 1, 1000)\n",
    "tree = ens.trees[0]\n",
    "```"
   ]
  },
  {
   "cell_type": "code",
   "execution_count": 26,
   "metadata": {
    "collapsed": false
   },
   "outputs": [
    {
     "name": "stdout",
     "output_type": "stream",
     "text": [
      "75.7 ms ± 1.01 ms per loop (mean ± std. dev. of 7 runs, 10 loops each)\n"
     ]
    },
    {
     "data": {
      "text/plain": [
       "n: 1000; val:10.079014121552744; score:681.0184057251435; split:3744.0; var:MachineHoursCurrentMeter"
      ]
     },
     "execution_count": 26,
     "metadata": {},
     "output_type": "execute_result"
    }
   ],
   "source": [
    "%timeit find_better_split(tree,1)\n",
    "tree"
   ]
  },
  {
   "cell_type": "markdown",
   "metadata": {},
   "source": [
    "### Test it out on a tree"
   ]
  },
  {
   "cell_type": "code",
   "execution_count": 27,
   "metadata": {
    "collapsed": false
   },
   "outputs": [
    {
     "data": {
      "text/plain": [
       "n: 1000; val:10.079014121552744; score:658.5510186055949; split:1974.0; var:YearMade"
      ]
     },
     "execution_count": 27,
     "metadata": {},
     "output_type": "execute_result"
    }
   ],
   "source": [
    "find_better_split(tree,0); tree"
   ]
  },
  {
   "cell_type": "markdown",
   "metadata": {},
   "source": [
    "### Baseline Computational Complexity? n^2\n",
    "\n",
    "- Consider loops\n",
    "- Sorts\n",
    "- comparisons\n",
    "\n",
    "```python\n",
    "    # will do n times\n",
    "    for i in range(1,self.n-1):\n",
    "        \n",
    "        # will also compare against all values so N again\n",
    "        lhs = x<=x[i]\n",
    "        rhs = x>x[i]\n",
    "```"
   ]
  },
  {
   "cell_type": "markdown",
   "metadata": {},
   "source": [
    "## 3. Find Better Split : Speeding Things up"
   ]
  },
  {
   "cell_type": "code",
   "execution_count": 30,
   "metadata": {
    "collapsed": true
   },
   "outputs": [],
   "source": [
    "tree = TreeEnsemble(x_sub, y_train, 1, 1000).trees[0]"
   ]
  },
  {
   "cell_type": "markdown",
   "metadata": {},
   "source": [
    "#### Variance\n",
    "\n",
    "$$ mean(xy) - mean(x)mean(y) $$\n",
    "\n",
    "Common language: sort the data, keep track of sum + count of the dataset and go through the dataset once. And if we have  sum + count, we can keep calculating the mean. "
   ]
  },
  {
   "cell_type": "markdown",
   "metadata": {},
   "source": [
    "|YM|Price |\n",
    "|--|--|\n",
    "|1|0|\n",
    "|1|0|\n",
    "|3|1|\n",
    "|4|1|\n",
    "|4|0|\n",
    "|6|1|"
   ]
  },
  {
   "cell_type": "code",
   "execution_count": 31,
   "metadata": {
    "collapsed": true
   },
   "outputs": [],
   "source": [
    "def std_agg(cnt, s1, s2): return math.sqrt((s2/cnt) - (s1/cnt)**2)"
   ]
  },
  {
   "cell_type": "markdown",
   "metadata": {},
   "source": [
    "### 3.1 Find Better Split v2"
   ]
  },
  {
   "cell_type": "code",
   "execution_count": 32,
   "metadata": {
    "collapsed": true
   },
   "outputs": [],
   "source": [
    "def std_agg(cnt, s1, s2): return math.sqrt((s2/cnt) - (s1/cnt)**2)\n",
    "\n",
    "def find_better_split(self, var_idx):\n",
    "    x,y = self.x.values[self.idxs,var_idx], self.y[self.idxs]\n",
    "    \n",
    "    sort_idx = np.argsort(x)\n",
    "    sort_y,sort_x = y[sort_idx], x[sort_idx]\n",
    "    rhs_cnt,rhs_sum,rhs_sum2 = self.n, sort_y.sum(), (sort_y**2).sum()\n",
    "    lhs_cnt,lhs_sum,lhs_sum2 = 0,0.,0.\n",
    "\n",
    "    for i in range(0,self.n-self.min_leaf-1):\n",
    "        xi,yi = sort_x[i],sort_y[i]\n",
    "        lhs_cnt += 1; rhs_cnt -= 1\n",
    "        lhs_sum += yi; rhs_sum -= yi\n",
    "        lhs_sum2 += yi**2; rhs_sum2 -= yi**2\n",
    "        if i<self.min_leaf or xi==sort_x[i+1]:\n",
    "            continue\n",
    "            \n",
    "        lhs_std = std_agg(lhs_cnt, lhs_sum, lhs_sum2)\n",
    "        rhs_std = std_agg(rhs_cnt, rhs_sum, rhs_sum2)\n",
    "        curr_score = lhs_std*lhs_cnt + rhs_std*rhs_cnt\n",
    "        if curr_score<self.score: \n",
    "            self.var_idx,self.score,self.split = var_idx,curr_score,xi"
   ]
  },
  {
   "cell_type": "code",
   "execution_count": 33,
   "metadata": {
    "collapsed": false,
    "scrolled": true
   },
   "outputs": [
    {
     "name": "stdout",
     "output_type": "stream",
     "text": [
      " "
     ]
    }
   ],
   "source": [
    "%prun find_better_split(tree,1)"
   ]
  },
  {
   "cell_type": "markdown",
   "metadata": {},
   "source": [
    "#### Example Output\n",
    "\n",
    "```bash\n",
    "         797 function calls (793 primitive calls) in 0.002 seconds\n",
    "\n",
    "   Ordered by: internal time\n",
    "\n",
    "   ncalls  tottime  percall  cumtime  percall filename:lineno(function)\n",
    "        1    0.001    0.001    0.002    0.002 <ipython-input-32-89db6b5dcd57>:3(find_better_split)\n",
    "      318    0.000    0.000    0.000    0.000 <ipython-input-32-89db6b5dcd57>:1(std_agg)\n",
    "        1    0.000    0.000    0.000    0.000 internals.py:3675(_interleave)\n",
    "        3    0.000    0.000    0.000    0.000 {method 'reduce' of 'numpy.ufunc' objects}\n",
    "        1    0.000    0.000    0.000    0.000 {method 'argsort' of 'numpy.ndarray' objects}\n",
    "      318    0.000    0.000    0.000    0.000 {built-in method math.sqrt}\n",
    "        1    0.000    0.000    0.002    0.002 {built-in method builtins.exec}\n",
    "        2    0.000    0.000    0.000    0.000 numerictypes.py:942(_can_coerce_all)\n",
    "        1    0.000    0.000    0.000    0.000 cast.py:1049(find_common_type)\n",
    "        1    0.000    0.000    0.000    0.000 generic.py:3661(_protect_consolidate)\n",
    "    32/28    0.000    0.000    0.000    0.000 {built-in method builtins.len}\n",
    " ...\n",
    " ```"
   ]
  },
  {
   "cell_type": "markdown",
   "metadata": {},
   "source": [
    "### 3.2 Python Method for assigning functions, (assigning Find Better Split) \n",
    "\n",
    "```\n",
    "DecisionTree.find_better_split = find_better_split\n",
    "```\n",
    "\n",
    "**`DecisionTree.find_better_split`** - our method in our custom class\n",
    "\n",
    "**`find_better_split`** <- the v2 of the find_better_split"
   ]
  },
  {
   "cell_type": "code",
   "execution_count": 35,
   "metadata": {
    "collapsed": true
   },
   "outputs": [],
   "source": [
    "DecisionTree.find_better_split = find_better_split"
   ]
  },
  {
   "cell_type": "code",
   "execution_count": 36,
   "metadata": {
    "collapsed": false
   },
   "outputs": [
    {
     "data": {
      "text/plain": [
       "n: 1000; val:10.079014121552744; score:658.5510186055565; split:1974.0; var:YearMade"
      ]
     },
     "execution_count": 36,
     "metadata": {},
     "output_type": "execute_result"
    }
   ],
   "source": [
    "tree = TreeEnsemble(x_sub, y_train, 1, 1000).trees[0]; tree"
   ]
  },
  {
   "cell_type": "markdown",
   "metadata": {},
   "source": [
    "#### Note this is the same as what we ran separately before (see a few blocks up)\n",
    "\n",
    "```python\n",
    "find_better_split(tree,0); tree\n",
    "\n",
    "n: 1000; val:10.079014121552744; score:658.5510186055949; split:1974.0; var:YearMade\n",
    "```"
   ]
  },
  {
   "cell_type": "markdown",
   "metadata": {},
   "source": [
    "## 4. How to do more than 1 level?\n",
    "\n",
    "### Back to Scikit Learn Comparison with 2 levels\n",
    "\n",
    "Now we will have to find a decision split in both child nodes to make the next level down."
   ]
  },
  {
   "cell_type": "code",
   "execution_count": 37,
   "metadata": {
    "collapsed": false
   },
   "outputs": [
    {
     "data": {
      "image/svg+xml": [
       "<?xml version=\"1.0\" encoding=\"UTF-8\" standalone=\"no\"?>\n",
       "<!DOCTYPE svg PUBLIC \"-//W3C//DTD SVG 1.1//EN\"\n",
       " \"http://www.w3.org/Graphics/SVG/1.1/DTD/svg11.dtd\">\n",
       "<!-- Generated by graphviz version 2.38.0 (20140413.2041)\n",
       " -->\n",
       "<!-- Title: Tree Pages: 1 -->\n",
       "<svg width=\"532pt\" height=\"322pt\"\n",
       " viewBox=\"0.00 0.00 532.44 322.40\" xmlns=\"http://www.w3.org/2000/svg\" xmlns:xlink=\"http://www.w3.org/1999/xlink\">\n",
       "<g id=\"graph0\" class=\"graph\" transform=\"scale(1 1) rotate(0) translate(4 318.4)\">\n",
       "<title>Tree</title>\n",
       "<polygon fill=\"white\" stroke=\"none\" points=\"-4,4 -4,-318.4 528.441,-318.4 528.441,4 -4,4\"/>\n",
       "<!-- 0 -->\n",
       "<g id=\"node1\" class=\"node\"><title>0</title>\n",
       "<polygon fill=\"#e58139\" fill-opacity=\"0.439216\" stroke=\"black\" points=\"126.807,-190.584 0.0761004,-190.584 0.0761004,-126.584 126.807,-126.584 126.807,-190.584\"/>\n",
       "<text text-anchor=\"start\" x=\"8.00879\" y=\"-175.384\" font-family=\"Times,serif\" font-size=\"14.00\">YearMade ≤ 1974.5</text>\n",
       "<text text-anchor=\"start\" x=\"32.4678\" y=\"-161.384\" font-family=\"Times,serif\" font-size=\"14.00\">mse = 0.47</text>\n",
       "<text text-anchor=\"start\" x=\"19.4419\" y=\"-147.384\" font-family=\"Times,serif\" font-size=\"14.00\">samples = 1000</text>\n",
       "<text text-anchor=\"start\" x=\"25.085\" y=\"-133.384\" font-family=\"Times,serif\" font-size=\"14.00\">value = 10.08</text>\n",
       "</g>\n",
       "<!-- 1 -->\n",
       "<g id=\"node2\" class=\"node\"><title>1</title>\n",
       "<polygon fill=\"#e58139\" fill-opacity=\"0.039216\" stroke=\"black\" points=\"391.519,-241.584 163.364,-241.584 163.364,-177.584 391.519,-177.584 391.519,-241.584\"/>\n",
       "<text text-anchor=\"start\" x=\"171.153\" y=\"-226.384\" font-family=\"Times,serif\" font-size=\"14.00\">MachineHoursCurrentMeter ≤ 2956.5</text>\n",
       "<text text-anchor=\"start\" x=\"246.468\" y=\"-212.384\" font-family=\"Times,serif\" font-size=\"14.00\">mse = 0.26</text>\n",
       "<text text-anchor=\"start\" x=\"236.942\" y=\"-198.384\" font-family=\"Times,serif\" font-size=\"14.00\">samples = 159</text>\n",
       "<text text-anchor=\"start\" x=\"242.585\" y=\"-184.384\" font-family=\"Times,serif\" font-size=\"14.00\">value = 9.66</text>\n",
       "</g>\n",
       "<!-- 0&#45;&gt;1 -->\n",
       "<g id=\"edge1\" class=\"edge\"><title>0&#45;&gt;1</title>\n",
       "<path fill=\"none\" stroke=\"black\" d=\"M126.902,-173.609C135.333,-175.638 144.209,-177.773 153.257,-179.95\"/>\n",
       "<polygon fill=\"black\" stroke=\"black\" points=\"152.588,-183.389 163.129,-182.325 154.225,-176.583 152.588,-183.389\"/>\n",
       "<text text-anchor=\"middle\" x=\"141.807\" y=\"-191.177\" font-family=\"Times,serif\" font-size=\"14.00\">True</text>\n",
       "</g>\n",
       "<!-- 4 -->\n",
       "<g id=\"node5\" class=\"node\"><title>4</title>\n",
       "<polygon fill=\"#e58139\" fill-opacity=\"0.513725\" stroke=\"black\" points=\"340.807,-140.584 214.076,-140.584 214.076,-76.5837 340.807,-76.5837 340.807,-140.584\"/>\n",
       "<text text-anchor=\"start\" x=\"222.009\" y=\"-125.384\" font-family=\"Times,serif\" font-size=\"14.00\">YearMade ≤ 2005.5</text>\n",
       "<text text-anchor=\"start\" x=\"246.468\" y=\"-111.384\" font-family=\"Times,serif\" font-size=\"14.00\">mse = 0.47</text>\n",
       "<text text-anchor=\"start\" x=\"236.942\" y=\"-97.3837\" font-family=\"Times,serif\" font-size=\"14.00\">samples = 841</text>\n",
       "<text text-anchor=\"start\" x=\"239.085\" y=\"-83.3837\" font-family=\"Times,serif\" font-size=\"14.00\">value = 10.16</text>\n",
       "</g>\n",
       "<!-- 0&#45;&gt;4 -->\n",
       "<g id=\"edge4\" class=\"edge\"><title>0&#45;&gt;4</title>\n",
       "<path fill=\"none\" stroke=\"black\" d=\"M126.902,-143.852C151.162,-138.131 179.106,-131.54 204.224,-125.616\"/>\n",
       "<polygon fill=\"black\" stroke=\"black\" points=\"205.132,-128.998 214.061,-123.296 203.525,-122.185 205.132,-128.998\"/>\n",
       "<text text-anchor=\"middle\" x=\"192.798\" y=\"-105.948\" font-family=\"Times,serif\" font-size=\"14.00\">False</text>\n",
       "</g>\n",
       "<!-- 2 -->\n",
       "<g id=\"node3\" class=\"node\"><title>2</title>\n",
       "<polygon fill=\"none\" stroke=\"black\" points=\"524.94,-308.584 427.942,-308.584 427.942,-258.584 524.94,-258.584 524.94,-308.584\"/>\n",
       "<text text-anchor=\"start\" x=\"445.468\" y=\"-293.384\" font-family=\"Times,serif\" font-size=\"14.00\">mse = 0.23</text>\n",
       "<text text-anchor=\"start\" x=\"435.942\" y=\"-279.384\" font-family=\"Times,serif\" font-size=\"14.00\">samples = 150</text>\n",
       "<text text-anchor=\"start\" x=\"441.585\" y=\"-265.384\" font-family=\"Times,serif\" font-size=\"14.00\">value = 9.62</text>\n",
       "</g>\n",
       "<!-- 1&#45;&gt;2 -->\n",
       "<g id=\"edge2\" class=\"edge\"><title>1&#45;&gt;2</title>\n",
       "<path fill=\"none\" stroke=\"black\" d=\"M363.703,-241.611C382.044,-248.5 401.01,-255.625 417.992,-262.004\"/>\n",
       "<polygon fill=\"black\" stroke=\"black\" points=\"417.15,-265.426 427.742,-265.666 419.612,-258.873 417.15,-265.426\"/>\n",
       "</g>\n",
       "<!-- 3 -->\n",
       "<g id=\"node4\" class=\"node\"><title>3</title>\n",
       "<polygon fill=\"#e58139\" fill-opacity=\"0.698039\" stroke=\"black\" points=\"522.655,-225.584 430.228,-225.584 430.228,-175.584 522.655,-175.584 522.655,-225.584\"/>\n",
       "<text text-anchor=\"start\" x=\"445.468\" y=\"-210.384\" font-family=\"Times,serif\" font-size=\"14.00\">mse = 0.23</text>\n",
       "<text text-anchor=\"start\" x=\"442.942\" y=\"-196.384\" font-family=\"Times,serif\" font-size=\"14.00\">samples = 9</text>\n",
       "<text text-anchor=\"start\" x=\"438.085\" y=\"-182.384\" font-family=\"Times,serif\" font-size=\"14.00\">value = 10.35</text>\n",
       "</g>\n",
       "<!-- 1&#45;&gt;3 -->\n",
       "<g id=\"edge3\" class=\"edge\"><title>1&#45;&gt;3</title>\n",
       "<path fill=\"none\" stroke=\"black\" d=\"M391.61,-204.414C401.348,-203.969 410.89,-203.533 419.845,-203.124\"/>\n",
       "<polygon fill=\"black\" stroke=\"black\" points=\"420.233,-206.61 430.063,-202.657 419.914,-199.617 420.233,-206.61\"/>\n",
       "</g>\n",
       "<!-- 5 -->\n",
       "<g id=\"node6\" class=\"node\"><title>5</title>\n",
       "<polygon fill=\"#e58139\" fill-opacity=\"0.494118\" stroke=\"black\" points=\"524.94,-138.584 427.942,-138.584 427.942,-88.5837 524.94,-88.5837 524.94,-138.584\"/>\n",
       "<text text-anchor=\"start\" x=\"445.468\" y=\"-123.384\" font-family=\"Times,serif\" font-size=\"14.00\">mse = 0.46</text>\n",
       "<text text-anchor=\"start\" x=\"435.942\" y=\"-109.384\" font-family=\"Times,serif\" font-size=\"14.00\">samples = 813</text>\n",
       "<text text-anchor=\"start\" x=\"438.085\" y=\"-95.3837\" font-family=\"Times,serif\" font-size=\"14.00\">value = 10.14</text>\n",
       "</g>\n",
       "<!-- 4&#45;&gt;5 -->\n",
       "<g id=\"edge5\" class=\"edge\"><title>4&#45;&gt;5</title>\n",
       "<path fill=\"none\" stroke=\"black\" d=\"M341.044,-110.173C365.591,-110.796 393.584,-111.506 417.644,-112.117\"/>\n",
       "<polygon fill=\"black\" stroke=\"black\" points=\"417.608,-115.617 427.694,-112.372 417.786,-108.619 417.608,-115.617\"/>\n",
       "</g>\n",
       "<!-- 6 -->\n",
       "<g id=\"node7\" class=\"node\"><title>6</title>\n",
       "<polygon fill=\"#e58139\" stroke=\"black\" points=\"522.655,-55.5837 430.228,-55.5837 430.228,-5.58366 522.655,-5.58366 522.655,-55.5837\"/>\n",
       "<text text-anchor=\"start\" x=\"445.468\" y=\"-40.3837\" font-family=\"Times,serif\" font-size=\"14.00\">mse = 0.38</text>\n",
       "<text text-anchor=\"start\" x=\"439.442\" y=\"-26.3837\" font-family=\"Times,serif\" font-size=\"14.00\">samples = 28</text>\n",
       "<text text-anchor=\"start\" x=\"438.085\" y=\"-12.3837\" font-family=\"Times,serif\" font-size=\"14.00\">value = 10.67</text>\n",
       "</g>\n",
       "<!-- 4&#45;&gt;6 -->\n",
       "<g id=\"edge6\" class=\"edge\"><title>4&#45;&gt;6</title>\n",
       "<path fill=\"none\" stroke=\"black\" d=\"M341.044,-83.7968C366.606,-73.6759 395.904,-62.0756 420.608,-52.2944\"/>\n",
       "<polygon fill=\"black\" stroke=\"black\" points=\"422.174,-55.4387 430.183,-48.5031 419.597,-48.9303 422.174,-55.4387\"/>\n",
       "</g>\n",
       "</g>\n",
       "</svg>\n"
      ],
      "text/plain": [
       "<graphviz.files.Source at 0x1c1bea1ef0>"
      ]
     },
     "metadata": {},
     "output_type": "display_data"
    }
   ],
   "source": [
    "m = RandomForestRegressor(n_estimators=1, max_depth=2, bootstrap=False)\n",
    "m.fit(x_samp, y_samp)\n",
    "draw_tree(m.estimators_[0], x_samp, precision=2)"
   ]
  },
  {
   "cell_type": "markdown",
   "metadata": {},
   "source": [
    "### 4.1 Find_varsplit version 2 (improvements)\n",
    " \n",
    "Old version:\n",
    "\n",
    "```python\n",
    "  # This just does one decision; we'll make it recursive later\n",
    "    def find_varsplit(self):\n",
    "        for i in range(self.c): self.find_better_split(i)\n",
    "```"
   ]
  },
  {
   "cell_type": "code",
   "execution_count": 38,
   "metadata": {
    "collapsed": true
   },
   "outputs": [],
   "source": [
    "def find_varsplit(self):\n",
    "    \n",
    "    # is there something better\n",
    "    for i in range(self.c): self.find_better_split(i)\n",
    "    if self.is_leaf: return\n",
    "    x = self.split_col\n",
    "    \n",
    "    # gets the boolean array, but gets the indexes\n",
    "    lhs = np.nonzero(x<=self.split)[0]\n",
    "    rhs = np.nonzero(x>self.split)[0]\n",
    "    \n",
    "    # now that we have the indexes we can create a decision tree\n",
    "    self.lhs = DecisionTree(self.x, self.y, self.idxs[lhs])\n",
    "    self.rhs = DecisionTree(self.x, self.y, self.idxs[rhs])"
   ]
  },
  {
   "cell_type": "markdown",
   "metadata": {},
   "source": [
    "#### Assign it to our class"
   ]
  },
  {
   "cell_type": "code",
   "execution_count": 39,
   "metadata": {
    "collapsed": true
   },
   "outputs": [],
   "source": [
    "DecisionTree.find_varsplit = find_varsplit"
   ]
  },
  {
   "cell_type": "code",
   "execution_count": 40,
   "metadata": {
    "collapsed": false
   },
   "outputs": [
    {
     "data": {
      "text/plain": [
       "n: 1000; val:10.079014121552744; score:658.5510186055565; split:1974.0; var:YearMade"
      ]
     },
     "execution_count": 40,
     "metadata": {},
     "output_type": "execute_result"
    }
   ],
   "source": [
    "tree = TreeEnsemble(x_sub, y_train, 1, 1000).trees[0]; tree"
   ]
  },
  {
   "cell_type": "markdown",
   "metadata": {},
   "source": [
    "### 4.2 Checking Answers"
   ]
  },
  {
   "cell_type": "markdown",
   "metadata": {},
   "source": [
    "#### Lets look at the left hand and right hand side"
   ]
  },
  {
   "cell_type": "code",
   "execution_count": 41,
   "metadata": {
    "collapsed": false
   },
   "outputs": [
    {
     "data": {
      "text/plain": [
       "n: 159; val:9.660892662981706; score:76.82696888346362; split:2800.0; var:MachineHoursCurrentMeter"
      ]
     },
     "execution_count": 41,
     "metadata": {},
     "output_type": "execute_result"
    }
   ],
   "source": [
    "tree.lhs"
   ]
  },
  {
   "cell_type": "code",
   "execution_count": 42,
   "metadata": {
    "collapsed": false
   },
   "outputs": [
    {
     "data": {
      "text/plain": [
       "n: 841; val:10.158064432982941; score:571.4803525045031; split:2005.0; var:YearMade"
      ]
     },
     "execution_count": 42,
     "metadata": {},
     "output_type": "execute_result"
    }
   ],
   "source": [
    "tree.rhs"
   ]
  },
  {
   "cell_type": "markdown",
   "metadata": {},
   "source": [
    "#### What about level2"
   ]
  },
  {
   "cell_type": "code",
   "execution_count": 43,
   "metadata": {
    "collapsed": false
   },
   "outputs": [
    {
     "data": {
      "text/plain": [
       "n: 150; val:9.619280538108496; score:71.15906938383463; split:1000.0; var:YearMade"
      ]
     },
     "execution_count": 43,
     "metadata": {},
     "output_type": "execute_result"
    }
   ],
   "source": [
    "tree.lhs.lhs"
   ]
  },
  {
   "cell_type": "code",
   "execution_count": 44,
   "metadata": {
    "collapsed": false
   },
   "outputs": [
    {
     "data": {
      "text/plain": [
       "n: 9; val:10.354428077535193"
      ]
     },
     "execution_count": 44,
     "metadata": {},
     "output_type": "execute_result"
    }
   ],
   "source": [
    "tree.lhs.rhs"
   ]
  },
  {
   "cell_type": "code",
   "execution_count": 46,
   "metadata": {
    "collapsed": false
   },
   "outputs": [
    {
     "data": {
      "text/plain": [
       "n: 813; val:10.140438373816052; score:550.1806493212129; split:1994.0; var:YearMade"
      ]
     },
     "execution_count": 46,
     "metadata": {},
     "output_type": "execute_result"
    }
   ],
   "source": [
    "tree.rhs.lhs"
   ]
  },
  {
   "cell_type": "code",
   "execution_count": 47,
   "metadata": {
    "collapsed": false
   },
   "outputs": [
    {
     "data": {
      "text/plain": [
       "n: 28; val:10.669849650935848; score:16.460871194578985; split:895.0; var:MachineHoursCurrentMeter"
      ]
     },
     "execution_count": 47,
     "metadata": {},
     "output_type": "execute_result"
    }
   ],
   "source": [
    "tree.rhs.rhs"
   ]
  },
  {
   "cell_type": "markdown",
   "metadata": {},
   "source": [
    "#### Again compare to Sklearn (look at samples)"
   ]
  },
  {
   "cell_type": "code",
   "execution_count": 45,
   "metadata": {
    "collapsed": false
   },
   "outputs": [
    {
     "data": {
      "image/svg+xml": [
       "<?xml version=\"1.0\" encoding=\"UTF-8\" standalone=\"no\"?>\n",
       "<!DOCTYPE svg PUBLIC \"-//W3C//DTD SVG 1.1//EN\"\n",
       " \"http://www.w3.org/Graphics/SVG/1.1/DTD/svg11.dtd\">\n",
       "<!-- Generated by graphviz version 2.38.0 (20140413.2041)\n",
       " -->\n",
       "<!-- Title: Tree Pages: 1 -->\n",
       "<svg width=\"532pt\" height=\"322pt\"\n",
       " viewBox=\"0.00 0.00 532.44 322.40\" xmlns=\"http://www.w3.org/2000/svg\" xmlns:xlink=\"http://www.w3.org/1999/xlink\">\n",
       "<g id=\"graph0\" class=\"graph\" transform=\"scale(1 1) rotate(0) translate(4 318.4)\">\n",
       "<title>Tree</title>\n",
       "<polygon fill=\"white\" stroke=\"none\" points=\"-4,4 -4,-318.4 528.441,-318.4 528.441,4 -4,4\"/>\n",
       "<!-- 0 -->\n",
       "<g id=\"node1\" class=\"node\"><title>0</title>\n",
       "<polygon fill=\"#e58139\" fill-opacity=\"0.439216\" stroke=\"black\" points=\"126.807,-190.584 0.0761004,-190.584 0.0761004,-126.584 126.807,-126.584 126.807,-190.584\"/>\n",
       "<text text-anchor=\"start\" x=\"8.00879\" y=\"-175.384\" font-family=\"Times,serif\" font-size=\"14.00\">YearMade ≤ 1974.5</text>\n",
       "<text text-anchor=\"start\" x=\"32.4678\" y=\"-161.384\" font-family=\"Times,serif\" font-size=\"14.00\">mse = 0.47</text>\n",
       "<text text-anchor=\"start\" x=\"19.4419\" y=\"-147.384\" font-family=\"Times,serif\" font-size=\"14.00\">samples = 1000</text>\n",
       "<text text-anchor=\"start\" x=\"25.085\" y=\"-133.384\" font-family=\"Times,serif\" font-size=\"14.00\">value = 10.08</text>\n",
       "</g>\n",
       "<!-- 1 -->\n",
       "<g id=\"node2\" class=\"node\"><title>1</title>\n",
       "<polygon fill=\"#e58139\" fill-opacity=\"0.039216\" stroke=\"black\" points=\"391.519,-241.584 163.364,-241.584 163.364,-177.584 391.519,-177.584 391.519,-241.584\"/>\n",
       "<text text-anchor=\"start\" x=\"171.153\" y=\"-226.384\" font-family=\"Times,serif\" font-size=\"14.00\">MachineHoursCurrentMeter ≤ 2956.5</text>\n",
       "<text text-anchor=\"start\" x=\"246.468\" y=\"-212.384\" font-family=\"Times,serif\" font-size=\"14.00\">mse = 0.26</text>\n",
       "<text text-anchor=\"start\" x=\"236.942\" y=\"-198.384\" font-family=\"Times,serif\" font-size=\"14.00\">samples = 159</text>\n",
       "<text text-anchor=\"start\" x=\"242.585\" y=\"-184.384\" font-family=\"Times,serif\" font-size=\"14.00\">value = 9.66</text>\n",
       "</g>\n",
       "<!-- 0&#45;&gt;1 -->\n",
       "<g id=\"edge1\" class=\"edge\"><title>0&#45;&gt;1</title>\n",
       "<path fill=\"none\" stroke=\"black\" d=\"M126.902,-173.609C135.333,-175.638 144.209,-177.773 153.257,-179.95\"/>\n",
       "<polygon fill=\"black\" stroke=\"black\" points=\"152.588,-183.389 163.129,-182.325 154.225,-176.583 152.588,-183.389\"/>\n",
       "<text text-anchor=\"middle\" x=\"141.807\" y=\"-191.177\" font-family=\"Times,serif\" font-size=\"14.00\">True</text>\n",
       "</g>\n",
       "<!-- 4 -->\n",
       "<g id=\"node5\" class=\"node\"><title>4</title>\n",
       "<polygon fill=\"#e58139\" fill-opacity=\"0.513725\" stroke=\"black\" points=\"340.807,-140.584 214.076,-140.584 214.076,-76.5837 340.807,-76.5837 340.807,-140.584\"/>\n",
       "<text text-anchor=\"start\" x=\"222.009\" y=\"-125.384\" font-family=\"Times,serif\" font-size=\"14.00\">YearMade ≤ 2005.5</text>\n",
       "<text text-anchor=\"start\" x=\"246.468\" y=\"-111.384\" font-family=\"Times,serif\" font-size=\"14.00\">mse = 0.47</text>\n",
       "<text text-anchor=\"start\" x=\"236.942\" y=\"-97.3837\" font-family=\"Times,serif\" font-size=\"14.00\">samples = 841</text>\n",
       "<text text-anchor=\"start\" x=\"239.085\" y=\"-83.3837\" font-family=\"Times,serif\" font-size=\"14.00\">value = 10.16</text>\n",
       "</g>\n",
       "<!-- 0&#45;&gt;4 -->\n",
       "<g id=\"edge4\" class=\"edge\"><title>0&#45;&gt;4</title>\n",
       "<path fill=\"none\" stroke=\"black\" d=\"M126.902,-143.852C151.162,-138.131 179.106,-131.54 204.224,-125.616\"/>\n",
       "<polygon fill=\"black\" stroke=\"black\" points=\"205.132,-128.998 214.061,-123.296 203.525,-122.185 205.132,-128.998\"/>\n",
       "<text text-anchor=\"middle\" x=\"192.798\" y=\"-105.948\" font-family=\"Times,serif\" font-size=\"14.00\">False</text>\n",
       "</g>\n",
       "<!-- 2 -->\n",
       "<g id=\"node3\" class=\"node\"><title>2</title>\n",
       "<polygon fill=\"none\" stroke=\"black\" points=\"524.94,-308.584 427.942,-308.584 427.942,-258.584 524.94,-258.584 524.94,-308.584\"/>\n",
       "<text text-anchor=\"start\" x=\"445.468\" y=\"-293.384\" font-family=\"Times,serif\" font-size=\"14.00\">mse = 0.23</text>\n",
       "<text text-anchor=\"start\" x=\"435.942\" y=\"-279.384\" font-family=\"Times,serif\" font-size=\"14.00\">samples = 150</text>\n",
       "<text text-anchor=\"start\" x=\"441.585\" y=\"-265.384\" font-family=\"Times,serif\" font-size=\"14.00\">value = 9.62</text>\n",
       "</g>\n",
       "<!-- 1&#45;&gt;2 -->\n",
       "<g id=\"edge2\" class=\"edge\"><title>1&#45;&gt;2</title>\n",
       "<path fill=\"none\" stroke=\"black\" d=\"M363.703,-241.611C382.044,-248.5 401.01,-255.625 417.992,-262.004\"/>\n",
       "<polygon fill=\"black\" stroke=\"black\" points=\"417.15,-265.426 427.742,-265.666 419.612,-258.873 417.15,-265.426\"/>\n",
       "</g>\n",
       "<!-- 3 -->\n",
       "<g id=\"node4\" class=\"node\"><title>3</title>\n",
       "<polygon fill=\"#e58139\" fill-opacity=\"0.698039\" stroke=\"black\" points=\"522.655,-225.584 430.228,-225.584 430.228,-175.584 522.655,-175.584 522.655,-225.584\"/>\n",
       "<text text-anchor=\"start\" x=\"445.468\" y=\"-210.384\" font-family=\"Times,serif\" font-size=\"14.00\">mse = 0.23</text>\n",
       "<text text-anchor=\"start\" x=\"442.942\" y=\"-196.384\" font-family=\"Times,serif\" font-size=\"14.00\">samples = 9</text>\n",
       "<text text-anchor=\"start\" x=\"438.085\" y=\"-182.384\" font-family=\"Times,serif\" font-size=\"14.00\">value = 10.35</text>\n",
       "</g>\n",
       "<!-- 1&#45;&gt;3 -->\n",
       "<g id=\"edge3\" class=\"edge\"><title>1&#45;&gt;3</title>\n",
       "<path fill=\"none\" stroke=\"black\" d=\"M391.61,-204.414C401.348,-203.969 410.89,-203.533 419.845,-203.124\"/>\n",
       "<polygon fill=\"black\" stroke=\"black\" points=\"420.233,-206.61 430.063,-202.657 419.914,-199.617 420.233,-206.61\"/>\n",
       "</g>\n",
       "<!-- 5 -->\n",
       "<g id=\"node6\" class=\"node\"><title>5</title>\n",
       "<polygon fill=\"#e58139\" fill-opacity=\"0.494118\" stroke=\"black\" points=\"524.94,-138.584 427.942,-138.584 427.942,-88.5837 524.94,-88.5837 524.94,-138.584\"/>\n",
       "<text text-anchor=\"start\" x=\"445.468\" y=\"-123.384\" font-family=\"Times,serif\" font-size=\"14.00\">mse = 0.46</text>\n",
       "<text text-anchor=\"start\" x=\"435.942\" y=\"-109.384\" font-family=\"Times,serif\" font-size=\"14.00\">samples = 813</text>\n",
       "<text text-anchor=\"start\" x=\"438.085\" y=\"-95.3837\" font-family=\"Times,serif\" font-size=\"14.00\">value = 10.14</text>\n",
       "</g>\n",
       "<!-- 4&#45;&gt;5 -->\n",
       "<g id=\"edge5\" class=\"edge\"><title>4&#45;&gt;5</title>\n",
       "<path fill=\"none\" stroke=\"black\" d=\"M341.044,-110.173C365.591,-110.796 393.584,-111.506 417.644,-112.117\"/>\n",
       "<polygon fill=\"black\" stroke=\"black\" points=\"417.608,-115.617 427.694,-112.372 417.786,-108.619 417.608,-115.617\"/>\n",
       "</g>\n",
       "<!-- 6 -->\n",
       "<g id=\"node7\" class=\"node\"><title>6</title>\n",
       "<polygon fill=\"#e58139\" stroke=\"black\" points=\"522.655,-55.5837 430.228,-55.5837 430.228,-5.58366 522.655,-5.58366 522.655,-55.5837\"/>\n",
       "<text text-anchor=\"start\" x=\"445.468\" y=\"-40.3837\" font-family=\"Times,serif\" font-size=\"14.00\">mse = 0.38</text>\n",
       "<text text-anchor=\"start\" x=\"439.442\" y=\"-26.3837\" font-family=\"Times,serif\" font-size=\"14.00\">samples = 28</text>\n",
       "<text text-anchor=\"start\" x=\"438.085\" y=\"-12.3837\" font-family=\"Times,serif\" font-size=\"14.00\">value = 10.67</text>\n",
       "</g>\n",
       "<!-- 4&#45;&gt;6 -->\n",
       "<g id=\"edge6\" class=\"edge\"><title>4&#45;&gt;6</title>\n",
       "<path fill=\"none\" stroke=\"black\" d=\"M341.044,-83.7968C366.606,-73.6759 395.904,-62.0756 420.608,-52.2944\"/>\n",
       "<polygon fill=\"black\" stroke=\"black\" points=\"422.174,-55.4387 430.183,-48.5031 419.597,-48.9303 422.174,-55.4387\"/>\n",
       "</g>\n",
       "</g>\n",
       "</svg>\n"
      ],
      "text/plain": [
       "<graphviz.files.Source at 0x1c1bea1cc0>"
      ]
     },
     "metadata": {},
     "output_type": "display_data"
    }
   ],
   "source": [
    "draw_tree(m.estimators_[0], x_samp, precision=2)"
   ]
  },
  {
   "cell_type": "markdown",
   "metadata": {},
   "source": [
    "## 5. Writing our RF Predictor\n",
    "\n",
    "Lets look through a basic prototype of the prediction function"
   ]
  },
  {
   "cell_type": "code",
   "execution_count": 53,
   "metadata": {
    "collapsed": true
   },
   "outputs": [],
   "source": [
    "cols = ['MachineID', 'YearMade', 'MachineHoursCurrentMeter', 'ProductSize', 'Enclosure',\n",
    "        'Coupler_System', 'saleYear']"
   ]
  },
  {
   "cell_type": "code",
   "execution_count": 54,
   "metadata": {
    "collapsed": false
   },
   "outputs": [
    {
     "name": "stdout",
     "output_type": "stream",
     "text": [
      "CPU times: user 287 ms, sys: 6.72 ms, total: 294 ms\n",
      "Wall time: 293 ms\n"
     ]
    }
   ],
   "source": [
    "%time tree = TreeEnsemble(X_train[cols], y_train, 1, 1000).trees[0]\n",
    "x_samp,y_samp = tree.x, tree.y"
   ]
  },
  {
   "cell_type": "markdown",
   "metadata": {},
   "source": [
    "#### The Sk learn version"
   ]
  },
  {
   "cell_type": "code",
   "execution_count": 56,
   "metadata": {
    "collapsed": false
   },
   "outputs": [
    {
     "data": {
      "image/svg+xml": [
       "<?xml version=\"1.0\" encoding=\"UTF-8\" standalone=\"no\"?>\n",
       "<!DOCTYPE svg PUBLIC \"-//W3C//DTD SVG 1.1//EN\"\n",
       " \"http://www.w3.org/Graphics/SVG/1.1/DTD/svg11.dtd\">\n",
       "<!-- Generated by graphviz version 2.38.0 (20140413.2041)\n",
       " -->\n",
       "<!-- Title: Tree Pages: 1 -->\n",
       "<svg width=\"504pt\" height=\"454pt\"\n",
       " viewBox=\"0.00 0.00 504.00 454.08\" xmlns=\"http://www.w3.org/2000/svg\" xmlns:xlink=\"http://www.w3.org/1999/xlink\">\n",
       "<g id=\"graph0\" class=\"graph\" transform=\"scale(0.828615 0.828615) rotate(0) translate(4 544)\">\n",
       "<title>Tree</title>\n",
       "<polygon fill=\"white\" stroke=\"none\" points=\"-4,4 -4,-544 604.244,-544 604.244,4 -4,4\"/>\n",
       "<!-- 0 -->\n",
       "<g id=\"node1\" class=\"node\"><title>0</title>\n",
       "<polygon fill=\"#e58139\" fill-opacity=\"0.729412\" stroke=\"black\" points=\"141.76,-301.665 0.728663,-301.665 0.728663,-237.665 141.76,-237.665 141.76,-301.665\"/>\n",
       "<text text-anchor=\"start\" x=\"8.48682\" y=\"-286.465\" font-family=\"Times,serif\" font-size=\"14.00\">Coupler_System ≤ 0.5</text>\n",
       "<text text-anchor=\"start\" x=\"40.2705\" y=\"-272.465\" font-family=\"Times,serif\" font-size=\"14.00\">mse = 0.47</text>\n",
       "<text text-anchor=\"start\" x=\"27.2446\" y=\"-258.465\" font-family=\"Times,serif\" font-size=\"14.00\">samples = 1000</text>\n",
       "<text text-anchor=\"start\" x=\"32.8877\" y=\"-244.465\" font-family=\"Times,serif\" font-size=\"14.00\">value = 10.08</text>\n",
       "</g>\n",
       "<!-- 1 -->\n",
       "<g id=\"node2\" class=\"node\"><title>1</title>\n",
       "<polygon fill=\"#e58139\" fill-opacity=\"0.796078\" stroke=\"black\" points=\"304.609,-354.665 177.879,-354.665 177.879,-290.665 304.609,-290.665 304.609,-354.665\"/>\n",
       "<text text-anchor=\"start\" x=\"185.812\" y=\"-339.465\" font-family=\"Times,serif\" font-size=\"14.00\">YearMade ≤ 1980.5</text>\n",
       "<text text-anchor=\"start\" x=\"210.271\" y=\"-325.465\" font-family=\"Times,serif\" font-size=\"14.00\">mse = 0.41</text>\n",
       "<text text-anchor=\"start\" x=\"200.745\" y=\"-311.465\" font-family=\"Times,serif\" font-size=\"14.00\">samples = 898</text>\n",
       "<text text-anchor=\"start\" x=\"202.888\" y=\"-297.465\" font-family=\"Times,serif\" font-size=\"14.00\">value = 10.18</text>\n",
       "</g>\n",
       "<!-- 0&#45;&gt;1 -->\n",
       "<g id=\"edge1\" class=\"edge\"><title>0&#45;&gt;1</title>\n",
       "<path fill=\"none\" stroke=\"black\" d=\"M142.032,-291.682C150.612,-294.389 159.397,-297.16 168.013,-299.878\"/>\n",
       "<polygon fill=\"black\" stroke=\"black\" points=\"167.059,-303.247 177.649,-302.918 169.165,-296.572 167.059,-303.247\"/>\n",
       "<text text-anchor=\"middle\" x=\"155.472\" y=\"-310.258\" font-family=\"Times,serif\" font-size=\"14.00\">True</text>\n",
       "</g>\n",
       "<!-- 8 -->\n",
       "<g id=\"node9\" class=\"node\"><title>8</title>\n",
       "<polygon fill=\"#e58139\" fill-opacity=\"0.129412\" stroke=\"black\" points=\"304.609,-249.665 177.879,-249.665 177.879,-185.665 304.609,-185.665 304.609,-249.665\"/>\n",
       "<text text-anchor=\"start\" x=\"185.812\" y=\"-234.465\" font-family=\"Times,serif\" font-size=\"14.00\">YearMade ≤ 1998.5</text>\n",
       "<text text-anchor=\"start\" x=\"210.271\" y=\"-220.465\" font-family=\"Times,serif\" font-size=\"14.00\">mse = 0.12</text>\n",
       "<text text-anchor=\"start\" x=\"200.745\" y=\"-206.465\" font-family=\"Times,serif\" font-size=\"14.00\">samples = 102</text>\n",
       "<text text-anchor=\"start\" x=\"206.388\" y=\"-192.465\" font-family=\"Times,serif\" font-size=\"14.00\">value = 9.17</text>\n",
       "</g>\n",
       "<!-- 0&#45;&gt;8 -->\n",
       "<g id=\"edge8\" class=\"edge\"><title>0&#45;&gt;8</title>\n",
       "<path fill=\"none\" stroke=\"black\" d=\"M142.032,-248.064C150.612,-245.409 159.397,-242.69 168.013,-240.023\"/>\n",
       "<polygon fill=\"black\" stroke=\"black\" points=\"169.131,-243.341 177.649,-237.04 167.061,-236.654 169.131,-243.341\"/>\n",
       "<text text-anchor=\"middle\" x=\"155.535\" y=\"-221.18\" font-family=\"Times,serif\" font-size=\"14.00\">False</text>\n",
       "</g>\n",
       "<!-- 2 -->\n",
       "<g id=\"node3\" class=\"node\"><title>2</title>\n",
       "<polygon fill=\"#e58139\" fill-opacity=\"0.568627\" stroke=\"black\" points=\"467.609,-476.665 340.879,-476.665 340.879,-412.665 467.609,-412.665 467.609,-476.665\"/>\n",
       "<text text-anchor=\"start\" x=\"348.812\" y=\"-461.465\" font-family=\"Times,serif\" font-size=\"14.00\">YearMade ≤ 1974.5</text>\n",
       "<text text-anchor=\"start\" x=\"373.271\" y=\"-447.465\" font-family=\"Times,serif\" font-size=\"14.00\">mse = 0.28</text>\n",
       "<text text-anchor=\"start\" x=\"363.745\" y=\"-433.465\" font-family=\"Times,serif\" font-size=\"14.00\">samples = 226</text>\n",
       "<text text-anchor=\"start\" x=\"369.388\" y=\"-419.465\" font-family=\"Times,serif\" font-size=\"14.00\">value = 9.83</text>\n",
       "</g>\n",
       "<!-- 1&#45;&gt;2 -->\n",
       "<g id=\"edge2\" class=\"edge\"><title>1&#45;&gt;2</title>\n",
       "<path fill=\"none\" stroke=\"black\" d=\"M284.545,-354.719C305.446,-370.558 330.82,-389.785 352.734,-406.39\"/>\n",
       "<polygon fill=\"black\" stroke=\"black\" points=\"350.863,-409.364 360.947,-412.614 355.09,-403.785 350.863,-409.364\"/>\n",
       "</g>\n",
       "<!-- 5 -->\n",
       "<g id=\"node6\" class=\"node\"><title>5</title>\n",
       "<polygon fill=\"#e58139\" fill-opacity=\"0.874510\" stroke=\"black\" points=\"462.083,-354.665 346.405,-354.665 346.405,-290.665 462.083,-290.665 462.083,-354.665\"/>\n",
       "<text text-anchor=\"start\" x=\"354.325\" y=\"-339.465\" font-family=\"Times,serif\" font-size=\"14.00\">ProductSize ≤ 1.5</text>\n",
       "<text text-anchor=\"start\" x=\"373.271\" y=\"-325.465\" font-family=\"Times,serif\" font-size=\"14.00\">mse = 0.39</text>\n",
       "<text text-anchor=\"start\" x=\"363.745\" y=\"-311.465\" font-family=\"Times,serif\" font-size=\"14.00\">samples = 672</text>\n",
       "<text text-anchor=\"start\" x=\"369.388\" y=\"-297.465\" font-family=\"Times,serif\" font-size=\"14.00\">value = 10.3</text>\n",
       "</g>\n",
       "<!-- 1&#45;&gt;5 -->\n",
       "<g id=\"edge5\" class=\"edge\"><title>1&#45;&gt;5</title>\n",
       "<path fill=\"none\" stroke=\"black\" d=\"M304.952,-322.665C315.15,-322.665 325.749,-322.665 336.049,-322.665\"/>\n",
       "<polygon fill=\"black\" stroke=\"black\" points=\"336.223,-326.165 346.223,-322.665 336.223,-319.165 336.223,-326.165\"/>\n",
       "</g>\n",
       "<!-- 3 -->\n",
       "<g id=\"node4\" class=\"node\"><title>3</title>\n",
       "<polygon fill=\"#e58139\" fill-opacity=\"0.490196\" stroke=\"black\" points=\"600.743,-539.665 503.745,-539.665 503.745,-489.665 600.743,-489.665 600.743,-539.665\"/>\n",
       "<text text-anchor=\"start\" x=\"521.271\" y=\"-524.465\" font-family=\"Times,serif\" font-size=\"14.00\">mse = 0.25</text>\n",
       "<text text-anchor=\"start\" x=\"511.745\" y=\"-510.465\" font-family=\"Times,serif\" font-size=\"14.00\">samples = 143</text>\n",
       "<text text-anchor=\"start\" x=\"517.388\" y=\"-496.465\" font-family=\"Times,serif\" font-size=\"14.00\">value = 9.72</text>\n",
       "</g>\n",
       "<!-- 2&#45;&gt;3 -->\n",
       "<g id=\"edge3\" class=\"edge\"><title>2&#45;&gt;3</title>\n",
       "<path fill=\"none\" stroke=\"black\" d=\"M468.009,-474.758C476.749,-478.949 485.69,-483.235 494.315,-487.371\"/>\n",
       "<polygon fill=\"black\" stroke=\"black\" points=\"492.996,-490.62 503.527,-491.787 496.023,-484.308 492.996,-490.62\"/>\n",
       "</g>\n",
       "<!-- 4 -->\n",
       "<g id=\"node5\" class=\"node\"><title>4</title>\n",
       "<polygon fill=\"#e58139\" fill-opacity=\"0.694118\" stroke=\"black\" points=\"598.457,-469.665 506.031,-469.665 506.031,-419.665 598.457,-419.665 598.457,-469.665\"/>\n",
       "<text text-anchor=\"start\" x=\"521.271\" y=\"-454.465\" font-family=\"Times,serif\" font-size=\"14.00\">mse = 0.29</text>\n",
       "<text text-anchor=\"start\" x=\"515.245\" y=\"-440.465\" font-family=\"Times,serif\" font-size=\"14.00\">samples = 83</text>\n",
       "<text text-anchor=\"start\" x=\"513.888\" y=\"-426.465\" font-family=\"Times,serif\" font-size=\"14.00\">value = 10.03</text>\n",
       "</g>\n",
       "<!-- 2&#45;&gt;4 -->\n",
       "<g id=\"edge4\" class=\"edge\"><title>2&#45;&gt;4</title>\n",
       "<path fill=\"none\" stroke=\"black\" d=\"M468.009,-444.665C477.218,-444.665 486.649,-444.665 495.699,-444.665\"/>\n",
       "<polygon fill=\"black\" stroke=\"black\" points=\"495.724,-448.165 505.724,-444.665 495.724,-441.165 495.724,-448.165\"/>\n",
       "</g>\n",
       "<!-- 6 -->\n",
       "<g id=\"node7\" class=\"node\"><title>6</title>\n",
       "<polygon fill=\"#e58139\" fill-opacity=\"0.752941\" stroke=\"black\" points=\"600.743,-399.665 503.745,-399.665 503.745,-349.665 600.743,-349.665 600.743,-399.665\"/>\n",
       "<text text-anchor=\"start\" x=\"521.271\" y=\"-384.465\" font-family=\"Times,serif\" font-size=\"14.00\">mse = 0.29</text>\n",
       "<text text-anchor=\"start\" x=\"511.745\" y=\"-370.465\" font-family=\"Times,serif\" font-size=\"14.00\">samples = 341</text>\n",
       "<text text-anchor=\"start\" x=\"514.144\" y=\"-356.465\" font-family=\"Times,serif\" font-size=\"14.00\">value = 10.11</text>\n",
       "</g>\n",
       "<!-- 5&#45;&gt;6 -->\n",
       "<g id=\"edge6\" class=\"edge\"><title>5&#45;&gt;6</title>\n",
       "<path fill=\"none\" stroke=\"black\" d=\"M462.11,-342.919C472.531,-346.631 483.414,-350.507 493.85,-354.224\"/>\n",
       "<polygon fill=\"black\" stroke=\"black\" points=\"492.689,-357.525 503.283,-357.584 495.037,-350.931 492.689,-357.525\"/>\n",
       "</g>\n",
       "<!-- 7 -->\n",
       "<g id=\"node8\" class=\"node\"><title>7</title>\n",
       "<polygon fill=\"#e58139\" stroke=\"black\" points=\"600.743,-329.665 503.745,-329.665 503.745,-279.665 600.743,-279.665 600.743,-329.665\"/>\n",
       "<text text-anchor=\"start\" x=\"521.271\" y=\"-314.465\" font-family=\"Times,serif\" font-size=\"14.00\">mse = 0.43</text>\n",
       "<text text-anchor=\"start\" x=\"511.745\" y=\"-300.465\" font-family=\"Times,serif\" font-size=\"14.00\">samples = 331</text>\n",
       "<text text-anchor=\"start\" x=\"513.888\" y=\"-286.465\" font-family=\"Times,serif\" font-size=\"14.00\">value = 10.49</text>\n",
       "</g>\n",
       "<!-- 5&#45;&gt;7 -->\n",
       "<g id=\"edge7\" class=\"edge\"><title>5&#45;&gt;7</title>\n",
       "<path fill=\"none\" stroke=\"black\" d=\"M462.11,-315.655C472.318,-314.396 482.97,-313.083 493.211,-311.82\"/>\n",
       "<polygon fill=\"black\" stroke=\"black\" points=\"493.787,-315.276 503.283,-310.578 492.93,-308.328 493.787,-315.276\"/>\n",
       "</g>\n",
       "<!-- 9 -->\n",
       "<g id=\"node10\" class=\"node\"><title>9</title>\n",
       "<polygon fill=\"#e58139\" fill-opacity=\"0.031373\" stroke=\"black\" points=\"462.499,-249.665 345.989,-249.665 345.989,-185.665 462.499,-185.665 462.499,-249.665\"/>\n",
       "<text text-anchor=\"start\" x=\"353.867\" y=\"-234.465\" font-family=\"Times,serif\" font-size=\"14.00\">saleYear ≤ 1995.5</text>\n",
       "<text text-anchor=\"start\" x=\"376.771\" y=\"-220.465\" font-family=\"Times,serif\" font-size=\"14.00\">mse = 0.1</text>\n",
       "<text text-anchor=\"start\" x=\"367.245\" y=\"-206.465\" font-family=\"Times,serif\" font-size=\"14.00\">samples = 49</text>\n",
       "<text text-anchor=\"start\" x=\"369.388\" y=\"-192.465\" font-family=\"Times,serif\" font-size=\"14.00\">value = 9.02</text>\n",
       "</g>\n",
       "<!-- 8&#45;&gt;9 -->\n",
       "<g id=\"edge9\" class=\"edge\"><title>8&#45;&gt;9</title>\n",
       "<path fill=\"none\" stroke=\"black\" d=\"M304.952,-217.665C315.084,-217.665 325.611,-217.665 335.848,-217.665\"/>\n",
       "<polygon fill=\"black\" stroke=\"black\" points=\"335.963,-221.165 345.963,-217.665 335.963,-214.165 335.963,-221.165\"/>\n",
       "</g>\n",
       "<!-- 12 -->\n",
       "<g id=\"node13\" class=\"node\"><title>12</title>\n",
       "<polygon fill=\"#e58139\" fill-opacity=\"0.219608\" stroke=\"black\" points=\"462.499,-127.665 345.989,-127.665 345.989,-63.6654 462.499,-63.6654 462.499,-127.665\"/>\n",
       "<text text-anchor=\"start\" x=\"353.867\" y=\"-112.465\" font-family=\"Times,serif\" font-size=\"14.00\">saleYear ≤ 2007.5</text>\n",
       "<text text-anchor=\"start\" x=\"376.771\" y=\"-98.4654\" font-family=\"Times,serif\" font-size=\"14.00\">mse = 0.1</text>\n",
       "<text text-anchor=\"start\" x=\"367.245\" y=\"-84.4654\" font-family=\"Times,serif\" font-size=\"14.00\">samples = 53</text>\n",
       "<text text-anchor=\"start\" x=\"369.388\" y=\"-70.4654\" font-family=\"Times,serif\" font-size=\"14.00\">value = 9.31</text>\n",
       "</g>\n",
       "<!-- 8&#45;&gt;12 -->\n",
       "<g id=\"edge12\" class=\"edge\"><title>8&#45;&gt;12</title>\n",
       "<path fill=\"none\" stroke=\"black\" d=\"M284.545,-185.611C305.446,-169.773 330.82,-150.546 352.734,-133.94\"/>\n",
       "<polygon fill=\"black\" stroke=\"black\" points=\"355.09,-136.546 360.947,-127.717 350.863,-130.967 355.09,-136.546\"/>\n",
       "</g>\n",
       "<!-- 10 -->\n",
       "<g id=\"node11\" class=\"node\"><title>10</title>\n",
       "<polygon fill=\"#e58139\" fill-opacity=\"0.317647\" stroke=\"black\" points=\"594.958,-259.665 509.531,-259.665 509.531,-209.665 594.958,-209.665 594.958,-259.665\"/>\n",
       "<text text-anchor=\"start\" x=\"521.271\" y=\"-244.465\" font-family=\"Times,serif\" font-size=\"14.00\">mse = 0.03</text>\n",
       "<text text-anchor=\"start\" x=\"518.745\" y=\"-230.465\" font-family=\"Times,serif\" font-size=\"14.00\">samples = 5</text>\n",
       "<text text-anchor=\"start\" x=\"517.388\" y=\"-216.465\" font-family=\"Times,serif\" font-size=\"14.00\">value = 9.46</text>\n",
       "</g>\n",
       "<!-- 9&#45;&gt;10 -->\n",
       "<g id=\"edge10\" class=\"edge\"><title>9&#45;&gt;10</title>\n",
       "<path fill=\"none\" stroke=\"black\" d=\"M462.528,-224.335C474.639,-225.746 487.355,-227.226 499.257,-228.612\"/>\n",
       "<polygon fill=\"black\" stroke=\"black\" points=\"499.133,-232.121 509.471,-229.801 499.942,-225.168 499.133,-232.121\"/>\n",
       "</g>\n",
       "<!-- 11 -->\n",
       "<g id=\"node12\" class=\"node\"><title>11</title>\n",
       "<polygon fill=\"none\" stroke=\"black\" points=\"597.243,-190.665 507.245,-190.665 507.245,-140.665 597.243,-140.665 597.243,-190.665\"/>\n",
       "<text text-anchor=\"start\" x=\"521.271\" y=\"-175.465\" font-family=\"Times,serif\" font-size=\"14.00\">mse = 0.08</text>\n",
       "<text text-anchor=\"start\" x=\"515.245\" y=\"-161.465\" font-family=\"Times,serif\" font-size=\"14.00\">samples = 44</text>\n",
       "<text text-anchor=\"start\" x=\"517.388\" y=\"-147.465\" font-family=\"Times,serif\" font-size=\"14.00\">value = 8.97</text>\n",
       "</g>\n",
       "<!-- 9&#45;&gt;11 -->\n",
       "<g id=\"edge11\" class=\"edge\"><title>9&#45;&gt;11</title>\n",
       "<path fill=\"none\" stroke=\"black\" d=\"M462.528,-197.263C474.137,-193.128 486.302,-188.795 497.773,-184.71\"/>\n",
       "<polygon fill=\"black\" stroke=\"black\" points=\"498.972,-187.998 507.218,-181.346 496.623,-181.404 498.972,-187.998\"/>\n",
       "</g>\n",
       "<!-- 13 -->\n",
       "<g id=\"node14\" class=\"node\"><title>13</title>\n",
       "<polygon fill=\"#e58139\" fill-opacity=\"0.333333\" stroke=\"black\" points=\"597.243,-120.665 507.245,-120.665 507.245,-70.6654 597.243,-70.6654 597.243,-120.665\"/>\n",
       "<text text-anchor=\"start\" x=\"521.271\" y=\"-105.465\" font-family=\"Times,serif\" font-size=\"14.00\">mse = 0.08</text>\n",
       "<text text-anchor=\"start\" x=\"515.245\" y=\"-91.4654\" font-family=\"Times,serif\" font-size=\"14.00\">samples = 22</text>\n",
       "<text text-anchor=\"start\" x=\"517.388\" y=\"-77.4654\" font-family=\"Times,serif\" font-size=\"14.00\">value = 9.48</text>\n",
       "</g>\n",
       "<!-- 12&#45;&gt;13 -->\n",
       "<g id=\"edge13\" class=\"edge\"><title>12&#45;&gt;13</title>\n",
       "<path fill=\"none\" stroke=\"black\" d=\"M462.528,-95.6654C473.905,-95.6654 485.816,-95.6654 497.084,-95.6654\"/>\n",
       "<polygon fill=\"black\" stroke=\"black\" points=\"497.218,-99.1655 507.218,-95.6654 497.218,-92.1655 497.218,-99.1655\"/>\n",
       "</g>\n",
       "<!-- 14 -->\n",
       "<g id=\"node15\" class=\"node\"><title>14</title>\n",
       "<polygon fill=\"#e58139\" fill-opacity=\"0.141176\" stroke=\"black\" points=\"597.243,-50.6654 507.245,-50.6654 507.245,-0.665399 597.243,-0.665399 597.243,-50.6654\"/>\n",
       "<text text-anchor=\"start\" x=\"521.271\" y=\"-35.4654\" font-family=\"Times,serif\" font-size=\"14.00\">mse = 0.08</text>\n",
       "<text text-anchor=\"start\" x=\"515.245\" y=\"-21.4654\" font-family=\"Times,serif\" font-size=\"14.00\">samples = 31</text>\n",
       "<text text-anchor=\"start\" x=\"517.388\" y=\"-7.4654\" font-family=\"Times,serif\" font-size=\"14.00\">value = 9.19</text>\n",
       "</g>\n",
       "<!-- 12&#45;&gt;14 -->\n",
       "<g id=\"edge14\" class=\"edge\"><title>12&#45;&gt;14</title>\n",
       "<path fill=\"none\" stroke=\"black\" d=\"M462.528,-68.2005C474.253,-62.579 486.546,-56.6852 498.117,-51.1372\"/>\n",
       "<polygon fill=\"black\" stroke=\"black\" points=\"499.714,-54.2531 507.218,-46.7738 496.688,-47.9411 499.714,-54.2531\"/>\n",
       "</g>\n",
       "</g>\n",
       "</svg>\n"
      ],
      "text/plain": [
       "<graphviz.files.Source at 0x1c1cebf908>"
      ]
     },
     "metadata": {},
     "output_type": "display_data"
    }
   ],
   "source": [
    "m = RandomForestRegressor(n_estimators=1, max_depth=3, bootstrap=False)\n",
    "m.fit(x_samp, y_samp)\n",
    "draw_tree(m.estimators_[0], x_samp, precision=2, ratio=0.9, size=7)"
   ]
  },
  {
   "cell_type": "code",
   "execution_count": 57,
   "metadata": {
    "collapsed": true
   },
   "outputs": [],
   "source": [
    "def predict(self, x): return np.array([self.predict_row(xi) for xi in x])\n",
    "    \n",
    "DecisionTree.predict = predict"
   ]
  },
  {
   "cell_type": "markdown",
   "metadata": {},
   "source": [
    "#### Inline If functions\n",
    "\n",
    "```python\n",
    "if x > 1:\n",
    "    x = \"greater\"\n",
    "else:\n",
    "    x =\"lesser\"\n",
    "```\n",
    "\n",
    "Can be written as the following:\n",
    "\n",
    "```python\n",
    "x = \"greater\" if x > 1 else \"lesser\"\n",
    "```"
   ]
  },
  {
   "cell_type": "code",
   "execution_count": 58,
   "metadata": {
    "collapsed": true
   },
   "outputs": [],
   "source": [
    "def predict_row(self, xi):\n",
    "    \n",
    "    #if leaf return\n",
    "    if self.is_leaf: return self.val\n",
    "    \n",
    "    # otherwise return lhs or right hand side\n",
    "    # this is an exampel of inline if value\n",
    "    t = self.lhs if xi[self.var_idx]<=self.split else self.rhs\n",
    "    return t.predict_row(xi)\n",
    "\n",
    "DecisionTree.predict_row = predict_row"
   ]
  },
  {
   "cell_type": "code",
   "execution_count": 59,
   "metadata": {
    "collapsed": false
   },
   "outputs": [
    {
     "name": "stdout",
     "output_type": "stream",
     "text": [
      "CPU times: user 89 ms, sys: 2.18 ms, total: 91.2 ms\n",
      "Wall time: 90.6 ms\n"
     ]
    }
   ],
   "source": [
    "%time preds = tree.predict(X_valid[cols].values)"
   ]
  },
  {
   "cell_type": "markdown",
   "metadata": {},
   "source": [
    "## 6. Looking at scores"
   ]
  },
  {
   "cell_type": "code",
   "execution_count": 60,
   "metadata": {
    "collapsed": false
   },
   "outputs": [
    {
     "data": {
      "text/plain": [
       "<matplotlib.collections.PathCollection at 0x1c1e4ca438>"
      ]
     },
     "execution_count": 60,
     "metadata": {},
     "output_type": "execute_result"
    },
    {
     "data": {
      "image/png": "[encoded data removed]",
      "text/plain": [
       "<matplotlib.figure.Figure at 0x1c1cec4630>"
      ]
     },
     "metadata": {},
     "output_type": "display_data"
    }
   ],
   "source": [
    "plt.scatter(preds, y_valid, alpha=0.05)"
   ]
  },
  {
   "cell_type": "code",
   "execution_count": 61,
   "metadata": {
    "collapsed": false
   },
   "outputs": [
    {
     "data": {
      "text/plain": [
       "0.50371522136882341"
      ]
     },
     "execution_count": 61,
     "metadata": {},
     "output_type": "execute_result"
    }
   ],
   "source": [
    "metrics.r2_score(preds, y_valid)"
   ]
  },
  {
   "cell_type": "markdown",
   "metadata": {},
   "source": [
    "### Compare to the Sklearn Plot"
   ]
  },
  {
   "cell_type": "code",
   "execution_count": 62,
   "metadata": {
    "collapsed": false
   },
   "outputs": [
    {
     "name": "stdout",
     "output_type": "stream",
     "text": [
      "CPU times: user 3.38 ms, sys: 632 µs, total: 4.02 ms\n",
      "Wall time: 3.44 ms\n"
     ]
    },
    {
     "data": {
      "text/plain": [
       "<matplotlib.collections.PathCollection at 0x1c1e669240>"
      ]
     },
     "execution_count": 62,
     "metadata": {},
     "output_type": "execute_result"
    },
    {
     "data": {
      "image/png": "[encoded data removed]",
      "text/plain": [
       "<matplotlib.figure.Figure at 0x117f5d4e0>"
      ]
     },
     "metadata": {},
     "output_type": "display_data"
    }
   ],
   "source": [
    "m = RandomForestRegressor(n_estimators=1, min_samples_leaf=5, bootstrap=False)\n",
    "%time m.fit(x_samp, y_samp)\n",
    "preds = m.predict(X_valid[cols].values)\n",
    "plt.scatter(preds, y_valid, alpha=0.05)"
   ]
  },
  {
   "cell_type": "code",
   "execution_count": 63,
   "metadata": {
    "collapsed": false
   },
   "outputs": [
    {
     "data": {
      "text/plain": [
       "0.47541053100694763"
      ]
     },
     "execution_count": 63,
     "metadata": {},
     "output_type": "execute_result"
    }
   ],
   "source": [
    "metrics.r2_score(preds, y_valid)"
   ]
  },
  {
   "cell_type": "markdown",
   "metadata": {},
   "source": [
    "## 6. Assembling the Final Version\n",
    "\n",
    "And below we cut and paste all the necessary functions and collect it in two neat classes as listed down below"
   ]
  },
  {
   "cell_type": "code",
   "execution_count": 64,
   "metadata": {
    "collapsed": true
   },
   "outputs": [],
   "source": [
    "class TreeEnsemble():\n",
    "    def __init__(self, x, y, n_trees, sample_sz, min_leaf=5):\n",
    "        np.random.seed(42)\n",
    "        self.x,self.y,self.sample_sz,self.min_leaf = x,y,sample_sz,min_leaf\n",
    "        self.trees = [self.create_tree() for i in range(n_trees)]\n",
    "\n",
    "    def create_tree(self):\n",
    "        idxs = np.random.permutation(len(self.y))[:self.sample_sz]\n",
    "        return DecisionTree(self.x.iloc[idxs], self.y[idxs], \n",
    "                    idxs=np.array(range(self.sample_sz)), min_leaf=self.min_leaf)\n",
    "        \n",
    "    def predict(self, x):\n",
    "        return np.mean([t.predict(x) for t in self.trees], axis=0)\n",
    "\n",
    "def std_agg(cnt, s1, s2): return math.sqrt((s2/cnt) - (s1/cnt)**2)"
   ]
  },
  {
   "cell_type": "code",
   "execution_count": null,
   "metadata": {
    "collapsed": true
   },
   "outputs": [],
   "source": [
    "class DecisionTree():\n",
    "    def __init__(self, x, y, idxs, min_leaf=5):\n",
    "        self.x,self.y,self.idxs,self.min_leaf = x,y,idxs,min_leaf\n",
    "        self.n,self.c = len(idxs), x.shape[1]\n",
    "        self.val = np.mean(y[idxs])\n",
    "        self.score = float('inf')\n",
    "        self.find_varsplit()\n",
    "        \n",
    "    def find_varsplit(self):\n",
    "        for i in range(self.c): self.find_better_split(i)\n",
    "        if self.score == float('inf'): return\n",
    "        x = self.split_col\n",
    "        lhs = np.nonzero(x<=self.split)[0]\n",
    "        rhs = np.nonzero(x>self.split)[0]\n",
    "        self.lhs = DecisionTree(self.x, self.y, self.idxs[lhs])\n",
    "        self.rhs = DecisionTree(self.x, self.y, self.idxs[rhs])\n",
    "\n",
    "    def find_better_split(self, var_idx):\n",
    "        x,y = self.x.values[self.idxs,var_idx], self.y[self.idxs]\n",
    "        sort_idx = np.argsort(x)\n",
    "        sort_y,sort_x = y[sort_idx], x[sort_idx]\n",
    "        rhs_cnt,rhs_sum,rhs_sum2 = self.n, sort_y.sum(), (sort_y**2).sum()\n",
    "        lhs_cnt,lhs_sum,lhs_sum2 = 0,0.,0.\n",
    "\n",
    "        for i in range(0,self.n-self.min_leaf-1):\n",
    "            xi,yi = sort_x[i],sort_y[i]\n",
    "            lhs_cnt += 1; rhs_cnt -= 1\n",
    "            lhs_sum += yi; rhs_sum -= yi\n",
    "            lhs_sum2 += yi**2; rhs_sum2 -= yi**2\n",
    "            if i<self.min_leaf or xi==sort_x[i+1]:\n",
    "                continue\n",
    "\n",
    "            lhs_std = std_agg(lhs_cnt, lhs_sum, lhs_sum2)\n",
    "            rhs_std = std_agg(rhs_cnt, rhs_sum, rhs_sum2)\n",
    "            curr_score = lhs_std*lhs_cnt + rhs_std*rhs_cnt\n",
    "            if curr_score<self.score: \n",
    "                self.var_idx,self.score,self.split = var_idx,curr_score,xi\n",
    "\n",
    "    @property\n",
    "    def split_name(self): return self.x.columns[self.var_idx]\n",
    "    \n",
    "    @property\n",
    "    def split_col(self): return self.x.values[self.idxs,self.var_idx]\n",
    "\n",
    "    @property\n",
    "    def is_leaf(self): return self.score == float('inf')\n",
    "    \n",
    "    def __repr__(self):\n",
    "        s = f'n: {self.n}; val:{self.val}'\n",
    "        if not self.is_leaf:\n",
    "            s += f'; score:{self.score}; split:{self.split}; var:{self.split_name}'\n",
    "        return s\n",
    "\n",
    "    def predict(self, x):\n",
    "        return np.array([self.predict_row(xi) for xi in x])\n",
    "\n",
    "    def predict_row(self, xi):\n",
    "        if self.is_leaf: return self.val\n",
    "        t = self.lhs if xi[self.var_idx]<=self.split else self.rhs\n",
    "        return t.predict_row(xi)"
   ]
  },
  {
   "cell_type": "code",
   "execution_count": 66,
   "metadata": {
    "collapsed": false,
    "scrolled": true
   },
   "outputs": [
    {
     "name": "stdout",
     "output_type": "stream",
     "text": [
      "Requirement already satisfied: Cython in /Users/tlee010/anaconda/envs/dsi/lib/python2.7/site-packages\r\n"
     ]
    }
   ],
   "source": [
    "!pip install Cython"
   ]
  },
  {
   "cell_type": "code",
   "execution_count": 71,
   "metadata": {
    "collapsed": false
   },
   "outputs": [
    {
     "name": "stdout",
     "output_type": "stream",
     "text": [
      "Fetching package metadata ...........\n",
      "Solving package specifications: .\n",
      "\n",
      "Package plan for installation in environment /Users/tlee010/anaconda/envs/dsi:\n",
      "\n",
      "The following packages will be UPDATED:\n",
      "\n",
      "    cython: 0.24-py27_0 --> 0.26.1-py27h6a053f9_0\n",
      "\n",
      "Proceed ([y]/n)? ^C\n"
     ]
    }
   ],
   "source": [
    "!conda install Cython"
   ]
  },
  {
   "cell_type": "markdown",
   "metadata": {},
   "source": [
    "## 7. Cython - more speed improvements"
   ]
  },
  {
   "cell_type": "markdown",
   "metadata": {},
   "source": [
    "A super set of python"
   ]
  },
  {
   "cell_type": "code",
   "execution_count": 1,
   "metadata": {
    "collapsed": false
   },
   "outputs": [],
   "source": [
    "%load_ext Cython"
   ]
  },
  {
   "cell_type": "markdown",
   "metadata": {},
   "source": [
    "#### Pure Python"
   ]
  },
  {
   "cell_type": "code",
   "execution_count": 2,
   "metadata": {
    "collapsed": true
   },
   "outputs": [],
   "source": [
    "def fib1(n):\n",
    "    a, b = 0,1\n",
    "    while b < n:\n",
    "        a,b = b, a +b"
   ]
  },
  {
   "cell_type": "code",
   "execution_count": 5,
   "metadata": {
    "collapsed": false
   },
   "outputs": [
    {
     "name": "stdout",
     "output_type": "stream",
     "text": [
      "308 ns ± 8.24 ns per loop (mean ± std. dev. of 7 runs, 1000000 loops each)\n"
     ]
    }
   ],
   "source": [
    "%timeit fib1(50)"
   ]
  },
  {
   "cell_type": "markdown",
   "metadata": {},
   "source": [
    "#### Cython Wrapper"
   ]
  },
  {
   "cell_type": "code",
   "execution_count": 6,
   "metadata": {
    "collapsed": true
   },
   "outputs": [],
   "source": [
    "%%cython\n",
    "def fib2(n):\n",
    "    a, b = 0,1\n",
    "    while b < n:\n",
    "        a,b = b, a +b"
   ]
  },
  {
   "cell_type": "code",
   "execution_count": 7,
   "metadata": {
    "collapsed": false
   },
   "outputs": [
    {
     "name": "stdout",
     "output_type": "stream",
     "text": [
      "306 ns ± 6.26 ns per loop (mean ± std. dev. of 7 runs, 1000000 loops each)\n"
     ]
    }
   ],
   "source": [
    "%timeit fib2(50)"
   ]
  },
  {
   "cell_type": "markdown",
   "metadata": {},
   "source": [
    "#### Cython version with Typing Specified"
   ]
  },
  {
   "cell_type": "code",
   "execution_count": 16,
   "metadata": {
    "collapsed": false
   },
   "outputs": [],
   "source": [
    "%%cython\n",
    "def fib3(int n):\n",
    "    cdef int b = 1\n",
    "    cdef int a = 0\n",
    "    cdef int t = 0\n",
    "    while b < n:\n",
    "        t = a\n",
    "        a = b\n",
    "        b = t + b"
   ]
  },
  {
   "cell_type": "code",
   "execution_count": 17,
   "metadata": {
    "collapsed": false
   },
   "outputs": [
    {
     "name": "stdout",
     "output_type": "stream",
     "text": [
      "51.4 ns ± 0.903 ns per loop (mean ± std. dev. of 7 runs, 10000000 loops each)\n"
     ]
    }
   ],
   "source": [
    "%timeit fib3(50)"
   ]
  },
  {
   "cell_type": "markdown",
   "metadata": {},
   "source": [
    "### Homework\n",
    "\n",
    "#### Confidence Based Tree Variance\n",
    "#### Feature Importance\n",
    "#### Partial Dependence\n",
    "#### Tree Interpreter\n",
    "#### Bonus : Interaction Importance"
   ]
  },
  {
   "cell_type": "code",
   "execution_count": null,
   "metadata": {
    "collapsed": true
   },
   "outputs": [],
   "source": []
  }
 ],
 "metadata": {
  "anaconda-cloud": {},
  "kernelspec": {
   "display_name": "Python [fastai]",
   "language": "python",
   "name": "Python [fastai]"
  },
  "language_info": {
   "codemirror_mode": {
    "name": "ipython",
    "version": 3
   },
   "file_extension": ".py",
   "mimetype": "text/x-python",
   "name": "python",
   "nbconvert_exporter": "python",
   "pygments_lexer": "ipython3",
   "version": "3.6.3"
  }
 },
 "nbformat": 4,
 "nbformat_minor": 0
}
