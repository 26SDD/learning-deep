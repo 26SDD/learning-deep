{
 "cells": [
  {
   "cell_type": "markdown",
   "metadata": {},
   "source": [
    "# ML-Lecture5.1"
   ]
  },
  {
   "cell_type": "markdown",
   "metadata": {},
   "source": [
    "\n",
    "### Goals\n",
    "\n",
    "Anything you watched me code in class, i expect you to be able to do. Why we are doing it, and then , working on the random forest \n",
    "\n",
    "Partial random forest and complete it"
   ]
  },
  {
   "cell_type": "code",
   "execution_count": 5,
   "metadata": {
    "collapsed": false
   },
   "outputs": [
    {
     "name": "stdout",
     "output_type": "stream",
     "text": [
      "The autoreload extension is already loaded. To reload it, use:\n",
      "  %reload_ext autoreload\n"
     ]
    }
   ],
   "source": [
    "%load_ext autoreload\n",
    "%autoreload 2"
   ]
  },
  {
   "cell_type": "code",
   "execution_count": 6,
   "metadata": {
    "collapsed": true
   },
   "outputs": [],
   "source": [
    "%matplotlib inline\n",
    "\n",
    "import sys\n",
    "\n",
    "# or wherever you have saved the repo\n",
    "sys.path.append('/Users/tlee010/Desktop/github_repos/fastai/')\n",
    "\n",
    "from fastai.imports import *\n",
    "from fastai.structured import *\n",
    "from sklearn.ensemble import RandomForestRegressor, RandomForestClassifier\n",
    "from IPython.display import display\n",
    "from sklearn import metrics"
   ]
  },
  {
   "cell_type": "code",
   "execution_count": null,
   "metadata": {
    "collapsed": true
   },
   "outputs": [],
   "source": [
    "PATH = \"data/bulldozers/\"\n",
    "%time df_raw = feather.read_dataframe('/Users/tlee010/kaggle/bulldozers/bulldozers-raw')"
   ]
  },
  {
   "cell_type": "markdown",
   "metadata": {},
   "source": [
    "### Why do we do machine learning? What's the point?\n",
    "\n",
    "**Examples**\n",
    "- Applications of machine learning\n",
    "- LTV\n",
    "- Churn\n",
    "- Upselling\n",
    "- Discount Targeting\n",
    "- ...\n",
    "\n",
    "**Churn** \n",
    "The predictive modeling isn't great. It will identify who is going to leave. To understand why you would do churn modeling, we consider the following:\n",
    "\n",
    "#### How to design data products:\n",
    "\n",
    "https://www.oreilly.com/ideas/drivetrain-approach-data-products\n",
    "\n",
    "\n",
    "![http://cdn.oreilly.com/radar/images/posts/0312-1-drivetrain-approach-lg.png](http://cdn.oreilly.com/radar/images/posts/0312-1-drivetrain-approach-lg.png)\n",
    "\n",
    "**Objective** - is the thing that the company actually wants. The most important thing.\n",
    "\n",
    "**Levers** - is a thing the organization can do to drive or control the objective. Examples: outreach, price control, fees, or better customer experience. What are the actual things we can do to make these things happen.\n",
    "\n",
    "**Data** - What data does the organization have (or could collect) that could possibly have that would help design that lever or target a specific objective. Customer call frequency, or addresses, customer profiles. History of past incentives. \n",
    "\n",
    "**Models** - model in the sense of a simulation model. If a company changes their prices, how does this change their profitability. This is based on probability, such as % of claim, % of new customer. Combining all these factors, what is the over approximate bottom line going forward in the market?\n",
    "\n",
    "You are going to care more about the simulation (compared to the data science model that we are talking about). If you read all of douglas adams books, and Amazon recommends the collected works. While in the realm of machine learning this is correct, its wasted. You would have already liked the book, and aware of all of these. \n",
    "\n",
    "Instead, models should try and alter customer behavior by recommending things not seen but similar.\n",
    "\n",
    "**Simulation Model** - in world with a new book on the homepage, what will happen? So of all the possible products to be placed on the homepage, we want the most maximized option.\n",
    "\n",
    "**Back to Churn** - if Jeremy is going to leave Verizon. If the company calls him, most people hate that. Whats the probability that Jeremy will stay if you call him? Alternatively if you gave him a mail that offered a 100k a day for staying? Great choice, but the profit would tank. \n",
    "\n",
    "** There's always a practical consideration in modeling data **\n",
    "\n",
    "## We care about the interpretation more the predictive problem. \n",
    "\n",
    "- if you can't change the feature thing - no use\n",
    "- if the feature/ aspect is not that interesting - also not useful\n",
    "- use random forest model at the intersection to answer some of these questions\n",
    "- are we making the compelling story to sell the results and lead to insights?\n",
    "\n",
    "#### Consider the context when making the machine learning models\n",
    "- Understand the clients\n",
    "- Understand the stake\n",
    "- Understand the strategic context\n",
    "- Move beyond the predictive models to bring it all together\n",
    "\n",
    "\n",
    "### Vertical Applications\n",
    "\n",
    "**Healthcare - readmission risk** - Whats the % chance a patient will come back. What do you do about it? Doing a tree interpreter will help identify the different items and key features. "
   ]
  },
  {
   "cell_type": "markdown",
   "metadata": {},
   "source": [
    "### Confidence in Tree Prediction Variance (for a row)\n",
    "\n",
    "Looking at the variance of the predictions. We hold one row, and we look through the different trees to see which has the highest variance. If we are putting out a big algorithm, we dont care about the average prediction, but we care about the standard deviation of the predictions. Maybe there's a whole group of people that we are not confidence about.\n",
    "\n",
    "### Feature Importance\n",
    "\n",
    "Which features are important in the model. We freeze everything else and randomly sample the feature to see how much the end prediction changes. If the validation score changes a lot, that is an \"important feature\". We take the difference in R^2 to give us the feature importance. \n",
    "\n",
    "**key thing** dont want to retrain the model. Using the existing model, and randomly shuffle the whole column, the mean and the distribution are teh same, but the row connection is different. We use that new version and run it through the existing model (no re-training) then re-score. Then we can do this for each feature and see how the RMSE changes. The difference in RMSE will become the feature importance. The absolute difference doesn't matter, the relative difference is what is important. \n",
    "\n",
    "### Partial Dependence\n",
    "\n",
    "Vast majority of the time, someone will show a univariate chart. This is a problem is that real world has a lot of interactions between different fields. In our illustration, whats the interaction between sales price + year made. Pulling them appart with partial dependence we can find the true relationship. We will take our data, freeze all other features, replace every single value with the same thing, in this example year with 1960, and we will get a set of predictions (all for 1960) The median of all the rows is the yellow line, and all of them will give a spread.\n",
    "\n",
    "** Why does this work? ** - whats the average option? Average sale date, common machine, most popular location. A single row will often represent the single option. That would give us a version of the relationship between year made and sale price. What if tractors overall increased in price, and what if backhoe loaders decreased? On average the amounts would level out, but it would be lost in the average. \n",
    "\n",
    "We can then do a cluster analysis to find the different shapes.\n",
    "\n",
    "Is this the shape that I expect?\n",
    "\n",
    "### Tree Interpretation ( for a row)\n",
    "\n",
    "For one particular row and trace it through the random forest. Starting with the mean and then note how much each feature affects the target variable piece by piece. This is the point that we looked at waterfall charts. \n",
    "\n",
    "### Reminder about Nans in Fields (in categorical variables)\n",
    "\n",
    "Pandas - changes it to -1, FastAI adds one, and changes it to 0. Often times missing values are a strong signal for a predictor, but could also show data leakage (no data defaults, or poorly collected data)"
   ]
  },
  {
   "cell_type": "markdown",
   "metadata": {},
   "source": [
    "### Interaction Importance <- pulled from feature importance\n",
    "\n",
    "Another way to do tree interpretter for everyrow and adding up the contribution. Its another way of identifying feature importance, but over the entire dataset.\n",
    "\n",
    "if we start \n",
    "10 --> enclosure 9.5 --> year made --> 9.7 --meter -> 9.4\n",
    "\n",
    "We could state that:\n",
    "- enclosure + year made --> = -0.3 for this\n",
    "- year + meter --> -0.1\n",
    "- enclosure + year made + meter --> -0.6\n"
   ]
  },
  {
   "cell_type": "code",
   "execution_count": 4,
   "metadata": {
    "collapsed": false
   },
   "outputs": [
    {
     "name": "stdout",
     "output_type": "stream",
     "text": [
      "import complete\n"
     ]
    }
   ],
   "source": [
    "import feather\n",
    "df_raw = feather.read_dataframe('/Users/tlee010/kaggle/bulldozers/bulldozers-raw')\n",
    "print('import complete')"
   ]
  },
  {
   "cell_type": "code",
   "execution_count": 7,
   "metadata": {
    "collapsed": false
   },
   "outputs": [
    {
     "name": "stdout",
     "output_type": "stream",
     "text": [
      "The autoreload extension is already loaded. To reload it, use:\n",
      "  %reload_ext autoreload\n"
     ]
    }
   ],
   "source": [
    "%load_ext autoreload\n",
    "%autoreload 2"
   ]
  },
  {
   "cell_type": "markdown",
   "metadata": {},
   "source": [
    "## Live Coding"
   ]
  },
  {
   "cell_type": "code",
   "execution_count": 21,
   "metadata": {
    "collapsed": true
   },
   "outputs": [],
   "source": [
    "from fastai.imports import *\n",
    "from sklearn.ensemble import RandomForestRegressor\n",
    "import numpy as np\n",
    "import matplotlib.pyplot as plt\n",
    "% matplotlib inline"
   ]
  },
  {
   "cell_type": "markdown",
   "metadata": {},
   "source": [
    "#### Synthetic Data creation"
   ]
  },
  {
   "cell_type": "markdown",
   "metadata": {},
   "source": [
    "#### Make a generic x dataset"
   ]
  },
  {
   "cell_type": "code",
   "execution_count": 13,
   "metadata": {
    "collapsed": false
   },
   "outputs": [
    {
     "data": {
      "text/plain": [
       "array([ 0.     ,  0.02041,  0.04082,  0.06122,  0.08163,  0.10204,  0.12245,  0.14286,  0.16327,  0.18367,\n",
       "        0.20408,  0.22449,  0.2449 ,  0.26531,  0.28571,  0.30612,  0.32653,  0.34694,  0.36735,  0.38776,\n",
       "        0.40816,  0.42857,  0.44898,  0.46939,  0.4898 ,  0.5102 ,  0.53061,  0.55102,  0.57143,  0.59184,\n",
       "        0.61224,  0.63265,  0.65306,  0.67347,  0.69388,  0.71429,  0.73469,  0.7551 ,  0.77551,  0.79592,\n",
       "        0.81633,  0.83673,  0.85714,  0.87755,  0.89796,  0.91837,  0.93878,  0.95918,  0.97959,  1.     ])"
      ]
     },
     "execution_count": 13,
     "metadata": {},
     "output_type": "execute_result"
    }
   ],
   "source": [
    "x = np.linspace(0,1)\n",
    "x"
   ]
  },
  {
   "cell_type": "markdown",
   "metadata": {},
   "source": [
    "#### Make a generic y with some error"
   ]
  },
  {
   "cell_type": "code",
   "execution_count": 16,
   "metadata": {
    "collapsed": false
   },
   "outputs": [
    {
     "data": {
      "text/plain": [
       "array([ 0.05514, -0.12812, -0.06351,  0.29371,  0.17055,  0.16269,  0.05526,  0.12152,  0.35499,  0.43337,\n",
       "        0.2385 ,  0.50721,  0.36724,  0.40538,  0.57344,  0.79929,  0.67122,  0.8295 ,  0.78024,  0.89374,\n",
       "        0.98582,  1.03438,  0.88132,  0.92705,  0.93262,  1.17425,  1.09959,  1.00443,  1.06237,  1.0425 ,\n",
       "        1.06355,  1.42616,  1.15585,  1.53326,  1.2411 ,  1.58873,  1.65618,  1.67256,  1.50637,  1.53776,\n",
       "        1.57574,  1.82819,  1.69817,  1.92783,  1.88043,  1.68565,  2.0121 ,  1.87214,  1.84544,  2.03121])"
      ]
     },
     "execution_count": 16,
     "metadata": {},
     "output_type": "execute_result"
    }
   ],
   "source": [
    "y = 2 * x + np.random.uniform(-0.2,0.2, x.shape)\n",
    "y "
   ]
  },
  {
   "cell_type": "code",
   "execution_count": 18,
   "metadata": {
    "collapsed": false
   },
   "outputs": [
    {
     "name": "stdout",
     "output_type": "stream",
     "text": [
      "(50,) (50,)\n"
     ]
    }
   ],
   "source": [
    "print(x.shape, y.shape)"
   ]
  },
  {
   "cell_type": "code",
   "execution_count": 23,
   "metadata": {
    "collapsed": false
   },
   "outputs": [
    {
     "data": {
      "text/plain": [
       "<matplotlib.collections.PathCollection at 0x1c0fc70128>"
      ]
     },
     "execution_count": 23,
     "metadata": {},
     "output_type": "execute_result"
    },
    {
     "data": {
      "image/png": "[encoded data removed]",
      "text/plain": [
       "<matplotlib.figure.Figure at 0x1c0f6ee198>"
      ]
     },
     "metadata": {},
     "output_type": "display_data"
    }
   ],
   "source": [
    "plt.scatter(x,y)"
   ]
  },
  {
   "cell_type": "markdown",
   "metadata": {},
   "source": [
    "### Build a random forest model, mocking up a time series"
   ]
  },
  {
   "cell_type": "markdown",
   "metadata": {},
   "source": [
    "#### make our training and validation sets "
   ]
  },
  {
   "cell_type": "code",
   "execution_count": 59,
   "metadata": {
    "collapsed": true
   },
   "outputs": [],
   "source": [
    "x1 = x[...,None]"
   ]
  },
  {
   "cell_type": "code",
   "execution_count": 60,
   "metadata": {
    "collapsed": true
   },
   "outputs": [],
   "source": [
    "x_trn, x_val = x1[:40],x1[40:]\n",
    "y_trn, y_val = y[:40],y[40:]"
   ]
  },
  {
   "cell_type": "markdown",
   "metadata": {},
   "source": [
    "#### note that a matrix with one column is not the same thign as a vector\n",
    "\n",
    "Use numpy's `.reshape()` to change the vector into a 1 x n matrix"
   ]
  },
  {
   "cell_type": "code",
   "execution_count": 61,
   "metadata": {
    "collapsed": false
   },
   "outputs": [
    {
     "data": {
      "text/plain": [
       "(1, 50)"
      ]
     },
     "execution_count": 61,
     "metadata": {},
     "output_type": "execute_result"
    }
   ],
   "source": [
    "x[None,:].shape"
   ]
  },
  {
   "cell_type": "code",
   "execution_count": 62,
   "metadata": {
    "collapsed": false
   },
   "outputs": [
    {
     "data": {
      "text/plain": [
       "(50, 1)"
      ]
     },
     "execution_count": 62,
     "metadata": {},
     "output_type": "execute_result"
    }
   ],
   "source": [
    "x[:,None].shape"
   ]
  },
  {
   "cell_type": "code",
   "execution_count": 63,
   "metadata": {
    "collapsed": false
   },
   "outputs": [
    {
     "data": {
      "text/plain": [
       "(50,)"
      ]
     },
     "execution_count": 63,
     "metadata": {},
     "output_type": "execute_result"
    }
   ],
   "source": [
    "x[:,].shape"
   ]
  },
  {
   "cell_type": "code",
   "execution_count": 64,
   "metadata": {
    "collapsed": false
   },
   "outputs": [
    {
     "data": {
      "text/plain": [
       "(50, 1)"
      ]
     },
     "execution_count": 64,
     "metadata": {},
     "output_type": "execute_result"
    }
   ],
   "source": [
    "x[...,None].shape"
   ]
  },
  {
   "cell_type": "markdown",
   "metadata": {},
   "source": [
    "### Run our Basic Regressor"
   ]
  },
  {
   "cell_type": "code",
   "execution_count": 65,
   "metadata": {
    "collapsed": true
   },
   "outputs": [],
   "source": [
    "m = RandomForestRegressor().fit(x_trn,y_trn)"
   ]
  },
  {
   "cell_type": "code",
   "execution_count": 68,
   "metadata": {
    "collapsed": false
   },
   "outputs": [
    {
     "data": {
      "text/plain": [
       "<matplotlib.collections.PathCollection at 0x1c135cc9e8>"
      ]
     },
     "execution_count": 68,
     "metadata": {},
     "output_type": "execute_result"
    },
    {
     "data": {
      "image/png": "[encoded data removed]",
      "text/plain": [
       "<matplotlib.figure.Figure at 0x1c1301ae48>"
      ]
     },
     "metadata": {},
     "output_type": "display_data"
    }
   ],
   "source": [
    "plt.scatter(y_trn, m.predict(x_trn))"
   ]
  },
  {
   "cell_type": "markdown",
   "metadata": {},
   "source": [
    "### Run our Basic Regressor - Test dataset\n",
    "\n",
    "This will not work, because this new data is beyond the range of what the tree has seen. This is because the previous tree can only give the overall average of the subdivisions. Since this data is new, it will be all put in one group (the largest one) and will be assigned a constant value\n",
    "\n",
    "#### Alternatives : use Neural networks\n",
    "\n",
    "#### De-trend the data and then use a Random Forest"
   ]
  },
  {
   "cell_type": "code",
   "execution_count": 70,
   "metadata": {
    "collapsed": false
   },
   "outputs": [
    {
     "data": {
      "text/plain": [
       "<matplotlib.collections.PathCollection at 0x1c13743f28>"
      ]
     },
     "execution_count": 70,
     "metadata": {},
     "output_type": "execute_result"
    },
    {
     "data": {
      "image/png": "[encoded data removed]",
      "text/plain": [
       "<matplotlib.figure.Figure at 0x1c13020390>"
      ]
     },
     "metadata": {},
     "output_type": "display_data"
    }
   ],
   "source": [
    "plt.scatter(y_val, m.predict(x_val))"
   ]
  },
  {
   "cell_type": "code",
   "execution_count": null,
   "metadata": {
    "collapsed": true
   },
   "outputs": [],
   "source": []
  }
 ],
 "metadata": {
  "kernelspec": {
   "display_name": "Python [fastai]",
   "language": "python",
   "name": "Python [fastai]"
  },
  "language_info": {
   "codemirror_mode": {
    "name": "ipython",
    "version": 3
   },
   "file_extension": ".py",
   "mimetype": "text/x-python",
   "name": "python",
   "nbconvert_exporter": "python",
   "pygments_lexer": "ipython3",
   "version": "3.6.3"
  }
 },
 "nbformat": 4,
 "nbformat_minor": 2
}
