{
 "cells": [
  {
   "cell_type": "markdown",
   "metadata": {},
   "source": [
    "The exam has two parts:  a written part (45 minutes)  and a computational part (1 hour and 45 minutes). Here are the rules:\n",
    "The written part is closed-book, no computer. It is on paper.\n",
    "On the computational part you are allowed to use the internet. \n",
    "On the computational part you are allowed to use sklearn/pandas unless we request that you write something from scratch.\n",
    "You are not allowed to use the fast.ai library.\n",
    "\n",
    "## Topic 1:  Model building\n",
    "\n",
    "Sample questions:\n",
    "Download the dataset from https://www.kaggle.com/c/quora-question-pairs.\n",
    "Write code to build features for this problem. A simple representation such as bag of words should work but feel free to make it more interesting.\n",
    "Create a pandas dataframe for your data.\n",
    "Divide the data into 80% training and 20% validation.\n",
    "What is the loss function that you would use for this problem? Why?\n",
    "Create a linear model  and report training and validation accuracy.\n",
    "Create a Random Forest and report training and validation accuracy.\n",
    "What are the hyper-parameters of a these model and how would you go about finding the optimal values? Please produce some plots showing range of hyperparameter(s) vs loss.\n",
    "\n",
    "Download this dataset https://archive.ics.uci.edu/ml/datasets/Breast+Cancer\n",
    "Import the dataset as a pandas dataframe.\n",
    "Prepare this dataset for running Random Forest. What are the steps you need to do?\n",
    "How would you find the best hyperparameters. (Hint: consider random search)\n",
    "Report training and development accuracy.\n",
    "Plot variable importance. Would you remove any variables from the model?\n",
    "\n",
    "Other questions: What would you do if you had NAs in your data?\n",
    "\n",
    "## Topic 2: Trees\n",
    "Write a function that given a dataframe, a variable name, and a dependent variable name returns an optimal split for that specific variable.\n",
    "\n",
    "## Topic 3: Pandas dataframe manipulation, basic broadcasting in numpy. \n",
    "\n",
    "## Topic 4: Computing feature importance from scratch.\n",
    "\n",
    "\n",
    "\n"
   ]
  },
  {
   "cell_type": "code",
   "execution_count": null,
   "metadata": {
    "collapsed": true
   },
   "outputs": [],
   "source": []
  }
 ],
 "metadata": {
  "kernelspec": {
   "display_name": "Python 2",
   "language": "python",
   "name": "python2"
  },
  "language_info": {
   "codemirror_mode": {
    "name": "ipython",
    "version": 2
   },
   "file_extension": ".py",
   "mimetype": "text/x-python",
   "name": "python",
   "nbconvert_exporter": "python",
   "pygments_lexer": "ipython2",
   "version": "2.7.13"
  }
 },
 "nbformat": 4,
 "nbformat_minor": 1
}
