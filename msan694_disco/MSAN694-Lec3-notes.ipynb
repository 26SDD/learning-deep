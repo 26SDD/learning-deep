{
 "cells": [
  {
   "cell_type": "code",
   "execution_count": 1,
   "metadata": {
    "collapsed": false
   },
   "outputs": [
    {
     "data": {
      "text/html": [
       "\n",
       "        <div>\n",
       "            <p><b>SparkContext</b></p>\n",
       "\n",
       "            <p><a href=\"http://10.1.45.27:4040\">Spark UI</a></p>\n",
       "\n",
       "            <dl>\n",
       "              <dt>Version</dt>\n",
       "                <dd><code>v2.2.0</code></dd>\n",
       "              <dt>Master</dt>\n",
       "                <dd><code>local[*]</code></dd>\n",
       "              <dt>AppName</dt>\n",
       "                <dd><code>PySparkShell</code></dd>\n",
       "            </dl>\n",
       "        </div>\n",
       "        "
      ],
      "text/plain": [
       "<SparkContext master=local[*] appName=PySparkShell>"
      ]
     },
     "execution_count": 1,
     "metadata": {},
     "output_type": "execute_result"
    }
   ],
   "source": [
    "sc"
   ]
  },
  {
   "cell_type": "markdown",
   "metadata": {},
   "source": [
    "**flatmap** vs. **map** only affects how the data is collected."
   ]
  },
  {
   "cell_type": "markdown",
   "metadata": {},
   "source": [
    "## Fold, Aggregate, countByValue, takeSample, and foreach(n)\n"
   ]
  },
  {
   "cell_type": "markdown",
   "metadata": {},
   "source": [
    "### Fold - similiar to a reduce function\n",
    "**fold** is similar to reduce with a default value. \n",
    "- takes function with same design as needed for reduce()\n",
    "- Takes a default value to be used for the intial call on each partition\n",
    "- Returns a new value of hte same type\n",
    "\n",
    "---\n",
    "\n",
    "If there's 3 partitions\n",
    "\n",
    "`.fold(0,lambda x,y : x+y)`\n",
    "\n",
    "Step 1 : **0** 1 3 5 | **0** 7 9 | **0**\n",
    "\n",
    "Step 2 : **0** 9 | **0** 16\n",
    "\n",
    "Step 3 :25\n",
    "\n",
    "---\n",
    "\n",
    "`.fold(1,lambda x,y : x+y)`\n",
    "\n",
    "If there's 3 partitions\n",
    "\n",
    "Step 1 : **1** 1 3 5 | **1** 7 9 | **1**\n",
    "\n",
    "Step 2 : **0** 9 | **0** 16\n",
    "\n",
    "Step 3 : 25\n",
    "\n",
    "Fold is often used for error handling. Handle error on your own. The 0 value will automatically handle the error. \n",
    "\n"
   ]
  },
  {
   "cell_type": "markdown",
   "metadata": {},
   "source": [
    "#### Lets look at odd numbers, want to calculate (sum / count)"
   ]
  },
  {
   "cell_type": "code",
   "execution_count": 15,
   "metadata": {
    "collapsed": false
   },
   "outputs": [],
   "source": [
    "odd_nums = sc.parallelize([1,3,5,7,9],2)"
   ]
  },
  {
   "cell_type": "code",
   "execution_count": 23,
   "metadata": {
    "collapsed": false
   },
   "outputs": [
    {
     "data": {
      "text/plain": [
       "[1, 4, 5, 7, 9]"
      ]
     },
     "execution_count": 23,
     "metadata": {},
     "output_type": "execute_result"
    }
   ],
   "source": [
    "odd_nums.map(lambda x : x+1 if x == 3 else x).collect()"
   ]
  },
  {
   "cell_type": "code",
   "execution_count": 24,
   "metadata": {
    "collapsed": false
   },
   "outputs": [
    {
     "data": {
      "text/plain": [
       "[0, 4, 7, 0, 0]"
      ]
     },
     "execution_count": 24,
     "metadata": {},
     "output_type": "execute_result"
    }
   ],
   "source": [
    "odd_nums.map(lambda x : x+1 if x == 3 else x+2 if x==5 else 0).collect()"
   ]
  },
  {
   "cell_type": "code",
   "execution_count": 16,
   "metadata": {
    "collapsed": false
   },
   "outputs": [
    {
     "data": {
      "text/plain": [
       "[1, 3, 5, 7, 9]"
      ]
     },
     "execution_count": 16,
     "metadata": {},
     "output_type": "execute_result"
    }
   ],
   "source": [
    "odd_nums.collect()"
   ]
  },
  {
   "cell_type": "markdown",
   "metadata": {},
   "source": [
    "We will make a 2-value tuple `(0,0)` which will be considered as `x`.\n",
    "\n",
    "- `x[0]` will be our sum\n",
    "- `x[1]` will be our count\n",
    "\n",
    "```python\n",
    ".aggregate((0,0),  # default value\n",
    "    lambda x,y : (x[0],x[1]+y),  # within a partition\n",
    "    lambda x,y: (x[0]+y[0],x[1]+y[1])) # condensing partitions\n",
    "```\n",
    "\n",
    "#### Lets look at the parts\n",
    "\n",
    "##### Default Value\n",
    "Will default to (0,0) as a starting point. Then will continually add. \n",
    "\n",
    "##### Within partition \n",
    "\n",
    "`lambda x,y : (x[0]+1,x[1]+y)`\n",
    "\n",
    "Let's work through this. \n",
    "\n",
    "1. We start with `(0,0) = x`\n",
    "2. We encounter our first value 1 so `y=1`\n",
    "3. We want (0,0) to be => (1,1)\n",
    "\n",
    "\n",
    "##### Gathering Partitions results\n",
    "\n",
    "`lambda x,y: (x[0]+y[0],x[1]+y[1]))`\n",
    "\n",
    "Let's work through this step by step. Lets say the partition break is `[1,3] [5,7,9]`\n",
    "\n",
    "Then after applying the function within the partition we should have `(4,2) (21,3)`\n",
    "\n",
    "So to reiterate:\n",
    "\n",
    "1. `(4,2) = x`\n",
    "2. `(21,3) = y`\n",
    "3. so the lambda function should add these pair-wise together\n",
    "4. `x[0]+y[0] = 25`\n",
    "5. `x[1]+y[1] = 5`\n",
    "6. Returns `(25,5)`\n",
    "\n",
    "\n",
    "\n",
    "\n",
    "\n"
   ]
  },
  {
   "cell_type": "markdown",
   "metadata": {},
   "source": [
    "#### Example 4-1 for the numbers between 1 and 9 calculate sum of odd numbers"
   ]
  },
  {
   "cell_type": "code",
   "execution_count": 20,
   "metadata": {
    "collapsed": false
   },
   "outputs": [
    {
     "data": {
      "text/plain": [
       "25"
      ]
     },
     "execution_count": 20,
     "metadata": {},
     "output_type": "execute_result"
    }
   ],
   "source": [
    "odd_nums.reduce(lambda x,y : x + y)"
   ]
  },
  {
   "cell_type": "markdown",
   "metadata": {},
   "source": [
    "#### Example 4-2 for the numbers between 1 and 9 calculate the sum of the odd numbers using fold"
   ]
  },
  {
   "cell_type": "code",
   "execution_count": 21,
   "metadata": {
    "collapsed": false
   },
   "outputs": [
    {
     "data": {
      "text/plain": [
       "25"
      ]
     },
     "execution_count": 21,
     "metadata": {},
     "output_type": "execute_result"
    }
   ],
   "source": [
    "odd_nums.fold(0,lambda x,y : x + y)"
   ]
  },
  {
   "cell_type": "markdown",
   "metadata": {},
   "source": [
    "#### Example 4-3 using aggregate () return (sum # of elements ) of odd numbers"
   ]
  },
  {
   "cell_type": "code",
   "execution_count": 22,
   "metadata": {
    "collapsed": false
   },
   "outputs": [
    {
     "data": {
      "text/plain": [
       "(5, 25)"
      ]
     },
     "execution_count": 22,
     "metadata": {},
     "output_type": "execute_result"
    }
   ],
   "source": [
    "odd_nums.aggregate((0,0),lambda x,y:(x[0]+1,+x[1]+y),lambda x,y:(x[0]+y[0],x[1]+y[1]))"
   ]
  },
  {
   "cell_type": "code",
   "execution_count": 17,
   "metadata": {
    "collapsed": false
   },
   "outputs": [
    {
     "data": {
      "text/plain": [
       "[[1, 3], [5, 7, 9]]"
      ]
     },
     "execution_count": 17,
     "metadata": {},
     "output_type": "execute_result"
    }
   ],
   "source": [
    "odd_nums.glom().collect()"
   ]
  },
  {
   "cell_type": "markdown",
   "metadata": {},
   "source": [
    "### Whats the difference between take() and first()?\n",
    "\n",
    "One returns values, the other returns a string"
   ]
  },
  {
   "cell_type": "code",
   "execution_count": 25,
   "metadata": {
    "collapsed": true
   },
   "outputs": [],
   "source": [
    "odd_nums = sc.parallelize([1,3,5,7,9],2)"
   ]
  },
  {
   "cell_type": "code",
   "execution_count": 26,
   "metadata": {
    "collapsed": false
   },
   "outputs": [
    {
     "data": {
      "text/plain": [
       "[1]"
      ]
     },
     "execution_count": 26,
     "metadata": {},
     "output_type": "execute_result"
    }
   ],
   "source": [
    "odd_nums.take(1)"
   ]
  },
  {
   "cell_type": "code",
   "execution_count": 30,
   "metadata": {
    "collapsed": false
   },
   "outputs": [
    {
     "data": {
      "text/plain": [
       "1"
      ]
     },
     "execution_count": 30,
     "metadata": {},
     "output_type": "execute_result"
    }
   ],
   "source": [
    "odd_nums.first()"
   ]
  },
  {
   "cell_type": "markdown",
   "metadata": {},
   "source": [
    "### Whats the difference between sample() and takeSample()?\n",
    "\n",
    "\n",
    "### Sample\n",
    "Sample(withReplacement=True, fraction=0.5, seed=1) **transformation**\n",
    "- **CREATES A NEW RDD** with random elements form the calling RDD\n",
    "- with replacement (with repeats)\n",
    "- fraction - expected positive\n",
    "- expected probability element is used\n",
    "- seed (for standardizing randomiztion) - otherwise default based on millisecond time\n",
    "\n",
    "### takeSample\n",
    "takesSample (with replacement , num, seed) : ** action **\n",
    "- returns fixed size sample subset of an RDD as an **ARRAY**\n",
    "- with replacement allow sample multiple times\n",
    "- num - example number of sampled element\n",
    "- seed\n"
   ]
  },
  {
   "cell_type": "markdown",
   "metadata": {},
   "source": [
    "### Example 5-1\n",
    "\n",
    "Try collect(), count(), countByValue(), top(n), take(n), first(), takeSample(), operations on Z"
   ]
  },
  {
   "cell_type": "code",
   "execution_count": 34,
   "metadata": {
    "collapsed": true
   },
   "outputs": [],
   "source": [
    "x = sc.parallelize([3,4,1,2])\n",
    "y = sc.parallelize(range(2,6))\n",
    "z = x.union(y)"
   ]
  },
  {
   "cell_type": "code",
   "execution_count": 35,
   "metadata": {
    "collapsed": false
   },
   "outputs": [
    {
     "data": {
      "text/plain": [
       "[3, 4, 1, 2, 2, 3, 4, 5]"
      ]
     },
     "execution_count": 35,
     "metadata": {},
     "output_type": "execute_result"
    }
   ],
   "source": [
    "z.collect()"
   ]
  },
  {
   "cell_type": "code",
   "execution_count": 36,
   "metadata": {
    "collapsed": false
   },
   "outputs": [
    {
     "data": {
      "text/plain": [
       "8"
      ]
     },
     "execution_count": 36,
     "metadata": {},
     "output_type": "execute_result"
    }
   ],
   "source": [
    "z.count()"
   ]
  },
  {
   "cell_type": "code",
   "execution_count": 37,
   "metadata": {
    "collapsed": false
   },
   "outputs": [
    {
     "data": {
      "text/plain": [
       "defaultdict(int, {1: 1, 2: 2, 3: 2, 4: 2, 5: 1})"
      ]
     },
     "execution_count": 37,
     "metadata": {},
     "output_type": "execute_result"
    }
   ],
   "source": [
    "z.countByValue()"
   ]
  },
  {
   "cell_type": "code",
   "execution_count": 38,
   "metadata": {
    "collapsed": false
   },
   "outputs": [
    {
     "data": {
      "text/plain": [
       "[5, 4, 4]"
      ]
     },
     "execution_count": 38,
     "metadata": {},
     "output_type": "execute_result"
    }
   ],
   "source": [
    "z.top(3)"
   ]
  },
  {
   "cell_type": "code",
   "execution_count": 40,
   "metadata": {
    "collapsed": false
   },
   "outputs": [
    {
     "data": {
      "text/plain": [
       "[3, 4, 1]"
      ]
     },
     "execution_count": 40,
     "metadata": {},
     "output_type": "execute_result"
    }
   ],
   "source": [
    "z.take(3)"
   ]
  },
  {
   "cell_type": "code",
   "execution_count": 41,
   "metadata": {
    "collapsed": false
   },
   "outputs": [
    {
     "data": {
      "text/plain": [
       "3"
      ]
     },
     "execution_count": 41,
     "metadata": {},
     "output_type": "execute_result"
    }
   ],
   "source": [
    "z.first()"
   ]
  },
  {
   "cell_type": "code",
   "execution_count": 47,
   "metadata": {
    "collapsed": false
   },
   "outputs": [
    {
     "data": {
      "text/plain": [
       "[4, 4, 5]"
      ]
     },
     "execution_count": 47,
     "metadata": {},
     "output_type": "execute_result"
    }
   ],
   "source": [
    "z.takeSample(withReplacement=False,num=3,seed=None)"
   ]
  },
  {
   "cell_type": "code",
   "execution_count": 51,
   "metadata": {
    "collapsed": false
   },
   "outputs": [
    {
     "data": {
      "text/plain": [
       "[1, 5, 4, 5, 4, 2, 2, 5, 4, 2, 2, 2, 3, 4, 2, 5, 4, 3, 2, 4]"
      ]
     },
     "execution_count": 51,
     "metadata": {},
     "output_type": "execute_result"
    }
   ],
   "source": [
    "z.takeSample(withReplacement=True,num=20,seed=None)"
   ]
  },
  {
   "cell_type": "code",
   "execution_count": 60,
   "metadata": {
    "collapsed": false
   },
   "outputs": [
    {
     "data": {
      "text/plain": [
       "[[], [3], [], [4], [], [1], [], [2], [], [2], [], [3], [], [4], [], [5]]"
      ]
     },
     "execution_count": 60,
     "metadata": {},
     "output_type": "execute_result"
    }
   ],
   "source": [
    "z.glom().collect()"
   ]
  },
  {
   "cell_type": "code",
   "execution_count": 59,
   "metadata": {
    "collapsed": false
   },
   "outputs": [
    {
     "data": {
      "text/plain": [
       "[[], [3, 3], [], [4], [], [], [], [], [], [], [], [3], [], [], [], []]"
      ]
     },
     "execution_count": 59,
     "metadata": {},
     "output_type": "execute_result"
    }
   ],
   "source": [
    "res = z.sample(True,0.5)\n",
    "res.glom().collect()"
   ]
  },
  {
   "cell_type": "code",
   "execution_count": 65,
   "metadata": {
    "collapsed": false
   },
   "outputs": [],
   "source": [
    "b = z.foreach(lambda x : x+1)"
   ]
  },
  {
   "cell_type": "markdown",
   "metadata": {},
   "source": [
    "## Week 3 - Pair RDDs\n",
    "\n",
    "Pair RDDs are a **key value pair**. \n",
    "\n",
    "|Key|value|\n",
    "|---|------------------------------|\n",
    "|001| 'some data that i have added'|\n",
    "\n",
    "Very common structure for schemaless data or NoSQL. In NoSQL - key is unique. Spark, key could be duplicated. Key could show up in multiple places\n",
    "\n",
    "#### Keys \n",
    "Could be simple, or complex objects (tuples)\n",
    "Could be simple, or a complex json"
   ]
  },
  {
   "cell_type": "markdown",
   "metadata": {},
   "source": [
    "#### Exercise 1 - get words from readme file"
   ]
  },
  {
   "cell_type": "code",
   "execution_count": 67,
   "metadata": {
    "collapsed": false
   },
   "outputs": [],
   "source": [
    "path = '/Users/tlee010/Desktop/github_repos/2017-msan694-example/Data/README.md'\n",
    "rdm = sc.textFile(path)"
   ]
  },
  {
   "cell_type": "code",
   "execution_count": 82,
   "metadata": {
    "collapsed": false
   },
   "outputs": [
    {
     "data": {
      "text/plain": [
       "[(u'#', 1),\n",
       " (u'Apache', 1),\n",
       " (u'Spark', 1),\n",
       " (u'Spark', 1),\n",
       " (u'is', 1),\n",
       " (u'a', 1),\n",
       " (u'fast', 1),\n",
       " (u'and', 1),\n",
       " (u'general', 1),\n",
       " (u'cluster', 1),\n",
       " (u'computing', 1),\n",
       " (u'system', 1),\n",
       " (u'for', 1),\n",
       " (u'Big', 1),\n",
       " (u'Data.', 1),\n",
       " (u'It', 1),\n",
       " (u'provides', 1),\n",
       " (u'high-level', 1),\n",
       " (u'APIs', 1),\n",
       " (u'in', 1)]"
      ]
     },
     "execution_count": 82,
     "metadata": {},
     "output_type": "execute_result"
    }
   ],
   "source": [
    "words = rdm.flatMap(lambda x: x.split())\n",
    "words = words.map(lambda x: (x,1))\n",
    "words.collect()[:20]"
   ]
  },
  {
   "cell_type": "markdown",
   "metadata": {},
   "source": [
    "## Transformations designed for key value pairs\n",
    "\n",
    "|function | description |\n",
    "|-----|------------------|\n",
    "|keys()| gets the keys|\n",
    "|values()| value|"
   ]
  },
  {
   "cell_type": "markdown",
   "metadata": {},
   "source": [
    "#### Do the same but do value as length of word and sort by value"
   ]
  },
  {
   "cell_type": "code",
   "execution_count": 89,
   "metadata": {
    "collapsed": false
   },
   "outputs": [
    {
     "data": {
      "text/plain": [
       "[(u'[IntelliJ](https://cwiki.apache.org/confluence/display/SPARK/Useful+Developer+Tools#UsefulDeveloperTools-IntelliJ).',\n",
       "  115),\n",
       " (u'[Eclipse](https://cwiki.apache.org/confluence/display/SPARK/Useful+Developer+Tools#UsefulDeveloperTools-Eclipse)',\n",
       "  112),\n",
       " (u'Version\"](http://spark.apache.org/docs/latest/building-spark.html#specifying-the-hadoop-version)',\n",
       "  96),\n",
       " (u'3\"](https://cwiki.apache.org/confluence/display/MAVEN/Parallel+builds+in+Maven+3).',\n",
       "  82),\n",
       " (u'tests](https://cwiki.apache.org/confluence/display/SPARK/Useful+Developer+Tools).',\n",
       "  81),\n",
       " (u'Spark\"](http://spark.apache.org/docs/latest/building-spark.html).', 65),\n",
       " (u'Guide](http://spark.apache.org/docs/latest/configuration.html)', 62),\n",
       " (u'wiki](https://cwiki.apache.org/confluence/display/SPARK).', 57),\n",
       " (u'page](http://spark.apache.org/documentation.html)', 49),\n",
       " (u'sc.parallelize(range(1000)).count()', 35),\n",
       " (u'Maven](http://maven.apache.org/).', 33),\n",
       " (u'<http://spark.apache.org/>', 26),\n",
       " (u'MASTER=spark://host:7077', 24),\n",
       " (u'Spark](#building-spark).', 24),\n",
       " (u'`./bin/run-example', 18),\n",
       " (u'./bin/spark-shell', 17),\n",
       " (u'./bin/run-example', 17),\n",
       " (u'./bin/run-example', 17),\n",
       " (u'sc.parallelize(1', 16),\n",
       " (u'Hadoop-supported', 16)]"
      ]
     },
     "execution_count": 89,
     "metadata": {},
     "output_type": "execute_result"
    }
   ],
   "source": [
    "words = rdm.flatMap(lambda x: x.split())\n",
    "words = words.map(lambda x: (x,len(x)))\n",
    "sorted_list = words.sortBy(lambda x: x[1],ascending=False)\n",
    "sorted_list.collect()[:20]"
   ]
  },
  {
   "cell_type": "markdown",
   "metadata": {},
   "source": [
    "#### Example 3 \n",
    "\n",
    "Create a pair RDD with (length of a word, list of words) from README.md"
   ]
  },
  {
   "cell_type": "code",
   "execution_count": 102,
   "metadata": {
    "collapsed": false,
    "scrolled": true
   },
   "outputs": [
    {
     "data": {
      "text/plain": [
       "[(96,\n",
       "  [u'Version\"](http://spark.apache.org/docs/latest/building-spark.html#specifying-the-hadoop-version)']),\n",
       " (112,\n",
       "  [u'[Eclipse](https://cwiki.apache.org/confluence/display/SPARK/Useful+Developer+Tools#UsefulDeveloperTools-Eclipse)']),\n",
       " (2,\n",
       "  [u'is',\n",
       "   u'It',\n",
       "   u'in',\n",
       "   u'R,',\n",
       "   u'an',\n",
       "   u'It',\n",
       "   u'of',\n",
       "   u'##',\n",
       "   u'on',\n",
       "   u'##',\n",
       "   u'is',\n",
       "   u'To',\n",
       "   u'do',\n",
       "   u'to',\n",
       "   u'do',\n",
       "   u'if',\n",
       "   u'by',\n",
       "   u'-T',\n",
       "   u'in',\n",
       "   u'is',\n",
       "   u'at',\n",
       "   u'an',\n",
       "   u'##',\n",
       "   u'to',\n",
       "   u'is',\n",
       "   u'to',\n",
       "   u'##',\n",
       "   u'if',\n",
       "   u'##',\n",
       "   u'in',\n",
       "   u'To',\n",
       "   u'of',\n",
       "   u'Pi',\n",
       "   u'to',\n",
       "   u'to',\n",
       "   u'be',\n",
       "   u'or',\n",
       "   u'to',\n",
       "   u'on',\n",
       "   u'to',\n",
       "   u'or',\n",
       "   u'to',\n",
       "   u'an',\n",
       "   u'if',\n",
       "   u'is',\n",
       "   u'in',\n",
       "   u'of',\n",
       "   u'if',\n",
       "   u'no',\n",
       "   u'##',\n",
       "   u'is',\n",
       "   u'be',\n",
       "   u'on',\n",
       "   u'to',\n",
       "   u'or',\n",
       "   u'##',\n",
       "   u'to',\n",
       "   u'to',\n",
       "   u'in',\n",
       "   u'of',\n",
       "   u'to',\n",
       "   u'at',\n",
       "   u'on',\n",
       "   u'of',\n",
       "   u'##',\n",
       "   u'to',\n",
       "   u'in',\n",
       "   u'an',\n",
       "   u'on',\n",
       "   u'to']),\n",
       " (4,\n",
       "  [u'fast',\n",
       "   u'APIs',\n",
       "   u'that',\n",
       "   u'data',\n",
       "   u'also',\n",
       "   u'rich',\n",
       "   u'find',\n",
       "   u'This',\n",
       "   u'file',\n",
       "   u'only',\n",
       "   u'run:',\n",
       "   u'(You',\n",
       "   u'need',\n",
       "   u'this',\n",
       "   u'more',\n",
       "   u'than',\n",
       "   u'with',\n",
       "   u'More',\n",
       "   u'from',\n",
       "   u'IDE,',\n",
       "   u'also',\n",
       "   u'also',\n",
       "   u'with',\n",
       "   u'will',\n",
       "   u'when',\n",
       "   u'This',\n",
       "   u'URL,',\n",
       "   u'with',\n",
       "   u'with',\n",
       "   u'also',\n",
       "   u'name',\n",
       "   u'Many',\n",
       "   u'help',\n",
       "   u'Once',\n",
       "   u'[run',\n",
       "   u'Note',\n",
       "   u'uses',\n",
       "   u'core',\n",
       "   u'talk',\n",
       "   u'HDFS',\n",
       "   u'have',\n",
       "   u'must',\n",
       "   u'same',\n",
       "   u'that',\n",
       "   u'your',\n",
       "   u'Hive',\n",
       "   u'Hive']),\n",
       " (6,\n",
       "  [u'Apache',\n",
       "   u'system',\n",
       "   u'Scala,',\n",
       "   u'engine',\n",
       "   u'graphs',\n",
       "   u'GraphX',\n",
       "   u'stream',\n",
       "   u'Online',\n",
       "   u'latest',\n",
       "   u'guide,',\n",
       "   u'README',\n",
       "   u'thread',\n",
       "   u'option',\n",
       "   u'Maven,',\n",
       "   u'builds',\n",
       "   u'shell:',\n",
       "   u'should',\n",
       "   u'return',\n",
       "   u'scala>',\n",
       "   u'Python',\n",
       "   u'prefer',\n",
       "   u'Python',\n",
       "   u'shell:',\n",
       "   u'should',\n",
       "   u'return',\n",
       "   u'sample',\n",
       "   u'MASTER',\n",
       "   u'submit',\n",
       "   u'\"yarn\"',\n",
       "   u'params',\n",
       "   u'given.',\n",
       "   u'built,',\n",
       "   u'using:',\n",
       "   u'Please',\n",
       "   u'Hadoop',\n",
       "   u'Hadoop',\n",
       "   u'Please',\n",
       "   u'Hadoop',\n",
       "   u'Please',\n",
       "   u'online',\n",
       "   u'Spark.']),\n",
       " (8,\n",
       "  [u'provides',\n",
       "   u'supports',\n",
       "   u'supports',\n",
       "   u'[project',\n",
       "   u'[project',\n",
       "   u'contains',\n",
       "   u'Building',\n",
       "   u'detailed',\n",
       "   u'command,',\n",
       "   u'command,',\n",
       "   u'Programs',\n",
       "   u'programs',\n",
       "   u'example:',\n",
       "   u'locally.',\n",
       "   u'variable',\n",
       "   u'examples',\n",
       "   u'examples',\n",
       "   u'cluster.',\n",
       "   u'mesos://',\n",
       "   u'spark://',\n",
       "   u'threads.',\n",
       "   u'package.',\n",
       "   u'programs',\n",
       "   u'requires',\n",
       "   u'guidance',\n",
       "   u'Versions',\n",
       "   u'systems.',\n",
       "   u'versions',\n",
       "   u'detailed',\n",
       "   u'guidance',\n",
       "   u'building',\n",
       "   u'building',\n",
       "   u'overview']),\n",
       " (10,\n",
       "  [u'high-level',\n",
       "   u'downloaded',\n",
       "   u'[\"Parallel',\n",
       "   u'[\"Building',\n",
       "   u'developing',\n",
       "   u'`examples`',\n",
       "   u'directory.',\n",
       "   u'[params]`.',\n",
       "   u'\"local[N]\"',\n",
       "   u'`examples`',\n",
       "   u'individual',\n",
       "   u'particular',\n",
       "   u'particular']),\n",
       " (12, [u'higher-level', u'[\"Specifying', u'distribution', u'Thriftserver']),\n",
       " (18, [u'`./bin/run-example']),\n",
       " (14,\n",
       "  [u'documentation,',\n",
       "   u'Alternatively,',\n",
       "   u'distributions.',\n",
       "   u'[Configuration']),\n",
       " (16, [u'sc.parallelize(1', u'Hadoop-supported']),\n",
       " (82,\n",
       "  [u'3\"](https://cwiki.apache.org/confluence/display/MAVEN/Parallel+builds+in+Maven+3).']),\n",
       " (24, [u'MASTER=spark://host:7077', u'Spark](#building-spark).']),\n",
       " (26, [u'<http://spark.apache.org/>']),\n",
       " (62, [u'Guide](http://spark.apache.org/docs/latest/configuration.html)']),\n",
       " (1, [u'#', u'a', u'a', u'a', u'a', u'a', u'a', u'N', u'a', u'A', u'a']),\n",
       " (3,\n",
       "  [u'and',\n",
       "   u'for',\n",
       "   u'Big',\n",
       "   u'and',\n",
       "   u'and',\n",
       "   u'for',\n",
       "   u'set',\n",
       "   u'SQL',\n",
       "   u'for',\n",
       "   u'SQL',\n",
       "   u'and',\n",
       "   u'for',\n",
       "   u'for',\n",
       "   u'and',\n",
       "   u'for',\n",
       "   u'You',\n",
       "   u'can',\n",
       "   u'the',\n",
       "   u'the',\n",
       "   u'web',\n",
       "   u'and',\n",
       "   u'and',\n",
       "   u'its',\n",
       "   u'not',\n",
       "   u'you',\n",
       "   u'You',\n",
       "   u'can',\n",
       "   u'one',\n",
       "   u'the',\n",
       "   u'see',\n",
       "   u'the',\n",
       "   u'For',\n",
       "   u'see',\n",
       "   u'and',\n",
       "   u'The',\n",
       "   u'way',\n",
       "   u'the',\n",
       "   u'Try',\n",
       "   u'the',\n",
       "   u'you',\n",
       "   u'you',\n",
       "   u'can',\n",
       "   u'use',\n",
       "   u'the',\n",
       "   u'And',\n",
       "   u'run',\n",
       "   u'the',\n",
       "   u'>>>',\n",
       "   u'the',\n",
       "   u'run',\n",
       "   u'one',\n",
       "   u'use',\n",
       "   u'For',\n",
       "   u'run',\n",
       "   u'the',\n",
       "   u'You',\n",
       "   u'can',\n",
       "   u'set',\n",
       "   u'the',\n",
       "   u'can',\n",
       "   u'run',\n",
       "   u'and',\n",
       "   u'run',\n",
       "   u'one',\n",
       "   u'run',\n",
       "   u'You',\n",
       "   u'can',\n",
       "   u'use',\n",
       "   u'the',\n",
       "   u'the',\n",
       "   u'For',\n",
       "   u'the',\n",
       "   u'are',\n",
       "   u'can',\n",
       "   u'run',\n",
       "   u'see',\n",
       "   u'the',\n",
       "   u'how',\n",
       "   u'for',\n",
       "   u'the',\n",
       "   u'and',\n",
       "   u'the',\n",
       "   u'you',\n",
       "   u'the',\n",
       "   u'the',\n",
       "   u'the',\n",
       "   u'for',\n",
       "   u'for',\n",
       "   u'for',\n",
       "   u'and',\n",
       "   u'the',\n",
       "   u'the',\n",
       "   u'for',\n",
       "   u'how']),\n",
       " (5,\n",
       "  [u'Spark',\n",
       "   u'Spark',\n",
       "   u'Data.',\n",
       "   u'Java,',\n",
       "   u'tools',\n",
       "   u'Spark',\n",
       "   u'MLlib',\n",
       "   u'graph',\n",
       "   u'Spark',\n",
       "   u'Spark',\n",
       "   u'basic',\n",
       "   u'setup',\n",
       "   u'Spark',\n",
       "   u'Spark',\n",
       "   u'built',\n",
       "   u'using',\n",
       "   u'build',\n",
       "   u'Spark',\n",
       "   u'clean',\n",
       "   u'build',\n",
       "   u'Spark',\n",
       "   u'using',\n",
       "   u'using',\n",
       "   u'Maven',\n",
       "   u'site,',\n",
       "   u'Spark',\n",
       "   u'using',\n",
       "   u'Scala',\n",
       "   u'Shell',\n",
       "   u'start',\n",
       "   u'using',\n",
       "   u'Spark',\n",
       "   u'Scala',\n",
       "   u'which',\n",
       "   u'1000:',\n",
       "   u'Shell',\n",
       "   u'which',\n",
       "   u'1000:',\n",
       "   u'Spark',\n",
       "   u'comes',\n",
       "   u'them,',\n",
       "   u'YARN,',\n",
       "   u'class',\n",
       "   u'class',\n",
       "   u'print',\n",
       "   u'usage',\n",
       "   u'Tests',\n",
       "   u'first',\n",
       "   u'Spark',\n",
       "   u'tests',\n",
       "   u'tests',\n",
       "   u'About',\n",
       "   u'Spark',\n",
       "   u'other',\n",
       "   u'build',\n",
       "   u'Spark',\n",
       "   u'runs.',\n",
       "   u'refer',\n",
       "   u'build',\n",
       "   u'refer']),\n",
       " (65, [u'Spark\"](http://spark.apache.org/docs/latest/building-spark.html).']),\n",
       " (7,\n",
       "  [u'general',\n",
       "   u'cluster',\n",
       "   u'Python,',\n",
       "   u'general',\n",
       "   u'machine',\n",
       "   u'[Apache',\n",
       "   u'example',\n",
       "   u'package',\n",
       "   u'project',\n",
       "   u'easiest',\n",
       "   u'through',\n",
       "   u'Python,',\n",
       "   u'Example',\n",
       "   u'several',\n",
       "   u'<class>',\n",
       "   u'SparkPi',\n",
       "   u'example',\n",
       "   u'running',\n",
       "   u'\"local\"',\n",
       "   u'locally',\n",
       "   u'thread,',\n",
       "   u'locally',\n",
       "   u'SparkPi',\n",
       "   u'example',\n",
       "   u'Running',\n",
       "   u'Testing',\n",
       "   u'module,',\n",
       "   u'library',\n",
       "   u'storage',\n",
       "   u'Because',\n",
       "   u'changed',\n",
       "   u'Hadoop,',\n",
       "   u'against',\n",
       "   u'version',\n",
       "   u'cluster',\n",
       "   u'Hadoop,']),\n",
       " (9,\n",
       "  [u'computing',\n",
       "   u'optimized',\n",
       "   u'analysis.',\n",
       "   u'including',\n",
       "   u'learning,',\n",
       "   u'Streaming',\n",
       "   u'including',\n",
       "   u'programs,',\n",
       "   u'build/mvn',\n",
       "   u'pre-built',\n",
       "   u'package.)',\n",
       "   u'available',\n",
       "   u'following',\n",
       "   u'following',\n",
       "   u'instance:',\n",
       "   u'[building',\n",
       "   u'protocols',\n",
       "   u'different',\n",
       "   u'including',\n",
       "   u'configure']),\n",
       " (11,\n",
       "  [u'computation',\n",
       "   u'DataFrames,',\n",
       "   u'processing,',\n",
       "   u'processing.',\n",
       "   u'programming',\n",
       "   u'-DskipTests',\n",
       "   u'Interactive',\n",
       "   u'Interactive',\n",
       "   u'environment',\n",
       "   u'abbreviated']),\n",
       " (13,\n",
       "  [u'Documentation',\n",
       "   u'instructions.',\n",
       "   u'documentation',\n",
       "   u'1000).count()',\n",
       "   u'./bin/pyspark',\n",
       "   u'documentation',\n",
       "   u'Configuration',\n",
       "   u'documentation']),\n",
       " (15, [u'./dev/run-tests']),\n",
       " (49, [u'page](http://spark.apache.org/documentation.html)']),\n",
       " (17, [u'./bin/spark-shell', u'./bin/run-example', u'./bin/run-example']),\n",
       " (115,\n",
       "  [u'[IntelliJ](https://cwiki.apache.org/confluence/display/SPARK/Useful+Developer+Tools#UsefulDeveloperTools-IntelliJ).']),\n",
       " (57, [u'wiki](https://cwiki.apache.org/confluence/display/SPARK).']),\n",
       " (33, [u'Maven](http://maven.apache.org/).']),\n",
       " (81,\n",
       "  [u'tests](https://cwiki.apache.org/confluence/display/SPARK/Useful+Developer+Tools).']),\n",
       " (35, [u'sc.parallelize(range(1000)).count()'])]"
      ]
     },
     "execution_count": 102,
     "metadata": {},
     "output_type": "execute_result"
    }
   ],
   "source": [
    "words = rdm.flatMap(lambda x: x.split())\n",
    "words = words.map(lambda x: (len(x),x))\n",
    "res = words.groupByKey().map(lambda x: (x[0],list(x[1])))\n",
    "res.sortByKey()\n",
    "res.collect()\n"
   ]
  },
  {
   "cell_type": "markdown",
   "metadata": {},
   "source": [
    "### mapValues\n",
    "\n",
    "Pass each value in the key value pair RDD through a map function wihtout changing the keys"
   ]
  },
  {
   "cell_type": "markdown",
   "metadata": {},
   "source": [
    "#### Example 4"
   ]
  },
  {
   "cell_type": "code",
   "execution_count": 116,
   "metadata": {
    "collapsed": false
   },
   "outputs": [
    {
     "data": {
      "text/plain": [
       "[(u'when', <pyspark.resultiterable.ResultIterable at 0x107e3cc10>),\n",
       " (u'R,', <pyspark.resultiterable.ResultIterable at 0x107e2b0d0>),\n",
       " (u'including', <pyspark.resultiterable.ResultIterable at 0x107e2b150>)]"
      ]
     },
     "execution_count": 116,
     "metadata": {},
     "output_type": "execute_result"
    }
   ],
   "source": [
    "words = rdm.flatMap(lambda x: x.split())\n",
    "words = words.map(lambda x: (x,1))\n",
    "res = words.groupByKey()\n",
    "res.collect()[:3]"
   ]
  },
  {
   "cell_type": "code",
   "execution_count": 118,
   "metadata": {
    "collapsed": false
   },
   "outputs": [
    {
     "data": {
      "text/plain": [
       "[(u'the', 22),\n",
       " (u'Spark', 15),\n",
       " (u'to', 14),\n",
       " (u'for', 11),\n",
       " (u'and', 11),\n",
       " (u'##', 8),\n",
       " (u'a', 8),\n",
       " (u'run', 7),\n",
       " (u'can', 7),\n",
       " (u'is', 6)]"
      ]
     },
     "execution_count": 118,
     "metadata": {},
     "output_type": "execute_result"
    }
   ],
   "source": [
    "res2 = res.mapValues(sum)\n",
    "res2.sortBy(lambda x: x[1], ascending = False).collect()[:10]"
   ]
  },
  {
   "cell_type": "markdown",
   "metadata": {},
   "source": [
    "### flatMapValues"
   ]
  },
  {
   "cell_type": "markdown",
   "metadata": {},
   "source": [
    "#### Example 5 - similiar to before, but using flatMapValues\n"
   ]
  },
  {
   "cell_type": "code",
   "execution_count": 1,
   "metadata": {
    "collapsed": false
   },
   "outputs": [
    {
     "ename": "NameError",
     "evalue": "name 'rdm' is not defined",
     "output_type": "error",
     "traceback": [
      "\u001b[0;31m---------------------------------------------------------------------------\u001b[0m",
      "\u001b[0;31mNameError\u001b[0m                                 Traceback (most recent call last)",
      "\u001b[0;32m<ipython-input-1-71015f7df051>\u001b[0m in \u001b[0;36m<module>\u001b[0;34m()\u001b[0m\n\u001b[0;32m----> 1\u001b[0;31m \u001b[0mwords\u001b[0m \u001b[0;34m=\u001b[0m \u001b[0mrdm\u001b[0m\u001b[0;34m.\u001b[0m\u001b[0mflatMap\u001b[0m\u001b[0;34m(\u001b[0m\u001b[0;32mlambda\u001b[0m \u001b[0mx\u001b[0m\u001b[0;34m:\u001b[0m \u001b[0mx\u001b[0m\u001b[0;34m.\u001b[0m\u001b[0msplit\u001b[0m\u001b[0;34m(\u001b[0m\u001b[0;34m)\u001b[0m\u001b[0;34m)\u001b[0m\u001b[0;34m\u001b[0m\u001b[0m\n\u001b[0m\u001b[1;32m      2\u001b[0m \u001b[0mwords\u001b[0m \u001b[0;34m=\u001b[0m \u001b[0mwords\u001b[0m\u001b[0;34m.\u001b[0m\u001b[0mmap\u001b[0m\u001b[0;34m(\u001b[0m\u001b[0;32mlambda\u001b[0m \u001b[0mx\u001b[0m\u001b[0;34m:\u001b[0m \u001b[0;34m(\u001b[0m\u001b[0mlen\u001b[0m\u001b[0;34m(\u001b[0m\u001b[0mx\u001b[0m\u001b[0;34m)\u001b[0m\u001b[0;34m,\u001b[0m\u001b[0mx\u001b[0m\u001b[0;34m)\u001b[0m\u001b[0;34m)\u001b[0m\u001b[0;34m\u001b[0m\u001b[0m\n\u001b[1;32m      3\u001b[0m \u001b[0mwords\u001b[0m\u001b[0;34m.\u001b[0m\u001b[0mflatMapValues\u001b[0m\u001b[0;34m(\u001b[0m\u001b[0;34m)\u001b[0m\u001b[0;34m\u001b[0m\u001b[0m\n",
      "\u001b[0;31mNameError\u001b[0m: name 'rdm' is not defined"
     ]
    }
   ],
   "source": [
    "words = rdm.flatMap(lambda x: x.split())\n",
    "words = words.map(lambda x: (len(x),x))\n",
    "words.flatMapValues()"
   ]
  },
  {
   "cell_type": "markdown",
   "metadata": {},
   "source": [
    "### reduceByKey\n",
    "\n",
    "similar to reduce ()\n",
    "reuns in parallel reduce operations\n",
    "\n",
    "#### Example 6 - do the word counts - generate word / occurance again"
   ]
  },
  {
   "cell_type": "code",
   "execution_count": 132,
   "metadata": {
    "collapsed": false
   },
   "outputs": [
    {
     "data": {
      "text/plain": [
       "[(u'the', 22),\n",
       " (u'Spark', 15),\n",
       " (u'to', 14),\n",
       " (u'for', 11),\n",
       " (u'and', 11),\n",
       " (u'##', 8),\n",
       " (u'a', 8),\n",
       " (u'run', 7),\n",
       " (u'can', 7),\n",
       " (u'is', 6)]"
      ]
     },
     "execution_count": 132,
     "metadata": {},
     "output_type": "execute_result"
    }
   ],
   "source": [
    "words = rdm.flatMap(lambda x: x.split())\n",
    "words = words.map(lambda x: (x,1))\n",
    "res = words.reduceByKey(lambda x,y: x+y).sortBy(lambda x: x[1], ascending=False)\n",
    "res.collect()[:10]"
   ]
  },
  {
   "cell_type": "markdown",
   "metadata": {},
   "source": [
    "### Which requires less shuffles?\n",
    "\n",
    "    .groupByKey().mapValues(lambda x : sum(x))\n",
    "    - Sends all the values over first, then condenses 2nd with the mapValues\n",
    "\n",
    "    .reduceByKey(lambda x,y: x+y)\n",
    "    - Does partition accumulation first, then send pair to be combined\n",
    "    - FEWER SHUFFLES"
   ]
  },
  {
   "cell_type": "code",
   "execution_count": null,
   "metadata": {
    "collapsed": true
   },
   "outputs": [],
   "source": []
  }
 ],
 "metadata": {
  "kernelspec": {
   "display_name": "Python 2",
   "language": "python",
   "name": "python2"
  },
  "language_info": {
   "codemirror_mode": {
    "name": "ipython",
    "version": 2
   },
   "file_extension": ".py",
   "mimetype": "text/x-python",
   "name": "python",
   "nbconvert_exporter": "python",
   "pygments_lexer": "ipython2",
   "version": "2.7.13"
  }
 },
 "nbformat": 4,
 "nbformat_minor": 1
}
