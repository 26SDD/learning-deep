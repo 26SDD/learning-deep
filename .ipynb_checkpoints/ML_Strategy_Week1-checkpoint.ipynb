{
 "cells": [
  {
   "cell_type": "markdown",
   "metadata": {},
   "source": [
    "# Why ML Strategy"
   ]
  },
  {
   "cell_type": "markdown",
   "metadata": {},
   "source": [
    "Collect more data\n",
    "Collect more diverse training data\n",
    "\n",
    "# There's so much to try\n",
    "\n",
    "### What to tune, to get what effect\n",
    "\n",
    "## Orthogonalization\n",
    "\n",
    "Example: old TV set had different knobs to adjust different parts of the picture. If you had a knob that changed different parts of each item, it would be impossible to tune the TV.\n",
    "\n",
    "Car\n",
    "\n",
    "Steering wheel - left and right\n",
    "Gas + break - speed\n",
    "\n",
    "Imagine if you had a control that did 0.3 speed + 0.4 left. Much harder to control the car then isolated dimension driving. \n",
    "\n",
    "This is orthogonal controls (independent controls) aligned with aspect you want to control. \n",
    "\n",
    "#### Assumptions\n",
    "\n",
    "1. Fit Training set well on cost function (close to human level performance)\n",
    "\n",
    "2. Fit dev set well on cost function\n",
    "\n",
    "3. Fit test set well on cost function\n",
    "\n",
    "4. Performs well in the real world\n",
    "\n",
    "#### Knobs\n",
    "\n",
    "1. Fit Training set well on cost function (close to human level performance)\n",
    "    - **bigger network**\n",
    "    - **adam**\n",
    "    - Some people use early stopping, but it really affects two things\n",
    "\n",
    "2. Fit dev set well on cost function\n",
    "    - **Regularization**\n",
    "    - **bigging training set**\n",
    "\n",
    "3. Fit test set well on cost function\n",
    "    - **Bigger dev set**\n",
    "\n",
    "4. Performs well in the real world\n",
    "    - **change dev set**\n",
    "    - **change the cost function**\n",
    "\n",
    "\n"
   ]
  },
  {
   "cell_type": "markdown",
   "metadata": {},
   "source": [
    "# Single Number Evaluation Metric\n",
    "\n",
    "#### How to measure how well your model is doing\n",
    "\n"
   ]
  },
  {
   "cell_type": "markdown",
   "metadata": {},
   "source": [
    "Lets say you decide to use precision as your main metric for measuring models. \n",
    "\n",
    "**Example 1** The simplest example is that we are making a model and decide to track both the precision and the recall for the model. Which is the more important metric?\n",
    "\n",
    "\n",
    "**Example 2** You have different models that work with differing performance depending on the market. How would you decide on the tradeoffs between the different markets for the \"better\" model?\n"
   ]
  },
  {
   "cell_type": "markdown",
   "metadata": {},
   "source": [
    "# Satisfying and Optimizing Metric\n",
    "\n",
    "**Example 1:** you are training a model that you are tracking the accuracy and running time. \n",
    "\n",
    "The cost function for this would be \n",
    "\n",
    "accuracy - 0.5 running Time\n",
    "\n",
    "You may want to maximize the accuracy and satisficing the running time with a threshold < 100 ms. \n",
    "\n",
    "Maximize (accuracy | < 100 ms )\n",
    "\n",
    "** Example 2: ** Say you are detecting wake words. Either \"alexa\" or hey \"siri\". You might care about accuracy. You might also care about number of false positives. \n",
    "\n",
    "Maximize ( accuracy | 1 false positive every 24 hours)\n",
    "\n",
    "How to setup training dev and test sets for these unique metrics."
   ]
  },
  {
   "cell_type": "markdown",
   "metadata": {},
   "source": [
    "# Train / Dev / test distributions for new Metrics "
   ]
  },
  {
   "cell_type": "markdown",
   "metadata": {},
   "source": [
    "Dev is also called the holdout set. Use it to develop, then finally score on the test set.\n",
    "\n",
    "Lets say your dataset has multiple regions:\n",
    "- US\n",
    "- UK\n",
    "- Other Europe\n",
    "- South America\n",
    "- India\n",
    "- China\n",
    "- Other Asia\n",
    "- Austrailia\n",
    "\n",
    "What if your dev was [ US, UK, Other Europa, South America]? \n",
    "\n",
    "**BAD** - they come from different distributions. \n",
    "\n",
    "Shuffle the test and dev steps to mix regions\n",
    "\n",
    "** Example: Optimizing dev on loan approvals for medium income zip codes**\n",
    "\n",
    "The team tested it on low income zip codes, and the classifier didn't do so well. They spent 3 months aiming at one target and then tested on a completely different test set\n",
    "\n",
    "\n",
    "#### Choose a dev set and test set to reflect data you expect to get in the future and consider important to do well on.\n",
    "\n"
   ]
  },
  {
   "cell_type": "markdown",
   "metadata": {},
   "source": [
    "# Size of the dev and test sets"
   ]
  },
  {
   "cell_type": "markdown",
   "metadata": {},
   "source": [
    "The guidelines are changing. \n",
    "\n",
    "**Previously :** 70 / 30 ratio was used for training and test set\n",
    "\n",
    "**"
   ]
  },
  {
   "cell_type": "code",
   "execution_count": null,
   "metadata": {
    "collapsed": true
   },
   "outputs": [],
   "source": []
  }
 ],
 "metadata": {
  "anaconda-cloud": {},
  "kernelspec": {
   "display_name": "Python [py36]",
   "language": "python",
   "name": "Python [py36]"
  },
  "language_info": {
   "codemirror_mode": {
    "name": "ipython",
    "version": 3
   },
   "file_extension": ".py",
   "mimetype": "text/x-python",
   "name": "python",
   "nbconvert_exporter": "python",
   "pygments_lexer": "ipython3",
   "version": "3.6.2"
  }
 },
 "nbformat": 4,
 "nbformat_minor": 0
}
