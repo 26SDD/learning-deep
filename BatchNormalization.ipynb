{
 "cells": [
  {
   "cell_type": "markdown",
   "metadata": {},
   "source": [
    "# Batch Normalization\n",
    "\n",
    "### Hyper Parameter Tuning\n",
    "\n",
    "Normalizing the input features can speed up the learning. Normalize t\n",
    "\n",
    "Something that is more elongated to something that is more normal. Activations A1 A2 etc. Couldn't we normalize the mean and the variance help train more efficiently?\n",
    "\n",
    "Can we normalize the values of A to train W b fast?\n",
    "\n",
    "This is what batch normalization does\n",
    "\n",
    "Normalizing $Z^2$ \n",
    " "
   ]
  },
  {
   "cell_type": "markdown",
   "metadata": {},
   "source": [
    "## The process\n",
    "\n",
    "Given some intermediate values in NN $$Z^{(1)},...,Z^{(m)}$$ \n",
    "\n",
    "Compute the mean as follows \n",
    "\n",
    "$$\\mu = \\frac{1}{m} \\sum_{i}{Z^{(i)}}$$ \n",
    "\n",
    "$$\\sigma^2 = \\frac{1}{m} \\sum_{i}{(Z - \\mu)} $$\n",
    "\n",
    "$$Z_{norm}^{(i)} = \\frac{Z^{(i)} - \\mu}{\\sqrt{\\sigma^2+\\epsilon}} $$\n",
    "\n",
    "$$\\tilde{Z}^{(i)} = \\gamma Z_{norm}^{(i)} + \\beta $$\n",
    "\n",
    "$\\beta$ and $\\gamma$ are learnable parts of the model. When $\\beta =\\mu$ then  $\\tilde{Z}^{(i)}$ would exactly invert: \n",
    "\n",
    "$$\\frac{Z^{(i)} - \\mu}{\\sqrt{\\sigma^2+\\epsilon}} $$\n",
    "\n",
    "and $$\\tilde{Z}^{(i)} = Z^{(i)}$$\n",
    "\n",
    "These 4 equations are calculating the identify function. Where previously you were using $$Z^{(1)},...,Z^{(m)}$$ \n",
    "\n",
    "We use\n",
    "\n",
    "$$\\tilde{Z}^{(1)} ,..., \\tilde{Z}^{(m)}$$ \n",
    "\n",
    "Normalizing the input features can help learning in a neural network. Batch norm applies that same normlization process not just to the input layer, but to values deep within the hidden layer. Depending on how you have made your NN, you may not want your hidden values to be of $\\mu=0$ and $\\sigma^2 = 1$. consider if you use a sigmoid function, you may not want all your values to be in the linear portion of the sigmoid curve, but may want to take more advantage of the non-linear tails."
   ]
  },
  {
   "cell_type": "code",
   "execution_count": null,
   "metadata": {
    "collapsed": true
   },
   "outputs": [],
   "source": []
  }
 ],
 "metadata": {
  "anaconda-cloud": {},
  "kernelspec": {
   "display_name": "Python [py36]",
   "language": "python",
   "name": "Python [py36]"
  },
  "language_info": {
   "codemirror_mode": {
    "name": "ipython",
    "version": 3
   },
   "file_extension": ".py",
   "mimetype": "text/x-python",
   "name": "python",
   "nbconvert_exporter": "python",
   "pygments_lexer": "ipython3",
   "version": "3.6.2"
  }
 },
 "nbformat": 4,
 "nbformat_minor": 0
}
