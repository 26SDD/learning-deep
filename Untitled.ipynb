{
 "cells": [
  {
   "cell_type": "markdown",
   "metadata": {},
   "source": [
    "# Softmax Regression\n",
    "\n",
    "### Recognizing Dogs, Cats, and Chicks or other\n",
    "\n",
    "It's a multiclass. \n",
    "\n",
    "$ C $ = number of classes = $4 (0, ...3)$\n",
    "\n",
    "$Y$ = will have 4 elements that represent the probability of each of these classes?\n",
    "\n",
    "$P(other | X) $\n",
    "\n",
    "$P(cat | X) $\n",
    "\n",
    "$P(dog | X) $\n",
    "\n",
    "$P(chick | X) $"
   ]
  },
  {
   "cell_type": "markdown",
   "metadata": {},
   "source": [
    "$$ Z^{[l]} = W^{[l]}a^{[l-1]}+b^{[l]}$$\n",
    "\n",
    "$$ t = e^{Z^{[l]}}$$\n",
    "\n",
    "$$ a^{[l]} = \\frac{e^{Z^{[l]}}}{\\sum_{j=1}^C{t_i}}= \\frac{t_i}{\\sum_{j=1}^C{t_i}}$$"
   ]
  },
  {
   "cell_type": "markdown",
   "metadata": {},
   "source": [
    "### A quick Example in Python\n",
    "\n",
    "Let's say that last layer gives the following integer values"
   ]
  },
  {
   "cell_type": "code",
   "execution_count": 13,
   "metadata": {
    "collapsed": false
   },
   "outputs": [
    {
     "data": {
      "text/plain": [
       "array([[ 5],\n",
       "       [ 2],\n",
       "       [-1],\n",
       "       [ 3]])"
      ]
     },
     "execution_count": 13,
     "metadata": {},
     "output_type": "execute_result"
    }
   ],
   "source": [
    "import numpy as np\n",
    "Z = np.array([[5],[2],[-1],[3]])\n",
    "Z"
   ]
  },
  {
   "cell_type": "markdown",
   "metadata": {},
   "source": [
    "Using the above formula, we proceed to calculate the probabilities via softmax"
   ]
  },
  {
   "cell_type": "code",
   "execution_count": 14,
   "metadata": {
    "collapsed": false
   },
   "outputs": [
    {
     "data": {
      "text/plain": [
       "array([[ 148.4131591 ],\n",
       "       [   7.3890561 ],\n",
       "       [   0.36787944],\n",
       "       [  20.08553692]])"
      ]
     },
     "execution_count": 14,
     "metadata": {},
     "output_type": "execute_result"
    }
   ],
   "source": [
    "t = np.exp(Z)\n",
    "t"
   ]
  },
  {
   "cell_type": "code",
   "execution_count": 15,
   "metadata": {
    "collapsed": false
   },
   "outputs": [
    {
     "data": {
      "text/plain": [
       "array([[ 0.84203357],\n",
       "       [ 0.04192238],\n",
       "       [ 0.00208719],\n",
       "       [ 0.11395685]])"
      ]
     },
     "execution_count": 15,
     "metadata": {},
     "output_type": "execute_result"
    }
   ],
   "source": [
    "p = t / np.sum(t)\n",
    "p"
   ]
  },
  {
   "cell_type": "markdown",
   "metadata": {},
   "source": [
    "### Hard Max vs. Softmax\n"
   ]
  },
  {
   "cell_type": "code",
   "execution_count": 18,
   "metadata": {
    "collapsed": false
   },
   "outputs": [
    {
     "data": {
      "text/plain": [
       "array([[1],\n",
       "       [0],\n",
       "       [0],\n",
       "       [0]])"
      ]
     },
     "execution_count": 18,
     "metadata": {},
     "output_type": "execute_result"
    }
   ],
   "source": [
    "p_hard = np.array([[1],[0],[0],[0]])\n",
    "p_hard"
   ]
  },
  {
   "cell_type": "markdown",
   "metadata": {},
   "source": [
    "### Loss Function\n",
    "\n",
    "$$ L(\\hat{y},y) = - \\sum_{j=1}^C{y_j log{\\hat{y}_j}}$$"
   ]
  },
  {
   "cell_type": "code",
   "execution_count": 20,
   "metadata": {
    "collapsed": false
   },
   "outputs": [
    {
     "data": {
      "text/plain": [
       "array([[0],\n",
       "       [1],\n",
       "       [0],\n",
       "       [0]])"
      ]
     },
     "execution_count": 20,
     "metadata": {},
     "output_type": "execute_result"
    }
   ],
   "source": [
    "y_cat = np.array([[0],[1],[0],[0]])\n",
    "y_cat"
   ]
  },
  {
   "cell_type": "code",
   "execution_count": 22,
   "metadata": {
    "collapsed": false
   },
   "outputs": [
    {
     "data": {
      "text/plain": [
       "array([[ 0.3],\n",
       "       [ 0.2],\n",
       "       [ 0.1],\n",
       "       [ 0.4]])"
      ]
     },
     "execution_count": 22,
     "metadata": {},
     "output_type": "execute_result"
    }
   ],
   "source": [
    "y_est = np.array([[0.3],[0.2],[0.1],[0.4]])\n",
    "y_est"
   ]
  },
  {
   "cell_type": "markdown",
   "metadata": {},
   "source": [
    "### Cost Function"
   ]
  },
  {
   "cell_type": "markdown",
   "metadata": {},
   "source": [
    "$$ J = \\frac{1}{m} \\sum_{j=1}^C{y_j log{\\hat{y}_j}}$$"
   ]
  },
  {
   "cell_type": "code",
   "execution_count": 35,
   "metadata": {
    "collapsed": false
   },
   "outputs": [
    {
     "name": "stdout",
     "output_type": "stream",
     "text": [
      "0.9897670700771924\n"
     ]
    }
   ],
   "source": [
    "print(1-10.0**-1.99)"
   ]
  },
  {
   "cell_type": "code",
   "execution_count": null,
   "metadata": {
    "collapsed": true
   },
   "outputs": [],
   "source": []
  }
 ],
 "metadata": {
  "kernelspec": {
   "display_name": "Python [py36]",
   "language": "python",
   "name": "Python [py36]"
  },
  "language_info": {
   "codemirror_mode": {
    "name": "ipython",
    "version": 3
   },
   "file_extension": ".py",
   "mimetype": "text/x-python",
   "name": "python",
   "nbconvert_exporter": "python",
   "pygments_lexer": "ipython3",
   "version": "3.6.2"
  }
 },
 "nbformat": 4,
 "nbformat_minor": 0
}
